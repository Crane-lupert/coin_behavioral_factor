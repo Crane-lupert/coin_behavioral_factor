{
 "cells": [
  {
   "cell_type": "code",
   "execution_count": 45,
   "id": "9a47a22f-154f-4521-899e-ecf7e4e76e25",
   "metadata": {
    "scrolled": true
   },
   "outputs": [
    {
     "name": "stdout",
     "output_type": "stream",
     "text": [
      "응 이미있어.\n"
     ]
    }
   ],
   "source": [
    "import ccxt.pro as ccxtpro\n",
    "import asyncio\n",
    "import nest_asyncio\n",
    "import pandas as pd\n",
    "import numpy as np\n",
    "from datetime import datetime, timedelta\n",
    "import statsmodels.api as sm\n",
    "import os\n",
    "import warnings\n",
    "\n",
    "warnings.filterwarnings('ignore')\n",
    "\n",
    "nest_asyncio.apply()\n",
    "\n",
    "if not os.path.exists(f'binance_futures.csv'):\n",
    "    # API 키 로드\n",
    "    with open('binance_api.txt', 'r') as file:\n",
    "        api_key = file.readline().strip()\n",
    "        secret = file.readline().strip()\n",
    "    \n",
    "    # 거래소 설정\n",
    "    exchange = ccxtpro.binance({\n",
    "        'apiKey': api_key,\n",
    "        'secret': secret,\n",
    "        'enableRateLimit': True,\n",
    "        'options': {'defaultType': 'future'}\n",
    "    })\n",
    "    \n",
    "    async def fetch_symbol_data(exchange, symbol, since):\n",
    "        \"\"\"\n",
    "        특정 심볼의 OHLCV 데이터를 가져오고 날짜 인덱스로 설정합니다.\n",
    "    \n",
    "        입력값:\n",
    "        - exchange: ccxtpro 거래소 객체\n",
    "        - symbol: 심볼 문자열\n",
    "        - since: 데이터 시작 시점 (timestamp)\n",
    "    \n",
    "        출력값:\n",
    "        - (symbol, df): 심볼과 해당 심볼의 데이터프레임 튜플\n",
    "        \"\"\"\n",
    "        try:\n",
    "            all_ohlcv = []\n",
    "            while since < exchange.milliseconds():\n",
    "                ohlcv = await exchange.fetch_ohlcv(symbol, '1d', since=since, limit=500)\n",
    "                if not ohlcv:\n",
    "                    break\n",
    "                all_ohlcv += ohlcv\n",
    "                since = ohlcv[-1][0] + 1  # 마지막 timestamp를 업데이트하여 다음 batch의 데이터를 가져옴\n",
    "    \n",
    "            # 데이터프레임 생성\n",
    "            df = pd.DataFrame(all_ohlcv, columns=['timestamp', 'open', 'high', 'low', 'close', 'volume'])\n",
    "            df['quote_volume'] = df['volume'] * df['close']  # 일 단위로 거래량을 USDT로 환산\n",
    "            df['timestamp'] = pd.to_datetime(df['timestamp'], unit='ms')\n",
    "            df.set_index('timestamp', inplace=True)\n",
    "    \n",
    "            return symbol, df\n",
    "        except Exception as e:\n",
    "            print(f\"Error fetching data for {symbol}: {e}\")\n",
    "            return symbol, None\n",
    "    \n",
    "    async def get_top_symbols_by_volume(exchange, n=40):\n",
    "        \"\"\"\n",
    "        상위 n개의 심볼을 2021-10-27부터 현재까지의 거래량 기준으로 선택합니다.\n",
    "        충족하는 심볼이 n개 이하일 경우에도 가능한 데이터를 반환합니다.\n",
    "    \n",
    "        입력값:\n",
    "        - exchange: ccxtpro 거래소 객체\n",
    "        - n: 선택할 심볼의 개수\n",
    "    \n",
    "        출력값:\n",
    "        - selected_symbols: 상위 n개의 (symbol, df) 튜플 리스트\n",
    "        \"\"\"\n",
    "        await exchange.load_markets()\n",
    "        symbols = [symbol for symbol in exchange.markets if exchange.markets[symbol]['active'] and '/USDT' in symbol]\n",
    "    \n",
    "        # 기준 기간: 2021-10-27부터 현재까지\n",
    "        volume_start_date = pd.Timestamp('2021-10-27').normalize()\n",
    "        volume_start_timestamp = exchange.parse8601(volume_start_date.strftime('%Y-%m-%dT%H:%M:%SZ'))\n",
    "    \n",
    "        # 데이터 수집 기간: 5년 전부터 현재까지\n",
    "        data_collection_start_date = datetime.now() - timedelta(days=5*365)\n",
    "        data_collection_start_timestamp = exchange.parse8601(data_collection_start_date.strftime('%Y-%m-%dT%H:%M:%SZ'))\n",
    "    \n",
    "        # 기준 기간 동안의 거래량 합산을 위한 데이터 수집\n",
    "        tasks = [fetch_symbol_data(exchange, symbol, volume_start_timestamp) for symbol in symbols]\n",
    "        symbol_data = await asyncio.gather(*tasks)\n",
    "    \n",
    "        # 중복 제거 및 데이터 유효성 확인\n",
    "        unique_symbol_data = {}\n",
    "        for symbol, df in symbol_data:\n",
    "            if df is not None:\n",
    "                clean_symbol = symbol.split(':')[0]\n",
    "                perp_symbol = clean_symbol + ':USDT'\n",
    "                if perp_symbol not in unique_symbol_data:\n",
    "                    # 기준 기간 동안의 거래량 합산\n",
    "                    volume_sum = df.loc[df.index >= volume_start_date, 'quote_volume'].sum()\n",
    "                    unique_symbol_data[perp_symbol] = (df, volume_sum)\n",
    "    \n",
    "        # 거래량이 상위 n개인 심볼을 선택\n",
    "        sorted_symbols = sorted(unique_symbol_data.items(), key=lambda x: x[1][1], reverse=True)\n",
    "    \n",
    "        # 가능한 심볼 선택 (최대 n개)\n",
    "        selected_symbols = []\n",
    "        idx = 0\n",
    "        while idx < len(sorted_symbols):\n",
    "            symbol, (df, _) = sorted_symbols[idx]\n",
    "            if df.index.min() <= volume_start_date:\n",
    "                selected_symbols.append((symbol, df))\n",
    "            idx += 1\n",
    "            if len(selected_symbols) >= n:  # 최대 n개까지만 선택\n",
    "                break\n",
    "    \n",
    "        # 선택된 심볼이 없을 경우 경고 메시지 출력\n",
    "        if len(selected_symbols) == 0:\n",
    "            print(\"No symbols found with sufficient data starting from 2021-10-27.\")\n",
    "    \n",
    "        # 데이터를 포함한 심볼을 최초 데이터 입력일자(최소 날짜) 기준으로 추가 정렬\n",
    "        selected_symbols = sorted(selected_symbols, key=lambda x: x[1].index.min())\n",
    "    \n",
    "        return selected_symbols\n",
    "    \n",
    "    async def merge_dataframes(exchange, n=40):\n",
    "        \"\"\"\n",
    "        상위 n개의 데이터를 병합하여 하나의 데이터프레임으로 반환합니다.\n",
    "    \n",
    "        입력값:\n",
    "        - exchange: ccxtpro 거래소 객체\n",
    "        - n: 선택할 심볼의 개수\n",
    "    \n",
    "        출력값:\n",
    "        - 병합된 데이터프레임\n",
    "        \"\"\"\n",
    "        top_symbols_data = await get_top_symbols_by_volume(exchange, n)\n",
    "        \n",
    "        if len(top_symbols_data) == 0:\n",
    "            print(\"No valid symbols available to merge.\")\n",
    "            return None  # 데이터가 없는 경우 None 반환\n",
    "    \n",
    "        # 날짜 인덱스를 기준으로 수평 병합\n",
    "        merged_df = None\n",
    "        for symbol, df in top_symbols_data:\n",
    "            # 컬럼을 멀티 레벨로 설정\n",
    "            df.columns = pd.MultiIndex.from_product([[symbol], df.columns])\n",
    "            \n",
    "            if merged_df is None:\n",
    "                merged_df = df\n",
    "            else:\n",
    "                merged_df = merged_df.join(df, how='outer')\n",
    "    \n",
    "        return merged_df\n",
    "    \n",
    "    # 병합된 데이터 준비\n",
    "    merged_df = asyncio.run(merge_dataframes(exchange, 40))\n",
    "    \n",
    "    # 병합된 데이터프레임이 None이 아닌지 확인 후 저장\n",
    "    if merged_df is not None:\n",
    "        merged_df.to_csv('binance_futures.csv')\n",
    "        print(\"Data successfully saved to 'binance_futures.csv'\")\n",
    "    else:\n",
    "        print(\"No data to save, merged_df is None\")\n",
    "else:\n",
    "    # CSV 파일 로드 시 인덱스를 DatetimeIndex로 설정\n",
    "    merged_df = pd.read_csv('binance_futures.csv', header=[0, 1], index_col=0, parse_dates=True)\n",
    "    print(\"응 이미있어.\")"
   ]
  },
  {
   "cell_type": "code",
   "execution_count": 46,
   "id": "67b3908e-4419-420f-9f39-288bb873320a",
   "metadata": {
    "scrolled": true
   },
   "outputs": [],
   "source": [
    "# merged_df의 복사본 생성\n",
    "daily_df = merged_df.copy()\n",
    "\n",
    "# 각 심볼에 대한 일별 수익률 및 누적 수익률 계산\n",
    "for symbol in daily_df.columns.levels[0]:\n",
    "    daily_df[(symbol, 'returns')] = daily_df[(symbol, 'close')].pct_change()\n",
    "    daily_df[(symbol, 'cumulative_returns')] = (1 + daily_df[(symbol, 'returns')]).cumprod() - 1\n",
    "\n",
    "# 월별 데이터 계산\n",
    "monthly_df = daily_df.resample('M').last()\n",
    "\n",
    "# 각 심볼에 대한 월별 수익률 계산\n",
    "for symbol in daily_df.columns.levels[0]:\n",
    "    monthly_df[(symbol, 'monthly_returns')] = monthly_df[(symbol, 'close')].pct_change()\n",
    "\n",
    "# 일별 데이터에 월별 수익률 추가 (월 마지막 날에만 값이 존재)\n",
    "for symbol in daily_df.columns.levels[0]:\n",
    "    daily_df[(symbol, 'monthly_returns')] = monthly_df[(symbol, 'monthly_returns')].reindex(daily_df.index, method='ffill')\n"
   ]
  },
  {
   "cell_type": "code",
   "execution_count": 47,
   "id": "169d2fa5",
   "metadata": {},
   "outputs": [],
   "source": [
    "# (재필) 크립토명-종가/수익률 등등 순서대로 나오도록 정렬\n",
    "\n",
    "monthly_df.sort_index(axis=1, inplace=True)\n",
    "daily_df.sort_index(axis=1, inplace=True)"
   ]
  },
  {
   "cell_type": "code",
   "execution_count": 48,
   "id": "2c96037b",
   "metadata": {},
   "outputs": [],
   "source": [
    "\n",
    "# Prospect Theory 관련 함수 정의\n",
    "def prospect_value(r):\n",
    "    return np.where(r >= 0, r ** 0.88, -2.25 * (-r) ** 0.88)\n",
    "\n",
    "def weight_function(n, i):\n",
    "    return (n - i + 1) / (n * (n + 1) / 2)\n",
    "\n",
    "# TK 값 계산을 위한 창 설정\n",
    "daily_window = 150\n",
    "monthly_window = 12\n",
    "\n",
    "# 각 심볼에 대한 TK 값 및 기타 지표 계산\n",
    "for symbol in daily_df.columns.levels[0]:\n",
    "    # 일별 수익률 및 초과 수익률 계산\n",
    "    # (재필) excess return을 daily return에서 cross sectional equal weight mean return을 빼주려고 한거같은데\n",
    "    # 이렇게 하면 한 종목의 return의 전 기간 평균을 빼주게 되는거라 맞지 않는 듯 함. \n",
    "    daily_df[(symbol, 'excess_returns')] = daily_df[(symbol, 'returns')] - daily_df[(symbol, 'returns')].mean() \n",
    "\n",
    "    # TK 값 계산 (rolling.apply 사용)\n",
    "    def compute_tk(past_returns):\n",
    "        if np.isnan(past_returns).any():\n",
    "            return np.nan\n",
    "        sorted_returns = np.sort(past_returns)\n",
    "        pv = prospect_value(sorted_returns)\n",
    "        weights = np.array([weight_function(daily_window, i) for i in range(1, daily_window + 1)])\n",
    "        return np.dot(pv, weights)\n",
    "\n",
    "    daily_df[(symbol, 'tk_value')] = daily_df[(symbol, 'excess_returns')].rolling(window=daily_window).apply(compute_tk, raw=True)\n",
    "\n",
    "    # Overhang 값 계산\n",
    "    if (symbol, 'quote_volume') not in daily_df.columns:\n",
    "        daily_df[(symbol, 'quote_volume')] = daily_df[(symbol, 'volume')] * daily_df[(symbol, 'close')]\n",
    "\n",
    "    # Turnover 계산 (0으로 나누는 경우 방지)\n",
    "    rolling_quote_volume_sum = daily_df[(symbol, 'quote_volume')].rolling(window=daily_window).sum()\n",
    "    daily_df[(symbol, 'turnover')] = daily_df[(symbol, 'quote_volume')] / rolling_quote_volume_sum.replace(0, np.nan)\n",
    "\n",
    "    # 가중 평균 Turnover 계산\n",
    "    weights = np.array([(1 - 0.3) ** i for i in range(daily_window)])\n",
    "    weights /= weights.sum()\n",
    "\n",
    "    def weighted_turnover_func(x):\n",
    "        if np.isnan(x).any():\n",
    "            return np.nan\n",
    "        return np.dot(x, weights)\n",
    "\n",
    "    daily_df[(symbol, 'weighted_turnover')] = daily_df[(symbol, 'turnover')].rolling(window=daily_window).apply(weighted_turnover_func, raw=True)\n",
    "\n",
    "    # 가중 평균 Turnover를 이용한 가중 가격 및 잠정 수익률 계산\n",
    "    daily_df[(symbol, 'weighted_price')] = daily_df[(symbol, 'weighted_turnover')] * daily_df[(symbol, 'close')]\n",
    "    daily_df[(symbol, 'potential_return')] = daily_df[(symbol, 'close')] / daily_df[(symbol, 'weighted_price')] - 1\n",
    "\n",
    "# 멀티 인덱스 정렬\n",
    "daily_df = daily_df.sort_index(axis=1, level=[0, 1])"
   ]
  },
  {
   "cell_type": "code",
   "execution_count": 49,
   "id": "919821cc-709a-4600-a326-2b58ae6517fa",
   "metadata": {},
   "outputs": [],
   "source": [
    "# 일별 수익률, 선행 수익률, 로그 총수익률 계산 (중복 제거)\n",
    "for symbol in daily_df.columns.levels[0]:\n",
    "    daily_df[(symbol, 'shifted_returns')] = daily_df[(symbol, 'returns')].shift(1)\n",
    "    daily_df[(symbol, 'log_gross_returns')] = np.log(1 + daily_df[(symbol, 'shifted_returns')])\n",
    "\n",
    "# 월별 로그 수익률 계산\n",
    "# 'log_gross_returns'는 각 심볼별로 존재하므로, 이를 크로스 섹션으로 선택\n",
    "monthly_log_returns = daily_df.xs('log_gross_returns', level=1, axis=1).resample('M').sum()\n",
    "\n",
    "# 무위험 수익률(Risk-Free Rate) 계산: 해당 월의 모든 종목의 평균 로그 수익률\n",
    "monthly_log_returns['risk_free_rate'] = monthly_log_returns.mean(axis=1)\n",
    "\n",
    "# 각 종목의 초과수익률(Excess Log Returns) 계산\n",
    "for symbol in daily_df.columns.levels[0]:\n",
    "    if symbol in monthly_log_returns.columns:\n",
    "        monthly_log_returns[f'{symbol}_excess_log_returns'] = monthly_log_returns[symbol] - monthly_log_returns['risk_free_rate']\n",
    "    else:\n",
    "        print(f\"Warning: {symbol} not found in monthly_log_returns.columns\")\n",
    "\n",
    "# 팩터 값을 저장하기 위한 새로운 DataFrame 생성\n",
    "factor_df = pd.DataFrame(index=daily_df.index)\n",
    "\n",
    "### 1. 모멘텀 팩터 계산 ###\n",
    "for symbol in monthly_df.columns.levels[0]:\n",
    "    # 12개월 모멘텀 계산\n",
    "    momentum = (monthly_df[(symbol, 'close')].shift(1) / monthly_df[(symbol, 'close')].shift(monthly_window)) - 1\n",
    "    # 일 단위로 확장\n",
    "    factor_df[(symbol, 'momentum')] = momentum.reindex(daily_df.index, method='ffill')\n",
    "\n",
    "### 2. 시계열 모멘텀 팩터 계산 ###\n",
    "for symbol in daily_df.columns.levels[0]:\n",
    "    excess_log_col = f'{symbol}_excess_log_returns'\n",
    "    if excess_log_col in monthly_log_returns.columns:\n",
    "        # 12개월 누적 초과 로그 수익률 계산\n",
    "        ts_momentum = monthly_log_returns[excess_log_col].rolling(window=monthly_window).sum().shift(1)\n",
    "        # 일 단위로 확장\n",
    "        factor_df[(symbol, 'ts_momentum')] = ts_momentum.reindex(daily_df.index, method='ffill')\n",
    "    else:\n",
    "        print(f\"Warning: {excess_log_col} not found in monthly_log_returns.columns\")\n",
    "        factor_df[(symbol, 'ts_momentum')] = np.nan\n",
    "\n",
    "### 3. 52주 고가 대비 비율 계산 ###\n",
    "for symbol in monthly_df.columns.levels[0]:\n",
    "    # 52주(12개월) 고가 계산\n",
    "    high_52_week = monthly_df[(symbol, 'high')].rolling(window=monthly_window).max()\n",
    "    # 비율 계산\n",
    "    ratio_to_high = monthly_df[(symbol, 'close')] / high_52_week\n",
    "    # 일 단위로 확장\n",
    "    factor_df[(symbol, 'ratio_to_high')] = ratio_to_high.reindex(daily_df.index, method='ffill')\n",
    "\n",
    "### 4. TK 팩터 계산 ###\n",
    "for symbol in monthly_df.columns.levels[0]:\n",
    "    # 12개월 TK 값 계산\n",
    "    excess_log_col = f'{symbol}_excess_log_returns'\n",
    "    if excess_log_col in monthly_log_returns.columns:\n",
    "        def compute_monthly_tk(past_returns):\n",
    "            if np.isnan(past_returns).any():\n",
    "                return np.nan\n",
    "            sorted_returns = np.sort(past_returns)\n",
    "            pv = prospect_value(sorted_returns)\n",
    "            weights = np.array([weight_function(monthly_window, i) for i in range(1, monthly_window + 1)])\n",
    "            return np.dot(pv, weights)\n",
    "        \n",
    "        monthly_df[(symbol, 'tk_value')] = monthly_log_returns[excess_log_col].rolling(window=monthly_window).apply(compute_monthly_tk, raw=True)\n",
    "        # 일 단위로 확장\n",
    "        factor_df[(symbol, 'tk_value')] = monthly_df[(symbol, 'tk_value')].reindex(daily_df.index, method='ffill')\n",
    "    else:\n",
    "        print(f\"Warning: {excess_log_col} not found in monthly_log_returns.columns\")\n",
    "        factor_df[(symbol, 'tk_value')] = np.nan\n",
    "\n",
    "### 5. Overhang 팩터 계산 ###\n",
    "for symbol in monthly_df.columns.levels[0]:\n",
    "    # 잠재적 수익률은 이미 계산되어 있으므로 이를 팩터로 추가\n",
    "    factor_df[(symbol, 'potential_return')] = daily_df[(symbol, 'potential_return')]\n",
    "\n",
    "### 6. Maxing Out 팩터 계산 ###\n",
    "for symbol in daily_df.columns.levels[0]:\n",
    "    # 지난 한 달(30일) 동안의 최대 일일 수익률 계산\n",
    "    max_return = daily_df[(symbol, 'returns')].rolling(window=30).max()\n",
    "    factor_df[(symbol, 'max_return')] = max_return\n",
    "\n",
    "### 7. Salience 팩터 계산 ###\n",
    "theta = 0.88\n",
    "delta = 0.65\n",
    "# 시장 수익률 계산: 모든 종목의 평균 수익률\n",
    "market_returns = daily_df.xs('returns', level=1, axis=1).mean(axis=1)\n",
    "\n",
    "def calculate_salience(r, m_r, theta, delta):\n",
    "    return (np.abs(r - m_r) ** theta) / (np.abs(r) ** theta + delta * np.abs(m_r) ** theta)\n",
    "\n",
    "for symbol in daily_df.columns.levels[0]:\n",
    "    # Salience 계산\n",
    "    salience_values = calculate_salience(daily_df[(symbol, 'returns')], market_returns, theta, delta)\n",
    "    factor_df[(symbol, 'salience')] = salience_values\n",
    "\n",
    "# 팩터 데이터프레임을 멀티 인덱스로 정렬\n",
    "factor_df = factor_df.sort_index(axis=1, level=[0, 1])\n",
    "factor_df.to_csv('factor.csv')"
   ]
  },
  {
   "cell_type": "code",
   "execution_count": 50,
   "id": "f5cd5476-01f6-4e8e-beb8-0370c383ba39",
   "metadata": {
    "scrolled": true
   },
   "outputs": [
    {
     "name": "stdout",
     "output_type": "stream",
     "text": [
      "Benchmark Returns:\n",
      "timestamp\n",
      "2021-10-31    0.215302\n",
      "2021-11-30    0.283248\n",
      "2021-12-31   -0.183973\n",
      "2022-01-31   -0.318677\n",
      "2022-02-28   -0.001011\n",
      "Freq: ME, dtype: float64\n"
     ]
    }
   ],
   "source": [
    "import numpy as np\n",
    "import pandas as pd\n",
    "import plotly.express as px\n",
    "import os\n",
    "\n",
    "# ---------------------------\n",
    "# 1. 데이터 준비\n",
    "# ---------------------------\n",
    "\n",
    "# daily_df와 factor_df는 이미 계산되어 있다고 가정합니다.\n",
    "# daily_df: MultiIndex 컬럼 구조 (symbol, attribute), 예: ('BTC/USDT', 'close')\n",
    "# factor_df: MultiIndex 컬럼 구조 (symbol, factor), 예: ('BTC/USDT', 'momentum')\n",
    "\n",
    "# 예시 데이터 확인 (실제 데이터로 대체하세요)\n",
    "# print(daily_df.head())\n",
    "# print(factor_df.head())\n",
    "\n",
    "# ---------------------------\n",
    "# 2. 멀티 인덱스 컬럼 설정\n",
    "# ---------------------------\n",
    "\n",
    "# factor_df 컬럼이 튜플 형태로 되어있는지 확인하고, 멀티 인덱스로 변환\n",
    "if not isinstance(factor_df.columns, pd.MultiIndex):\n",
    "    try:\n",
    "        # 컬럼 이름이 문자열이라면 튜플 형태로 변환\n",
    "        factor_df.columns = pd.MultiIndex.from_tuples(\n",
    "            [(col,) if isinstance(col, str) else col for col in factor_df.columns]\n",
    "        )\n",
    "    except Exception as e:\n",
    "        print(\"factor_df.columns을 MultiIndex로 변환하는 중 오류 발생:\", e)\n",
    "\n",
    "# daily_df 컬럼이 튜플 형태로 되어있는지 확인하고, 멀티 인덱스로 변환\n",
    "if not isinstance(daily_df.columns, pd.MultiIndex):\n",
    "    try:\n",
    "        # 컬럼 이름이 문자열이라면 튜플 형태로 변환\n",
    "        daily_df.columns = pd.MultiIndex.from_tuples(\n",
    "            [(col,) if isinstance(col, str) else col for col in daily_df.columns]\n",
    "        )\n",
    "    except Exception as e:\n",
    "        print(\"daily_df.columns을 MultiIndex로 변환하는 중 오류 발생:\", e)\n",
    "\n",
    "# ---------------------------\n",
    "# 3. 벤치마크 수익률 계산\n",
    "# ---------------------------\n",
    "\n",
    "# 일별 수익률이 이미 'returns' 열에 계산되어 있다고 가정\n",
    "# 월별 누적 수익률 계산: (1 + 일별 수익률).resample('M').apply(np.prod) - 1\n",
    "monthly_returns = (1 + daily_df.xs('returns', level=1, axis=1)).resample('M').apply(np.prod) - 1\n",
    "\n",
    "# 벤치마크: 모든 종목의 월별 누적 수익률의 평균 (동일가중)\n",
    "benchmark_returns = monthly_returns.mean(axis=1)\n",
    "\n",
    "# 벤치마크 수익률 확인\n",
    "print(\"Benchmark Returns:\")\n",
    "print(benchmark_returns.head())\n",
    "\n",
    "# ---------------------------\n",
    "# 4. 백테스팅 전략 설정 및 수행\n",
    "# ---------------------------\n",
    "\n",
    "# 전략 설정\n",
    "factors = ['momentum', 'ts_momentum', 'ratio_to_high', 'tk_value', 'potential_return', 'max_return', 'salience']\n",
    "percentiles = [10, 20, 30]  # 추가된 30% 퍼센타일\n",
    "weighting_methods = ['equal_weighted', 'value_weighted']\n",
    "\n",
    "# 백테스트 결과를 저장할 딕셔너리 초기화\n",
    "performance_results = {}\n",
    "\n",
    "# 백테스트 로그를 저장할 딕셔너리 초기화\n",
    "# 각 전략별로 DataFrame을 저장하여 날짜, longs, shorts, returns 기록\n",
    "strategy_logs = {f\"{factor}_{percentile}pct_{weight}\": pd.DataFrame(columns=['Date', 'Longs', 'Shorts', 'Return'])\n",
    "                for factor in factors for percentile in percentiles for weight in weighting_methods}\n",
    "\n",
    "# 기본 모멘텀 전략 관련 추가 전략도 포함\n",
    "basic_momentum_strategies = [\n",
    "    ('entry10pct_retain20pct', 10, 20),\n",
    "    ('entry10pct_no_retain', 10, 0)\n",
    "]\n",
    "for suffix, entry_pct, retain_pct in basic_momentum_strategies:\n",
    "    for weight in weighting_methods:\n",
    "        strategy_id = f\"momentum_{suffix}_{weight}\"  # e.g., 'momentum_entry10pct_retain20pct_equal_weighted'\n",
    "        strategy_logs[strategy_id] = pd.DataFrame(columns=['Date', 'Longs', 'Shorts', 'Return'])\n",
    "\n",
    "# 시계열 모멘텀 및 추가적인 전략도 포함\n",
    "for percentile in [10, 20]:\n",
    "    for weight in weighting_methods:\n",
    "        strategy_id = f\"ts_momentum_directional_{percentile}pct_{weight}\"\n",
    "        strategy_logs[strategy_id] = pd.DataFrame(columns=['Date', 'Longs', 'Shorts', 'Return'])\n",
    "\n",
    "# 추가적인 횡단면적 전략\n",
    "for factor in factors:\n",
    "    for percentile in [10, 20, 30]:\n",
    "        for weight in weighting_methods:\n",
    "            strategy_id = f\"{factor}_{percentile}pct_{weight}\"\n",
    "            strategy_logs[strategy_id] = pd.DataFrame(columns=['Date', 'Longs', 'Shorts', 'Return'])\n",
    "\n",
    "# 월말 기준으로 팩터 데이터 리샘플링\n",
    "monthly_factors = factor_df.resample('M').last()\n",
    "\n",
    "# 투자 비율 설정 (100%)\n",
    "investment_rate = 0.2  # 100%로 설정\n",
    "\n",
    "# 전체 종목 리스트\n",
    "symbols = factor_df.columns.levels[0]\n",
    "\n",
    "# ---------------------------\n",
    "# 4.1. 일반적인 퍼센타일 기반 포트폴리오 구성\n",
    "# ---------------------------\n",
    "\n",
    "for factor in factors:\n",
    "    for percentile in percentiles:\n",
    "        for weight in weighting_methods:\n",
    "            # 전략 식별자 생성\n",
    "            strategy_id = f\"{factor}_{percentile}pct_{weight}\"\n",
    "            \n",
    "            # 현재 팩터의 값 추출\n",
    "            try:\n",
    "                factor_values = factor_df.xs(factor, level=1, axis=1)\n",
    "            except KeyError:\n",
    "                print(f\"팩터 '{factor}'가 factor_df에 존재하지 않습니다.\")\n",
    "                continue\n",
    "            \n",
    "            # 상위 및 하위 퍼센타일 기준 임계값 계산\n",
    "            top_threshold = factor_values.quantile(1 - percentile / 100, axis=1)\n",
    "            bottom_threshold = factor_values.quantile(percentile / 100, axis=1)\n",
    "            \n",
    "            # 포트폴리오 가중치 초기화\n",
    "            portfolios = pd.DataFrame(0, index=monthly_factors.index, columns=factor_values.columns)\n",
    "            \n",
    "            # 각 월별로 상위/하위 종목 선택 및 가중치 할당\n",
    "            for date in monthly_factors.index:\n",
    "                if date not in factor_values.index:\n",
    "                    continue\n",
    "                current_factors = factor_values.loc[date]\n",
    "                \n",
    "                # 상위 퍼센타일 종목\n",
    "                longs = current_factors[current_factors >= top_threshold.loc[date]].index.tolist()\n",
    "                # 하위 퍼센타일 종목\n",
    "                shorts = current_factors[current_factors <= bottom_threshold.loc[date]].index.tolist()\n",
    "                \n",
    "                # 1개월 후의 수익률 계산\n",
    "                try:\n",
    "                    current_pos = monthly_returns.index.get_loc(date)\n",
    "                    next_month = monthly_returns.index[current_pos + 1]\n",
    "                    # 롱 포지션 수익률: 각 롱 종목의 다음 달 수익률 평균\n",
    "                    long_return = monthly_returns.loc[next_month, longs].mean() if len(longs) > 0 else 0\n",
    "                    # 숏 포지션 수익률: 각 숏 종목의 다음 달 수익률 평균\n",
    "                    short_return = monthly_returns.loc[next_month, shorts].mean() if len(shorts) > 0 else 0\n",
    "                    # 전체 포트폴리오 수익률: 롱 수익률 - 숏 수익률\n",
    "                    portfolio_return = long_return - short_return\n",
    "                except (IndexError, KeyError):\n",
    "                    # 다음 달 데이터가 없는 경우 NaN으로 설정\n",
    "                    portfolio_return = np.nan\n",
    "                \n",
    "                # 포트폴리오 수익률 로그 저장\n",
    "                new_log = pd.DataFrame([{\n",
    "                    'Date': date,\n",
    "                    'Longs': ','.join(longs),    # 롱 종목을 쉼표로 구분한 문자열로 저장\n",
    "                    'Shorts': ','.join(shorts),  # 숏 종목을 쉼표로 구분한 문자열로 저장\n",
    "                    'Return': portfolio_return\n",
    "                }])\n",
    "                strategy_logs[strategy_id] = pd.concat([strategy_logs[strategy_id], new_log], ignore_index=True)\n",
    "                \n",
    "                # 가중치 할당\n",
    "                if weight == 'equal_weighted':\n",
    "                    if len(longs) > 0:\n",
    "                        portfolios.loc[date, longs] += 1 / len(longs)\n",
    "                    if len(shorts) > 0:\n",
    "                        portfolios.loc[date, shorts] -= 1 / len(shorts)\n",
    "                elif weight == 'value_weighted':\n",
    "                    if len(longs) > 0:\n",
    "                        try:\n",
    "                            # 팩터 값을 기준으로 가중치 할당\n",
    "                            long_factors = current_factors.loc[list(longs)]\n",
    "                            long_weights = long_factors / long_factors.sum()\n",
    "                            portfolios.loc[date, longs] += long_weights\n",
    "                        except KeyError:\n",
    "                            print(f\"롱 포지션 종목의 팩터 데이터가 없습니다: {longs}\")\n",
    "                    if len(shorts) > 0:\n",
    "                        try:\n",
    "                            # 팩터 값을 기준으로 가중치 할당\n",
    "                            short_factors = current_factors.loc[list(shorts)]\n",
    "                            short_weights = short_factors / short_factors.sum()\n",
    "                            portfolios.loc[date, shorts] -= short_weights\n",
    "                        except KeyError:\n",
    "                            print(f\"숏 포지션 종목의 팩터 데이터가 없습니다: {shorts}\")\n",
    "            \n",
    "            # 투자 비율 제한 (100%)\n",
    "            portfolios = portfolios * investment_rate\n",
    "            \n",
    "            # 포트폴리오 수익률 계산\n",
    "            # 포트폴리오 가중치를 이전 월의 포트폴리오로 시프트하여 리밸런싱 시점 반영\n",
    "            aligned_weights = portfolios.shift(1).reindex(monthly_returns.index).fillna(0)\n",
    "            \n",
    "            # 포트폴리오의 월별 수익률 계산 (팩터 값을 기준으로 가중치 할당)\n",
    "            portfolio_monthly_returns = (aligned_weights * monthly_returns).sum(axis=1)\n",
    "            \n",
    "            # 초과 수익률 계산 (포트폴리오 수익률 - 벤치마크 수익률)\n",
    "            excess_returns = portfolio_monthly_returns - benchmark_returns\n",
    "            \n",
    "            # 백테스트 결과 저장\n",
    "            performance_results[strategy_id] = pd.DataFrame({\n",
    "                'Portfolio_Return': portfolio_monthly_returns,\n",
    "                'Excess_Return': excess_returns\n",
    "            })\n",
    "\n",
    "# ---------------------------\n",
    "# 4.2. 기본 모멘텀 전략: 진입조건 10%, 보유조건 20%\n",
    "# ---------------------------\n",
    "\n",
    "# 팩터 및 퍼센타일 설정\n",
    "basic_momentum_factor = 'momentum'\n",
    "entry_percentile = 10\n",
    "retain_percentile = 20\n",
    "\n",
    "for weight in weighting_methods:\n",
    "    # 전략 식별자 생성\n",
    "    strategy_id = f\"{basic_momentum_factor}_entry{entry_percentile}pct_retain{retain_percentile}pct_{weight}\"\n",
    "    \n",
    "    # 현재 팩터의 값 추출\n",
    "    try:\n",
    "        factor_values = factor_df.xs(basic_momentum_factor, level=1, axis=1)\n",
    "    except KeyError:\n",
    "        print(f\"팩터 '{basic_momentum_factor}'가 factor_df에 존재하지 않습니다.\")\n",
    "        continue\n",
    "    \n",
    "    # 상위 및 하위 퍼센타일 기준 임계값 계산 (진입조건 10%)\n",
    "    top_threshold = factor_values.quantile(1 - entry_percentile / 100, axis=1)\n",
    "    bottom_threshold = factor_values.quantile(entry_percentile / 100, axis=1)\n",
    "    \n",
    "    # 포트폴리오 가중치 초기화\n",
    "    portfolios_basic = pd.DataFrame(0, index=monthly_factors.index, columns=factor_values.columns)\n",
    "    \n",
    "    # 이전 포지션을 저장할 변수 초기화\n",
    "    previous_longs = set()\n",
    "    previous_shorts = set()\n",
    "    \n",
    "    # 각 월별로 상위/하위 종목 선택 및 가중치 할당\n",
    "    for date in monthly_factors.index:\n",
    "        if date not in factor_values.index:\n",
    "            continue\n",
    "        current_factors = factor_values.loc[date]\n",
    "        \n",
    "        # 상위 퍼센타일 종목 (롱 포지션 진입)\n",
    "        longs = current_factors[current_factors >= top_threshold.loc[date]].index.tolist()\n",
    "        # 하위 퍼센타일 종목 (숏 포지션 진입)\n",
    "        shorts = current_factors[current_factors <= bottom_threshold.loc[date]].index.tolist()\n",
    "        \n",
    "        # 새로운 포지션 설정\n",
    "        new_longs = set(longs)\n",
    "        new_shorts = set(shorts)\n",
    "        \n",
    "        # 유지 조건: 이전 포지션이 여전히 상위 20%/하위 20%에 해당하면 유지\n",
    "        if date != monthly_factors.index[0]:\n",
    "            retained_longs = {symbol for symbol in previous_longs if factor_values.loc[date, symbol] >= factor_values.loc[date].quantile(1 - retain_percentile / 100)}\n",
    "            retained_shorts = {symbol for symbol in previous_shorts if factor_values.loc[date, symbol] <= factor_values.loc[date].quantile(retain_percentile / 100)}\n",
    "            \n",
    "            # 포트폴리오에 유지할 포지션 추가\n",
    "            new_longs = new_longs.union(retained_longs)\n",
    "            new_shorts = new_shorts.union(retained_shorts)\n",
    "        \n",
    "        # 1개월 후의 수익률 계산\n",
    "        try:\n",
    "            current_pos = monthly_returns.index.get_loc(date)\n",
    "            next_month = monthly_returns.index[current_pos + 1]\n",
    "            # 롱 포지션 수익률: 각 롱 종목의 다음 달 수익률 평균\n",
    "            long_return = monthly_returns.loc[next_month, list(new_longs)].mean() if len(new_longs) > 0 else 0\n",
    "            # 숏 포지션 수익률: 각 숏 종목의 다음 달 수익률 평균\n",
    "            short_return = monthly_returns.loc[next_month, list(new_shorts)].mean() if len(new_shorts) > 0 else 0\n",
    "            # 전체 포트폴리오 수익률: 롱 수익률 - 숏 수익률\n",
    "            portfolio_return = long_return - short_return\n",
    "        except (IndexError, KeyError):\n",
    "            # 다음 달 데이터가 없는 경우 NaN으로 설정\n",
    "            portfolio_return = np.nan\n",
    "        \n",
    "        # 포트폴리오 수익률 로그 저장\n",
    "        new_log = pd.DataFrame([{\n",
    "            'Date': date,\n",
    "            'Longs': ','.join(new_longs),\n",
    "            'Shorts': ','.join(new_shorts),\n",
    "            'Return': portfolio_return\n",
    "        }])\n",
    "        strategy_logs[strategy_id] = pd.concat([strategy_logs[strategy_id], new_log], ignore_index=True)\n",
    "        \n",
    "        # 가중치 할당\n",
    "        if weight == 'equal_weighted':\n",
    "            if len(new_longs) > 0:\n",
    "                portfolios_basic.loc[date, list(new_longs)] += 1 / len(new_longs)\n",
    "            if len(new_shorts) > 0:\n",
    "                portfolios_basic.loc[date, list(new_shorts)] -= 1 / len(new_shorts)\n",
    "        elif weight == 'value_weighted':\n",
    "            if len(new_longs) > 0:\n",
    "                try:\n",
    "                    # 팩터 값을 기준으로 가중치 할당\n",
    "                    long_factors = current_factors.loc[list(new_longs)]\n",
    "                    long_weights = long_factors / long_factors.sum()\n",
    "                    portfolios_basic.loc[date, list(new_longs)] += long_weights\n",
    "                except KeyError:\n",
    "                    print(f\"롱 포지션 종목의 팩터 데이터가 없습니다: {list(new_longs)}\")\n",
    "            if len(new_shorts) > 0:\n",
    "                try:\n",
    "                    # 팩터 값을 기준으로 가중치 할당\n",
    "                    short_factors = current_factors.loc[list(new_shorts)]\n",
    "                    short_weights = short_factors / short_factors.sum()\n",
    "                    portfolios_basic.loc[date, list(new_shorts)] -= short_weights\n",
    "                except KeyError:\n",
    "                    print(f\"숏 포지션 종목의 팩터 데이터가 없습니다: {list(new_shorts)}\")\n",
    "        \n",
    "        # 이전 포지션 업데이트\n",
    "        previous_longs = new_longs\n",
    "        previous_shorts = new_shorts\n",
    "    \n",
    "    # 투자 비율 제한 (100%)\n",
    "    portfolios_basic = portfolios_basic * investment_rate\n",
    "    \n",
    "    # 포트폴리오 수익률 계산\n",
    "    aligned_weights_basic = portfolios_basic.shift(1).reindex(monthly_returns.index).fillna(0)\n",
    "    portfolio_monthly_returns_basic = (aligned_weights_basic * monthly_returns).sum(axis=1)\n",
    "    \n",
    "    # 초과 수익률 계산 (포트폴리오 수익률 - 벤치마크 수익률)\n",
    "    excess_returns_basic = portfolio_monthly_returns_basic - benchmark_returns\n",
    "    \n",
    "    # 백테스트 결과 저장\n",
    "    performance_results[strategy_id] = pd.DataFrame({\n",
    "        'Portfolio_Return': portfolio_monthly_returns_basic,\n",
    "        'Excess_Return': excess_returns_basic\n",
    "    })\n",
    "\n",
    "# ---------------------------\n",
    "# 4.3. 기본 모멘텀 전략: 진입조건 10%, 보유조건 없음\n",
    "# ---------------------------\n",
    "\n",
    "# 팩터 및 퍼센타일 설정\n",
    "basic_momentum_no_retain_factor = 'momentum'\n",
    "entry_percentile_no_retain = 10\n",
    "\n",
    "for weight in weighting_methods:\n",
    "    # 전략 식별자 생성\n",
    "    strategy_id = f\"{basic_momentum_no_retain_factor}_entry{entry_percentile_no_retain}pct_no_retain_{weight}\"\n",
    "    \n",
    "    # 현재 팩터의 값 추출\n",
    "    try:\n",
    "        factor_values = factor_df.xs(basic_momentum_no_retain_factor, level=1, axis=1)\n",
    "    except KeyError:\n",
    "        print(f\"팩터 '{basic_momentum_no_retain_factor}'가 factor_df에 존재하지 않습니다.\")\n",
    "        continue\n",
    "    \n",
    "    # 상위 및 하위 퍼센타일 기준 임계값 계산 (진입조건 10%)\n",
    "    top_threshold = factor_values.quantile(1 - entry_percentile_no_retain / 100, axis=1)\n",
    "    bottom_threshold = factor_values.quantile(entry_percentile_no_retain / 100, axis=1)\n",
    "    \n",
    "    # 포트폴리오 가중치 초기화\n",
    "    portfolios_no_retain = pd.DataFrame(0, index=monthly_factors.index, columns=factor_values.columns)\n",
    "    \n",
    "    # 각 월별로 상위/하위 종목 선택 및 가중치 할당\n",
    "    for date in monthly_factors.index:\n",
    "        if date not in factor_values.index:\n",
    "            continue\n",
    "        current_factors = factor_values.loc[date]\n",
    "        \n",
    "        # 상위 퍼센타일 종목 (롱 포지션 진입)\n",
    "        longs = current_factors[current_factors >= top_threshold.loc[date]].index.tolist()\n",
    "        # 하위 퍼센타일 종목 (숏 포지션 진입)\n",
    "        shorts = current_factors[current_factors <= bottom_threshold.loc[date]].index.tolist()\n",
    "        \n",
    "        # 새로운 포지션 설정\n",
    "        new_longs = set(longs)\n",
    "        new_shorts = set(shorts)\n",
    "        \n",
    "        # 유지 조건 없음 (retain_percentile = 0)\n",
    "        \n",
    "        # 1개월 후의 수익률 계산\n",
    "        try:\n",
    "            current_pos = monthly_returns.index.get_loc(date)\n",
    "            next_month = monthly_returns.index[current_pos + 1]\n",
    "            # 롱 포지션 수익률: 각 롱 종목의 다음 달 수익률 평균\n",
    "            long_return = monthly_returns.loc[next_month, list(new_longs)].mean() if len(new_longs) > 0 else 0\n",
    "            # 숏 포지션 수익률: 각 숏 종목의 다음 달 수익률 평균\n",
    "            short_return = monthly_returns.loc[next_month, list(new_shorts)].mean() if len(new_shorts) > 0 else 0\n",
    "            # 전체 포트폴리오 수익률: 롱 수익률 - 숏 수익률\n",
    "            portfolio_return = long_return - short_return\n",
    "        except (IndexError, KeyError):\n",
    "            # 다음 달 데이터가 없는 경우 NaN으로 설정\n",
    "            portfolio_return = np.nan\n",
    "        \n",
    "        # 포트폴리오 수익률 로그 저장\n",
    "        new_log = pd.DataFrame([{\n",
    "            'Date': date,\n",
    "            'Longs': ','.join(new_longs),\n",
    "            'Shorts': ','.join(new_shorts),\n",
    "            'Return': portfolio_return\n",
    "        }])\n",
    "        strategy_logs[strategy_id] = pd.concat([strategy_logs[strategy_id], new_log], ignore_index=True)\n",
    "        \n",
    "        # 가중치 할당\n",
    "        if weight == 'equal_weighted':\n",
    "            if len(new_longs) > 0:\n",
    "                portfolios_no_retain.loc[date, list(new_longs)] += 1 / len(new_longs)\n",
    "            if len(new_shorts) > 0:\n",
    "                portfolios_no_retain.loc[date, list(new_shorts)] -= 1 / len(new_shorts)\n",
    "        elif weight == 'value_weighted':\n",
    "            if len(new_longs) > 0:\n",
    "                try:\n",
    "                    # 팩터 값을 기준으로 가중치 할당\n",
    "                    long_factors = current_factors.loc[list(new_longs)]\n",
    "                    long_weights = long_factors / long_factors.sum()\n",
    "                    portfolios_no_retain.loc[date, list(new_longs)] += long_weights\n",
    "                except KeyError:\n",
    "                    print(f\"롱 포지션 종목의 팩터 데이터가 없습니다: {list(new_longs)}\")\n",
    "            if len(new_shorts) > 0:\n",
    "                try:\n",
    "                    # 팩터 값을 기준으로 가중치 할당\n",
    "                    short_factors = current_factors.loc[list(new_shorts)]\n",
    "                    short_weights = short_factors / short_factors.sum()\n",
    "                    portfolios_no_retain.loc[date, list(new_shorts)] -= short_weights\n",
    "                except KeyError:\n",
    "                    print(f\"숏 포지션 종목의 팩터 데이터가 없습니다: {list(new_shorts)}\")\n",
    "    \n",
    "    # 투자 비율 제한 (100%)\n",
    "    portfolios_no_retain = portfolios_no_retain * investment_rate\n",
    "    \n",
    "    # 포트폴리오 수익률 계산\n",
    "    aligned_weights_no_retain = portfolios_no_retain.shift(1).reindex(monthly_returns.index).fillna(0)\n",
    "    portfolio_monthly_returns_no_retain = (aligned_weights_no_retain * monthly_returns).sum(axis=1)\n",
    "    \n",
    "    # 초과 수익률 계산 (포트폴리오 수익률 - 벤치마크 수익률)\n",
    "    excess_returns_no_retain = portfolio_monthly_returns_no_retain - benchmark_returns\n",
    "    \n",
    "    # 백테스트 결과 저장\n",
    "    performance_results[strategy_id] = pd.DataFrame({\n",
    "        'Portfolio_Return': portfolio_monthly_returns_no_retain,\n",
    "        'Excess_Return': excess_returns_no_retain\n",
    "    })\n",
    "\n",
    "# ---------------------------\n",
    "# 4.4. 시계열 모멘텀 전략의 방향성 포지션 적용\n",
    "# ---------------------------\n",
    "\n",
    "# 시계열 모멘텀 팩터 설정\n",
    "ts_factor = 'ts_momentum'\n",
    "ts_percentiles = [10, 20]  # 상위 10%, 20%에 따른 백테스트\n",
    "\n",
    "for percentile in ts_percentiles:\n",
    "    for weight in weighting_methods:\n",
    "        # 전략 식별자 생성\n",
    "        strategy_id = f\"{ts_factor}_directional_{percentile}pct_{weight}\"\n",
    "        \n",
    "        # 시계열 모멘텀 팩터 추출\n",
    "        try:\n",
    "            ts_factor_values = factor_df.xs(ts_factor, level=1, axis=1)\n",
    "        except KeyError:\n",
    "            print(f\"팩터 '{ts_factor}'가 factor_df에 존재하지 않습니다.\")\n",
    "            continue\n",
    "        \n",
    "        # 포트폴리오 가중치 초기화\n",
    "        portfolios_ts = pd.DataFrame(0, index=monthly_factors.index, columns=ts_factor_values.columns)\n",
    "        \n",
    "        # 각 월별로 양수/음수 포지션 설정 및 가중치 할당\n",
    "        for date in monthly_factors.index:\n",
    "            if date not in ts_factor_values.index:\n",
    "                continue\n",
    "            current_ts = ts_factor_values.loc[date]\n",
    "            \n",
    "            # 시계열 모멘텀이 양수인 종목은 롱, 음수인 종목은 숏\n",
    "            longs = current_ts[current_ts > 0].index.tolist()\n",
    "            shorts = current_ts[current_ts < 0].index.tolist()\n",
    "            \n",
    "            # 1개월 후의 수익률 계산\n",
    "            try:\n",
    "                current_pos = monthly_returns.index.get_loc(date)\n",
    "                next_month = monthly_returns.index[current_pos + 1]\n",
    "                # 롱 포지션 수익률: 각 롱 종목의 다음 달 수익률 평균\n",
    "                long_return = monthly_returns.loc[next_month, list(longs)].mean() if len(longs) > 0 else 0\n",
    "                # 숏 포지션 수익률: 각 숏 종목의 다음 달 수익률 평균\n",
    "                short_return = monthly_returns.loc[next_month, list(shorts)].mean() if len(shorts) > 0 else 0\n",
    "                # 전체 포트폴리오 수익률: 롱 수익률 - 숏 수익률\n",
    "                portfolio_return = long_return - short_return\n",
    "            except (IndexError, KeyError):\n",
    "                # 다음 달 데이터가 없는 경우 NaN으로 설정\n",
    "                portfolio_return = np.nan\n",
    "            \n",
    "            # 포트폴리오 수익률 로그 저장\n",
    "            new_log = pd.DataFrame([{\n",
    "                'Date': date,\n",
    "                'Longs': ','.join(longs),\n",
    "                'Shorts': ','.join(shorts),\n",
    "                'Return': portfolio_return\n",
    "            }])\n",
    "            strategy_logs[strategy_id] = pd.concat([strategy_logs[strategy_id], new_log], ignore_index=True)\n",
    "            \n",
    "            # 가중치 할당\n",
    "            if weight == 'equal_weighted':\n",
    "                if len(longs) > 0:\n",
    "                    portfolios_ts.loc[date, longs] += 1 / len(longs)\n",
    "                if len(shorts) > 0:\n",
    "                    portfolios_ts.loc[date, shorts] -= 1 / len(shorts)\n",
    "            elif weight == 'value_weighted':\n",
    "                if len(longs) > 0:\n",
    "                    try:\n",
    "                        # 팩터 값을 기준으로 가중치 할당\n",
    "                        long_factors = current_ts.loc[list(longs)]\n",
    "                        long_weights = long_factors / long_factors.sum()\n",
    "                        portfolios_ts.loc[date, longs] += long_weights\n",
    "                    except KeyError:\n",
    "                        print(f\"롱 포지션 종목의 팩터 데이터가 없습니다: {longs}\")\n",
    "                if len(shorts) > 0:\n",
    "                    try:\n",
    "                        # 팩터 값을 기준으로 가중치 할당\n",
    "                        short_factors = current_ts.loc[list(shorts)]\n",
    "                        short_weights = short_factors / short_factors.sum()\n",
    "                        portfolios_ts.loc[date, shorts] -= short_weights\n",
    "                    except KeyError:\n",
    "                        print(f\"숏 포지션 종목의 팩터 데이터가 없습니다: {shorts}\")\n",
    "        \n",
    "        # 투자 비율 제한 (100%)\n",
    "        portfolios_ts = portfolios_ts * investment_rate\n",
    "        \n",
    "        # 포트폴리오 수익률 계산\n",
    "        aligned_weights_ts = portfolios_ts.shift(1).reindex(monthly_returns.index).fillna(0)\n",
    "        portfolio_monthly_returns_ts = (aligned_weights_ts * monthly_returns).sum(axis=1)\n",
    "        \n",
    "        # 초과 수익률 계산 (포트폴리오 수익률 - 벤치마크 수익률)\n",
    "        excess_returns_ts = portfolio_monthly_returns_ts - benchmark_returns\n",
    "        \n",
    "        # 백테스트 결과 저장\n",
    "        performance_results[strategy_id] = pd.DataFrame({\n",
    "            'Portfolio_Return': portfolio_monthly_returns_ts,\n",
    "            'Excess_Return': excess_returns_ts\n",
    "        })\n",
    "\n",
    "# ---------------------------\n",
    "# 4.5. 추가적인 횡단면적 전략의 퍼센타일 조건 적용\n",
    "# ---------------------------\n",
    "\n",
    "# 추가적인 퍼센타일 설정 (10%, 20%, 30%)\n",
    "additional_percentiles = [10, 20, 30]\n",
    "\n",
    "for factor in factors:\n",
    "    for percentile in additional_percentiles:\n",
    "        for weight in weighting_methods:\n",
    "            # 전략 식별자 생성\n",
    "            strategy_id = f\"{factor}_{percentile}pct_{weight}\"\n",
    "            \n",
    "            # 현재 팩터의 값 추출\n",
    "            try:\n",
    "                factor_values = factor_df.xs(factor, level=1, axis=1)\n",
    "            except KeyError:\n",
    "                print(f\"팩터 '{factor}'가 factor_df에 존재하지 않습니다.\")\n",
    "                continue\n",
    "            \n",
    "            # 상위 및 하위 퍼센타일 기준 임계값 계산\n",
    "            top_threshold = factor_values.quantile(1 - percentile / 100, axis=1)\n",
    "            bottom_threshold = factor_values.quantile(percentile / 100, axis=1)\n",
    "            \n",
    "            # 포트폴리오 가중치 초기화\n",
    "            portfolios_add = pd.DataFrame(0, index=monthly_factors.index, columns=factor_values.columns)\n",
    "            \n",
    "            # 각 월별로 상위/하위 종목 선택 및 가중치 할당\n",
    "            for date in monthly_factors.index:\n",
    "                if date not in factor_values.index:\n",
    "                    continue\n",
    "                current_factors = factor_values.loc[date]\n",
    "                \n",
    "                # 상위 퍼센타일 종목\n",
    "                longs = current_factors[current_factors >= top_threshold.loc[date]].index.tolist()\n",
    "                # 하위 퍼센타일 종목\n",
    "                shorts = current_factors[current_factors <= bottom_threshold.loc[date]].index.tolist()\n",
    "                \n",
    "                # 1개월 후의 수익률 계산\n",
    "                try:\n",
    "                    current_pos = monthly_returns.index.get_loc(date)\n",
    "                    next_month = monthly_returns.index[current_pos + 1]\n",
    "                    # 롱 포지션 수익률: 각 롱 종목의 다음 달 수익률 평균\n",
    "                    long_return = monthly_returns.loc[next_month, list(longs)].mean() if len(longs) > 0 else 0\n",
    "                    # 숏 포지션 수익률: 각 숏 종목의 다음 달 수익률 평균\n",
    "                    short_return = monthly_returns.loc[next_month, list(shorts)].mean() if len(shorts) > 0 else 0\n",
    "                    # 전체 포트폴리오 수익률: 롱 수익률 - 숏 수익률\n",
    "                    portfolio_return = long_return - short_return\n",
    "                except (IndexError, KeyError):\n",
    "                    # 다음 달 데이터가 없는 경우 NaN으로 설정\n",
    "                    portfolio_return = np.nan\n",
    "                \n",
    "                # 포트폴리오 수익률 로그 저장\n",
    "                new_log = pd.DataFrame([{\n",
    "                    'Date': date,\n",
    "                    'Longs': ','.join(longs),\n",
    "                    'Shorts': ','.join(shorts),\n",
    "                    'Return': portfolio_return\n",
    "                }])\n",
    "                strategy_logs[strategy_id] = pd.concat([strategy_logs[strategy_id], new_log], ignore_index=True)\n",
    "                \n",
    "                # 가중치 할당\n",
    "                if weight == 'equal_weighted':\n",
    "                    if len(longs) > 0:\n",
    "                        portfolios_add.loc[date, longs] += 1 / len(longs)\n",
    "                    if len(shorts) > 0:\n",
    "                        portfolios_add.loc[date, shorts] -= 1 / len(shorts)\n",
    "                elif weight == 'value_weighted':\n",
    "                    if len(longs) > 0:\n",
    "                        try:\n",
    "                            # 팩터 값을 기준으로 가중치 할당\n",
    "                            long_factors = current_factors.loc[list(longs)]\n",
    "                            long_weights = long_factors / long_factors.sum()\n",
    "                            portfolios_add.loc[date, longs] += long_weights\n",
    "                        except KeyError:\n",
    "                            print(f\"롱 포지션 종목의 팩터 데이터가 없습니다: {longs}\")\n",
    "                    if len(shorts) > 0:\n",
    "                        try:\n",
    "                            # 팩터 값을 기준으로 가중치 할당\n",
    "                            short_factors = current_factors.loc[list(shorts)]\n",
    "                            short_weights = short_factors / short_factors.sum()\n",
    "                            portfolios_add.loc[date, shorts] -= short_weights\n",
    "                        except KeyError:\n",
    "                            print(f\"숏 포지션 종목의 팩터 데이터가 없습니다: {shorts}\")\n",
    "            \n",
    "            # 투자 비율 제한 (100%)\n",
    "            portfolios_add = portfolios_add * investment_rate\n",
    "            \n",
    "            # 포트폴리오 수익률 계산\n",
    "            aligned_weights_add = portfolios_add.shift(1).reindex(monthly_returns.index).fillna(0)\n",
    "            portfolio_monthly_returns_add = (aligned_weights_add * monthly_returns).sum(axis=1)\n",
    "            \n",
    "            # 초과 수익률 계산 (포트폴리오 수익률 - 벤치마크 수익률)\n",
    "            excess_returns_add = portfolio_monthly_returns_add - benchmark_returns\n",
    "            \n",
    "            # 백테스트 결과 저장\n",
    "            performance_results[strategy_id] = pd.DataFrame({\n",
    "                'Portfolio_Return': portfolio_monthly_returns_add,\n",
    "                'Excess_Return': excess_returns_add\n",
    "            })\n"
   ]
  },
  {
   "cell_type": "code",
   "execution_count": 51,
   "id": "e3f779a5",
   "metadata": {},
   "outputs": [
    {
     "name": "stdout",
     "output_type": "stream",
     "text": [
      "Strategy: momentum_10pct_equal_weighted\n"
     ]
    },
    {
     "data": {
      "text/html": [
       "<div>\n",
       "<style scoped>\n",
       "    .dataframe tbody tr th:only-of-type {\n",
       "        vertical-align: middle;\n",
       "    }\n",
       "\n",
       "    .dataframe tbody tr th {\n",
       "        vertical-align: top;\n",
       "    }\n",
       "\n",
       "    .dataframe thead th {\n",
       "        text-align: right;\n",
       "    }\n",
       "</style>\n",
       "<table border=\"1\" class=\"dataframe\">\n",
       "  <thead>\n",
       "    <tr style=\"text-align: right;\">\n",
       "      <th></th>\n",
       "      <th>Portfolio_Return</th>\n",
       "      <th>Excess_Return</th>\n",
       "    </tr>\n",
       "    <tr>\n",
       "      <th>timestamp</th>\n",
       "      <th></th>\n",
       "      <th></th>\n",
       "    </tr>\n",
       "  </thead>\n",
       "  <tbody>\n",
       "    <tr>\n",
       "      <th>2021-10-31</th>\n",
       "      <td>0.0</td>\n",
       "      <td>-0.215302</td>\n",
       "    </tr>\n",
       "    <tr>\n",
       "      <th>2021-11-30</th>\n",
       "      <td>0.0</td>\n",
       "      <td>-0.283248</td>\n",
       "    </tr>\n",
       "    <tr>\n",
       "      <th>2021-12-31</th>\n",
       "      <td>0.0</td>\n",
       "      <td>0.183973</td>\n",
       "    </tr>\n",
       "    <tr>\n",
       "      <th>2022-01-31</th>\n",
       "      <td>0.0</td>\n",
       "      <td>0.318677</td>\n",
       "    </tr>\n",
       "    <tr>\n",
       "      <th>2022-02-28</th>\n",
       "      <td>0.0</td>\n",
       "      <td>0.001011</td>\n",
       "    </tr>\n",
       "  </tbody>\n",
       "</table>\n",
       "</div>"
      ],
      "text/plain": [
       "            Portfolio_Return  Excess_Return\n",
       "timestamp                                  \n",
       "2021-10-31               0.0      -0.215302\n",
       "2021-11-30               0.0      -0.283248\n",
       "2021-12-31               0.0       0.183973\n",
       "2022-01-31               0.0       0.318677\n",
       "2022-02-28               0.0       0.001011"
      ]
     },
     "metadata": {},
     "output_type": "display_data"
    },
    {
     "name": "stdout",
     "output_type": "stream",
     "text": [
      "\n",
      "\n",
      "Strategy: momentum_10pct_value_weighted\n"
     ]
    },
    {
     "data": {
      "text/html": [
       "<div>\n",
       "<style scoped>\n",
       "    .dataframe tbody tr th:only-of-type {\n",
       "        vertical-align: middle;\n",
       "    }\n",
       "\n",
       "    .dataframe tbody tr th {\n",
       "        vertical-align: top;\n",
       "    }\n",
       "\n",
       "    .dataframe thead th {\n",
       "        text-align: right;\n",
       "    }\n",
       "</style>\n",
       "<table border=\"1\" class=\"dataframe\">\n",
       "  <thead>\n",
       "    <tr style=\"text-align: right;\">\n",
       "      <th></th>\n",
       "      <th>Portfolio_Return</th>\n",
       "      <th>Excess_Return</th>\n",
       "    </tr>\n",
       "    <tr>\n",
       "      <th>timestamp</th>\n",
       "      <th></th>\n",
       "      <th></th>\n",
       "    </tr>\n",
       "  </thead>\n",
       "  <tbody>\n",
       "    <tr>\n",
       "      <th>2021-10-31</th>\n",
       "      <td>0.0</td>\n",
       "      <td>-0.215302</td>\n",
       "    </tr>\n",
       "    <tr>\n",
       "      <th>2021-11-30</th>\n",
       "      <td>0.0</td>\n",
       "      <td>-0.283248</td>\n",
       "    </tr>\n",
       "    <tr>\n",
       "      <th>2021-12-31</th>\n",
       "      <td>0.0</td>\n",
       "      <td>0.183973</td>\n",
       "    </tr>\n",
       "    <tr>\n",
       "      <th>2022-01-31</th>\n",
       "      <td>0.0</td>\n",
       "      <td>0.318677</td>\n",
       "    </tr>\n",
       "    <tr>\n",
       "      <th>2022-02-28</th>\n",
       "      <td>0.0</td>\n",
       "      <td>0.001011</td>\n",
       "    </tr>\n",
       "  </tbody>\n",
       "</table>\n",
       "</div>"
      ],
      "text/plain": [
       "            Portfolio_Return  Excess_Return\n",
       "timestamp                                  \n",
       "2021-10-31               0.0      -0.215302\n",
       "2021-11-30               0.0      -0.283248\n",
       "2021-12-31               0.0       0.183973\n",
       "2022-01-31               0.0       0.318677\n",
       "2022-02-28               0.0       0.001011"
      ]
     },
     "metadata": {},
     "output_type": "display_data"
    },
    {
     "name": "stdout",
     "output_type": "stream",
     "text": [
      "\n",
      "\n",
      "Strategy: momentum_20pct_equal_weighted\n"
     ]
    },
    {
     "data": {
      "text/html": [
       "<div>\n",
       "<style scoped>\n",
       "    .dataframe tbody tr th:only-of-type {\n",
       "        vertical-align: middle;\n",
       "    }\n",
       "\n",
       "    .dataframe tbody tr th {\n",
       "        vertical-align: top;\n",
       "    }\n",
       "\n",
       "    .dataframe thead th {\n",
       "        text-align: right;\n",
       "    }\n",
       "</style>\n",
       "<table border=\"1\" class=\"dataframe\">\n",
       "  <thead>\n",
       "    <tr style=\"text-align: right;\">\n",
       "      <th></th>\n",
       "      <th>Portfolio_Return</th>\n",
       "      <th>Excess_Return</th>\n",
       "    </tr>\n",
       "    <tr>\n",
       "      <th>timestamp</th>\n",
       "      <th></th>\n",
       "      <th></th>\n",
       "    </tr>\n",
       "  </thead>\n",
       "  <tbody>\n",
       "    <tr>\n",
       "      <th>2021-10-31</th>\n",
       "      <td>0.0</td>\n",
       "      <td>-0.215302</td>\n",
       "    </tr>\n",
       "    <tr>\n",
       "      <th>2021-11-30</th>\n",
       "      <td>0.0</td>\n",
       "      <td>-0.283248</td>\n",
       "    </tr>\n",
       "    <tr>\n",
       "      <th>2021-12-31</th>\n",
       "      <td>0.0</td>\n",
       "      <td>0.183973</td>\n",
       "    </tr>\n",
       "    <tr>\n",
       "      <th>2022-01-31</th>\n",
       "      <td>0.0</td>\n",
       "      <td>0.318677</td>\n",
       "    </tr>\n",
       "    <tr>\n",
       "      <th>2022-02-28</th>\n",
       "      <td>0.0</td>\n",
       "      <td>0.001011</td>\n",
       "    </tr>\n",
       "  </tbody>\n",
       "</table>\n",
       "</div>"
      ],
      "text/plain": [
       "            Portfolio_Return  Excess_Return\n",
       "timestamp                                  \n",
       "2021-10-31               0.0      -0.215302\n",
       "2021-11-30               0.0      -0.283248\n",
       "2021-12-31               0.0       0.183973\n",
       "2022-01-31               0.0       0.318677\n",
       "2022-02-28               0.0       0.001011"
      ]
     },
     "metadata": {},
     "output_type": "display_data"
    },
    {
     "name": "stdout",
     "output_type": "stream",
     "text": [
      "\n",
      "\n",
      "Strategy: momentum_20pct_value_weighted\n"
     ]
    },
    {
     "data": {
      "text/html": [
       "<div>\n",
       "<style scoped>\n",
       "    .dataframe tbody tr th:only-of-type {\n",
       "        vertical-align: middle;\n",
       "    }\n",
       "\n",
       "    .dataframe tbody tr th {\n",
       "        vertical-align: top;\n",
       "    }\n",
       "\n",
       "    .dataframe thead th {\n",
       "        text-align: right;\n",
       "    }\n",
       "</style>\n",
       "<table border=\"1\" class=\"dataframe\">\n",
       "  <thead>\n",
       "    <tr style=\"text-align: right;\">\n",
       "      <th></th>\n",
       "      <th>Portfolio_Return</th>\n",
       "      <th>Excess_Return</th>\n",
       "    </tr>\n",
       "    <tr>\n",
       "      <th>timestamp</th>\n",
       "      <th></th>\n",
       "      <th></th>\n",
       "    </tr>\n",
       "  </thead>\n",
       "  <tbody>\n",
       "    <tr>\n",
       "      <th>2021-10-31</th>\n",
       "      <td>0.0</td>\n",
       "      <td>-0.215302</td>\n",
       "    </tr>\n",
       "    <tr>\n",
       "      <th>2021-11-30</th>\n",
       "      <td>0.0</td>\n",
       "      <td>-0.283248</td>\n",
       "    </tr>\n",
       "    <tr>\n",
       "      <th>2021-12-31</th>\n",
       "      <td>0.0</td>\n",
       "      <td>0.183973</td>\n",
       "    </tr>\n",
       "    <tr>\n",
       "      <th>2022-01-31</th>\n",
       "      <td>0.0</td>\n",
       "      <td>0.318677</td>\n",
       "    </tr>\n",
       "    <tr>\n",
       "      <th>2022-02-28</th>\n",
       "      <td>0.0</td>\n",
       "      <td>0.001011</td>\n",
       "    </tr>\n",
       "  </tbody>\n",
       "</table>\n",
       "</div>"
      ],
      "text/plain": [
       "            Portfolio_Return  Excess_Return\n",
       "timestamp                                  \n",
       "2021-10-31               0.0      -0.215302\n",
       "2021-11-30               0.0      -0.283248\n",
       "2021-12-31               0.0       0.183973\n",
       "2022-01-31               0.0       0.318677\n",
       "2022-02-28               0.0       0.001011"
      ]
     },
     "metadata": {},
     "output_type": "display_data"
    },
    {
     "name": "stdout",
     "output_type": "stream",
     "text": [
      "\n",
      "\n",
      "Strategy: momentum_30pct_equal_weighted\n"
     ]
    },
    {
     "data": {
      "text/html": [
       "<div>\n",
       "<style scoped>\n",
       "    .dataframe tbody tr th:only-of-type {\n",
       "        vertical-align: middle;\n",
       "    }\n",
       "\n",
       "    .dataframe tbody tr th {\n",
       "        vertical-align: top;\n",
       "    }\n",
       "\n",
       "    .dataframe thead th {\n",
       "        text-align: right;\n",
       "    }\n",
       "</style>\n",
       "<table border=\"1\" class=\"dataframe\">\n",
       "  <thead>\n",
       "    <tr style=\"text-align: right;\">\n",
       "      <th></th>\n",
       "      <th>Portfolio_Return</th>\n",
       "      <th>Excess_Return</th>\n",
       "    </tr>\n",
       "    <tr>\n",
       "      <th>timestamp</th>\n",
       "      <th></th>\n",
       "      <th></th>\n",
       "    </tr>\n",
       "  </thead>\n",
       "  <tbody>\n",
       "    <tr>\n",
       "      <th>2021-10-31</th>\n",
       "      <td>0.0</td>\n",
       "      <td>-0.215302</td>\n",
       "    </tr>\n",
       "    <tr>\n",
       "      <th>2021-11-30</th>\n",
       "      <td>0.0</td>\n",
       "      <td>-0.283248</td>\n",
       "    </tr>\n",
       "    <tr>\n",
       "      <th>2021-12-31</th>\n",
       "      <td>0.0</td>\n",
       "      <td>0.183973</td>\n",
       "    </tr>\n",
       "    <tr>\n",
       "      <th>2022-01-31</th>\n",
       "      <td>0.0</td>\n",
       "      <td>0.318677</td>\n",
       "    </tr>\n",
       "    <tr>\n",
       "      <th>2022-02-28</th>\n",
       "      <td>0.0</td>\n",
       "      <td>0.001011</td>\n",
       "    </tr>\n",
       "  </tbody>\n",
       "</table>\n",
       "</div>"
      ],
      "text/plain": [
       "            Portfolio_Return  Excess_Return\n",
       "timestamp                                  \n",
       "2021-10-31               0.0      -0.215302\n",
       "2021-11-30               0.0      -0.283248\n",
       "2021-12-31               0.0       0.183973\n",
       "2022-01-31               0.0       0.318677\n",
       "2022-02-28               0.0       0.001011"
      ]
     },
     "metadata": {},
     "output_type": "display_data"
    },
    {
     "name": "stdout",
     "output_type": "stream",
     "text": [
      "\n",
      "\n"
     ]
    }
   ],
   "source": [
    "\n",
    "# ---------------------------\n",
    "# 5. 백테스트 결과 확인\n",
    "# ---------------------------\n",
    "\n",
    "# 백테스트 결과 확인 (일부 전략만 출력)\n",
    "for strategy, perf in list(performance_results.items())[:5]:  # 상위 5개 전략만 예시로 출력\n",
    "    print(f\"Strategy: {strategy}\")\n",
    "    display(perf.head())\n",
    "    print(\"\\n\")\n"
   ]
  },
  {
   "cell_type": "code",
   "execution_count": 52,
   "id": "beb484b2",
   "metadata": {},
   "outputs": [],
   "source": [
    "# (재필) 일부 ts 전략의 경우 12 month lookback 때문에 1년 이후부터 결과가 나오므로, 공정한 비교를 위해 1년 이후 데이터만 사용\n",
    "START = '2022-11-30'\n",
    "\n",
    "performance_results = {k: v.loc[START:] for k, v in performance_results.items()}\n",
    "\n",
    "# 수익률 첫 날은 모두 0에서 시작하도록 0번째 index는 다 0으로 설정\n",
    "for k, v in performance_results.items():\n",
    "    v['Portfolio_Return'].iloc[0] = 0"
   ]
  },
  {
   "cell_type": "code",
   "execution_count": 57,
   "id": "fc9373f4",
   "metadata": {},
   "outputs": [
    {
     "data": {
      "application/vnd.plotly.v1+json": {
       "config": {
        "plotlyServerURL": "https://plot.ly"
       },
       "data": [
        {
         "hovertemplate": "<extra></extra>",
         "legendgroup": "",
         "line": {
          "color": "#636efa",
          "dash": "solid"
         },
         "marker": {
          "symbol": "circle"
         },
         "mode": "lines",
         "name": "",
         "orientation": "v",
         "showlegend": false,
         "type": "scatter",
         "xaxis": "x",
         "yaxis": "y"
        },
        {
         "mode": "lines",
         "name": "ts_momentum_directional_10pct_equal_weighted",
         "type": "scatter",
         "x": [
          "2022-11-30T00:00:00",
          "2022-12-31T00:00:00",
          "2023-01-31T00:00:00",
          "2023-02-28T00:00:00",
          "2023-03-31T00:00:00",
          "2023-04-30T00:00:00",
          "2023-05-31T00:00:00",
          "2023-06-30T00:00:00",
          "2023-07-31T00:00:00",
          "2023-08-31T00:00:00",
          "2023-09-30T00:00:00",
          "2023-10-31T00:00:00",
          "2023-11-30T00:00:00",
          "2023-12-31T00:00:00",
          "2024-01-31T00:00:00",
          "2024-02-29T00:00:00",
          "2024-03-31T00:00:00",
          "2024-04-30T00:00:00",
          "2024-05-31T00:00:00",
          "2024-06-30T00:00:00",
          "2024-07-31T00:00:00",
          "2024-08-31T00:00:00",
          "2024-09-30T00:00:00",
          "2024-10-31T00:00:00"
         ],
         "y": [
          0,
          0.005213411668158363,
          -0.11179010451078708,
          -0.10888689144468999,
          -0.10175367554025871,
          -0.09811542396426365,
          -0.0770499537896856,
          -0.08546568049853964,
          -0.07453601096924212,
          -0.08642041234775477,
          -0.10704277368752135,
          -0.11420266834730541,
          -0.12580644864243873,
          -0.15646470980492422,
          -0.15115233856089916,
          -0.1668749490032756,
          -0.18222165709014349,
          -0.17264638260629916,
          -0.1523342926122213,
          -0.1432065210470853,
          -0.1390655566810599,
          -0.12994789356841896,
          -0.12011877322577902,
          -0.11047774652607845
         ]
        },
        {
         "mode": "lines",
         "name": "ts_momentum_directional_10pct_value_weighted",
         "type": "scatter",
         "x": [
          "2022-11-30T00:00:00",
          "2022-12-31T00:00:00",
          "2023-01-31T00:00:00",
          "2023-02-28T00:00:00",
          "2023-03-31T00:00:00",
          "2023-04-30T00:00:00",
          "2023-05-31T00:00:00",
          "2023-06-30T00:00:00",
          "2023-07-31T00:00:00",
          "2023-08-31T00:00:00",
          "2023-09-30T00:00:00",
          "2023-10-31T00:00:00",
          "2023-11-30T00:00:00",
          "2023-12-31T00:00:00",
          "2024-01-31T00:00:00",
          "2024-02-29T00:00:00",
          "2024-03-31T00:00:00",
          "2024-04-30T00:00:00",
          "2024-05-31T00:00:00",
          "2024-06-30T00:00:00",
          "2024-07-31T00:00:00",
          "2024-08-31T00:00:00",
          "2024-09-30T00:00:00",
          "2024-10-31T00:00:00"
         ],
         "y": [
          0,
          0.0027145680834479435,
          -0.15585623273163174,
          -0.14591747295034918,
          -0.13796031783874774,
          -0.13263288443308108,
          -0.10722897531643194,
          -0.1042063673392527,
          -0.09406735077205153,
          -0.10599673129537956,
          -0.13676473242371867,
          -0.13769744124010908,
          -0.15875728233414343,
          -0.15554327596026063,
          -0.1556228780171377,
          -0.18665802809049126,
          -0.20877520175077724,
          -0.2050508611228823,
          -0.1655253972950187,
          -0.1548581958377646,
          -0.14664202253657566,
          -0.14868826627000808,
          -0.13395482657178304,
          -0.12231084586470364
         ]
        },
        {
         "mode": "lines",
         "name": "ts_momentum_directional_20pct_equal_weighted",
         "type": "scatter",
         "x": [
          "2022-11-30T00:00:00",
          "2022-12-31T00:00:00",
          "2023-01-31T00:00:00",
          "2023-02-28T00:00:00",
          "2023-03-31T00:00:00",
          "2023-04-30T00:00:00",
          "2023-05-31T00:00:00",
          "2023-06-30T00:00:00",
          "2023-07-31T00:00:00",
          "2023-08-31T00:00:00",
          "2023-09-30T00:00:00",
          "2023-10-31T00:00:00",
          "2023-11-30T00:00:00",
          "2023-12-31T00:00:00",
          "2024-01-31T00:00:00",
          "2024-02-29T00:00:00",
          "2024-03-31T00:00:00",
          "2024-04-30T00:00:00",
          "2024-05-31T00:00:00",
          "2024-06-30T00:00:00",
          "2024-07-31T00:00:00",
          "2024-08-31T00:00:00",
          "2024-09-30T00:00:00",
          "2024-10-31T00:00:00"
         ],
         "y": [
          0,
          0.005213411668158363,
          -0.11179010451078708,
          -0.10888689144468999,
          -0.10175367554025871,
          -0.09811542396426365,
          -0.0770499537896856,
          -0.08546568049853964,
          -0.07453601096924212,
          -0.08642041234775477,
          -0.10704277368752135,
          -0.11420266834730541,
          -0.12580644864243873,
          -0.15646470980492422,
          -0.15115233856089916,
          -0.1668749490032756,
          -0.18222165709014349,
          -0.17264638260629916,
          -0.1523342926122213,
          -0.1432065210470853,
          -0.1390655566810599,
          -0.12994789356841896,
          -0.12011877322577902,
          -0.11047774652607845
         ]
        },
        {
         "mode": "lines",
         "name": "ts_momentum_directional_20pct_value_weighted",
         "type": "scatter",
         "x": [
          "2022-11-30T00:00:00",
          "2022-12-31T00:00:00",
          "2023-01-31T00:00:00",
          "2023-02-28T00:00:00",
          "2023-03-31T00:00:00",
          "2023-04-30T00:00:00",
          "2023-05-31T00:00:00",
          "2023-06-30T00:00:00",
          "2023-07-31T00:00:00",
          "2023-08-31T00:00:00",
          "2023-09-30T00:00:00",
          "2023-10-31T00:00:00",
          "2023-11-30T00:00:00",
          "2023-12-31T00:00:00",
          "2024-01-31T00:00:00",
          "2024-02-29T00:00:00",
          "2024-03-31T00:00:00",
          "2024-04-30T00:00:00",
          "2024-05-31T00:00:00",
          "2024-06-30T00:00:00",
          "2024-07-31T00:00:00",
          "2024-08-31T00:00:00",
          "2024-09-30T00:00:00",
          "2024-10-31T00:00:00"
         ],
         "y": [
          0,
          0.0027145680834479435,
          -0.15585623273163174,
          -0.14591747295034918,
          -0.13796031783874774,
          -0.13263288443308108,
          -0.10722897531643194,
          -0.1042063673392527,
          -0.09406735077205153,
          -0.10599673129537956,
          -0.13676473242371867,
          -0.13769744124010908,
          -0.15875728233414343,
          -0.15554327596026063,
          -0.1556228780171377,
          -0.18665802809049126,
          -0.20877520175077724,
          -0.2050508611228823,
          -0.1655253972950187,
          -0.1548581958377646,
          -0.14664202253657566,
          -0.14868826627000808,
          -0.13395482657178304,
          -0.12231084586470364
         ]
        }
       ],
       "layout": {
        "legend": {
         "tracegroupgap": 0
        },
        "template": {
         "data": {
          "bar": [
           {
            "error_x": {
             "color": "#2a3f5f"
            },
            "error_y": {
             "color": "#2a3f5f"
            },
            "marker": {
             "line": {
              "color": "#E5ECF6",
              "width": 0.5
             },
             "pattern": {
              "fillmode": "overlay",
              "size": 10,
              "solidity": 0.2
             }
            },
            "type": "bar"
           }
          ],
          "barpolar": [
           {
            "marker": {
             "line": {
              "color": "#E5ECF6",
              "width": 0.5
             },
             "pattern": {
              "fillmode": "overlay",
              "size": 10,
              "solidity": 0.2
             }
            },
            "type": "barpolar"
           }
          ],
          "carpet": [
           {
            "aaxis": {
             "endlinecolor": "#2a3f5f",
             "gridcolor": "white",
             "linecolor": "white",
             "minorgridcolor": "white",
             "startlinecolor": "#2a3f5f"
            },
            "baxis": {
             "endlinecolor": "#2a3f5f",
             "gridcolor": "white",
             "linecolor": "white",
             "minorgridcolor": "white",
             "startlinecolor": "#2a3f5f"
            },
            "type": "carpet"
           }
          ],
          "choropleth": [
           {
            "colorbar": {
             "outlinewidth": 0,
             "ticks": ""
            },
            "type": "choropleth"
           }
          ],
          "contour": [
           {
            "colorbar": {
             "outlinewidth": 0,
             "ticks": ""
            },
            "colorscale": [
             [
              0,
              "#0d0887"
             ],
             [
              0.1111111111111111,
              "#46039f"
             ],
             [
              0.2222222222222222,
              "#7201a8"
             ],
             [
              0.3333333333333333,
              "#9c179e"
             ],
             [
              0.4444444444444444,
              "#bd3786"
             ],
             [
              0.5555555555555556,
              "#d8576b"
             ],
             [
              0.6666666666666666,
              "#ed7953"
             ],
             [
              0.7777777777777778,
              "#fb9f3a"
             ],
             [
              0.8888888888888888,
              "#fdca26"
             ],
             [
              1,
              "#f0f921"
             ]
            ],
            "type": "contour"
           }
          ],
          "contourcarpet": [
           {
            "colorbar": {
             "outlinewidth": 0,
             "ticks": ""
            },
            "type": "contourcarpet"
           }
          ],
          "heatmap": [
           {
            "colorbar": {
             "outlinewidth": 0,
             "ticks": ""
            },
            "colorscale": [
             [
              0,
              "#0d0887"
             ],
             [
              0.1111111111111111,
              "#46039f"
             ],
             [
              0.2222222222222222,
              "#7201a8"
             ],
             [
              0.3333333333333333,
              "#9c179e"
             ],
             [
              0.4444444444444444,
              "#bd3786"
             ],
             [
              0.5555555555555556,
              "#d8576b"
             ],
             [
              0.6666666666666666,
              "#ed7953"
             ],
             [
              0.7777777777777778,
              "#fb9f3a"
             ],
             [
              0.8888888888888888,
              "#fdca26"
             ],
             [
              1,
              "#f0f921"
             ]
            ],
            "type": "heatmap"
           }
          ],
          "heatmapgl": [
           {
            "colorbar": {
             "outlinewidth": 0,
             "ticks": ""
            },
            "colorscale": [
             [
              0,
              "#0d0887"
             ],
             [
              0.1111111111111111,
              "#46039f"
             ],
             [
              0.2222222222222222,
              "#7201a8"
             ],
             [
              0.3333333333333333,
              "#9c179e"
             ],
             [
              0.4444444444444444,
              "#bd3786"
             ],
             [
              0.5555555555555556,
              "#d8576b"
             ],
             [
              0.6666666666666666,
              "#ed7953"
             ],
             [
              0.7777777777777778,
              "#fb9f3a"
             ],
             [
              0.8888888888888888,
              "#fdca26"
             ],
             [
              1,
              "#f0f921"
             ]
            ],
            "type": "heatmapgl"
           }
          ],
          "histogram": [
           {
            "marker": {
             "pattern": {
              "fillmode": "overlay",
              "size": 10,
              "solidity": 0.2
             }
            },
            "type": "histogram"
           }
          ],
          "histogram2d": [
           {
            "colorbar": {
             "outlinewidth": 0,
             "ticks": ""
            },
            "colorscale": [
             [
              0,
              "#0d0887"
             ],
             [
              0.1111111111111111,
              "#46039f"
             ],
             [
              0.2222222222222222,
              "#7201a8"
             ],
             [
              0.3333333333333333,
              "#9c179e"
             ],
             [
              0.4444444444444444,
              "#bd3786"
             ],
             [
              0.5555555555555556,
              "#d8576b"
             ],
             [
              0.6666666666666666,
              "#ed7953"
             ],
             [
              0.7777777777777778,
              "#fb9f3a"
             ],
             [
              0.8888888888888888,
              "#fdca26"
             ],
             [
              1,
              "#f0f921"
             ]
            ],
            "type": "histogram2d"
           }
          ],
          "histogram2dcontour": [
           {
            "colorbar": {
             "outlinewidth": 0,
             "ticks": ""
            },
            "colorscale": [
             [
              0,
              "#0d0887"
             ],
             [
              0.1111111111111111,
              "#46039f"
             ],
             [
              0.2222222222222222,
              "#7201a8"
             ],
             [
              0.3333333333333333,
              "#9c179e"
             ],
             [
              0.4444444444444444,
              "#bd3786"
             ],
             [
              0.5555555555555556,
              "#d8576b"
             ],
             [
              0.6666666666666666,
              "#ed7953"
             ],
             [
              0.7777777777777778,
              "#fb9f3a"
             ],
             [
              0.8888888888888888,
              "#fdca26"
             ],
             [
              1,
              "#f0f921"
             ]
            ],
            "type": "histogram2dcontour"
           }
          ],
          "mesh3d": [
           {
            "colorbar": {
             "outlinewidth": 0,
             "ticks": ""
            },
            "type": "mesh3d"
           }
          ],
          "parcoords": [
           {
            "line": {
             "colorbar": {
              "outlinewidth": 0,
              "ticks": ""
             }
            },
            "type": "parcoords"
           }
          ],
          "pie": [
           {
            "automargin": true,
            "type": "pie"
           }
          ],
          "scatter": [
           {
            "fillpattern": {
             "fillmode": "overlay",
             "size": 10,
             "solidity": 0.2
            },
            "type": "scatter"
           }
          ],
          "scatter3d": [
           {
            "line": {
             "colorbar": {
              "outlinewidth": 0,
              "ticks": ""
             }
            },
            "marker": {
             "colorbar": {
              "outlinewidth": 0,
              "ticks": ""
             }
            },
            "type": "scatter3d"
           }
          ],
          "scattercarpet": [
           {
            "marker": {
             "colorbar": {
              "outlinewidth": 0,
              "ticks": ""
             }
            },
            "type": "scattercarpet"
           }
          ],
          "scattergeo": [
           {
            "marker": {
             "colorbar": {
              "outlinewidth": 0,
              "ticks": ""
             }
            },
            "type": "scattergeo"
           }
          ],
          "scattergl": [
           {
            "marker": {
             "colorbar": {
              "outlinewidth": 0,
              "ticks": ""
             }
            },
            "type": "scattergl"
           }
          ],
          "scattermapbox": [
           {
            "marker": {
             "colorbar": {
              "outlinewidth": 0,
              "ticks": ""
             }
            },
            "type": "scattermapbox"
           }
          ],
          "scatterpolar": [
           {
            "marker": {
             "colorbar": {
              "outlinewidth": 0,
              "ticks": ""
             }
            },
            "type": "scatterpolar"
           }
          ],
          "scatterpolargl": [
           {
            "marker": {
             "colorbar": {
              "outlinewidth": 0,
              "ticks": ""
             }
            },
            "type": "scatterpolargl"
           }
          ],
          "scatterternary": [
           {
            "marker": {
             "colorbar": {
              "outlinewidth": 0,
              "ticks": ""
             }
            },
            "type": "scatterternary"
           }
          ],
          "surface": [
           {
            "colorbar": {
             "outlinewidth": 0,
             "ticks": ""
            },
            "colorscale": [
             [
              0,
              "#0d0887"
             ],
             [
              0.1111111111111111,
              "#46039f"
             ],
             [
              0.2222222222222222,
              "#7201a8"
             ],
             [
              0.3333333333333333,
              "#9c179e"
             ],
             [
              0.4444444444444444,
              "#bd3786"
             ],
             [
              0.5555555555555556,
              "#d8576b"
             ],
             [
              0.6666666666666666,
              "#ed7953"
             ],
             [
              0.7777777777777778,
              "#fb9f3a"
             ],
             [
              0.8888888888888888,
              "#fdca26"
             ],
             [
              1,
              "#f0f921"
             ]
            ],
            "type": "surface"
           }
          ],
          "table": [
           {
            "cells": {
             "fill": {
              "color": "#EBF0F8"
             },
             "line": {
              "color": "white"
             }
            },
            "header": {
             "fill": {
              "color": "#C8D4E3"
             },
             "line": {
              "color": "white"
             }
            },
            "type": "table"
           }
          ]
         },
         "layout": {
          "annotationdefaults": {
           "arrowcolor": "#2a3f5f",
           "arrowhead": 0,
           "arrowwidth": 1
          },
          "autotypenumbers": "strict",
          "coloraxis": {
           "colorbar": {
            "outlinewidth": 0,
            "ticks": ""
           }
          },
          "colorscale": {
           "diverging": [
            [
             0,
             "#8e0152"
            ],
            [
             0.1,
             "#c51b7d"
            ],
            [
             0.2,
             "#de77ae"
            ],
            [
             0.3,
             "#f1b6da"
            ],
            [
             0.4,
             "#fde0ef"
            ],
            [
             0.5,
             "#f7f7f7"
            ],
            [
             0.6,
             "#e6f5d0"
            ],
            [
             0.7,
             "#b8e186"
            ],
            [
             0.8,
             "#7fbc41"
            ],
            [
             0.9,
             "#4d9221"
            ],
            [
             1,
             "#276419"
            ]
           ],
           "sequential": [
            [
             0,
             "#0d0887"
            ],
            [
             0.1111111111111111,
             "#46039f"
            ],
            [
             0.2222222222222222,
             "#7201a8"
            ],
            [
             0.3333333333333333,
             "#9c179e"
            ],
            [
             0.4444444444444444,
             "#bd3786"
            ],
            [
             0.5555555555555556,
             "#d8576b"
            ],
            [
             0.6666666666666666,
             "#ed7953"
            ],
            [
             0.7777777777777778,
             "#fb9f3a"
            ],
            [
             0.8888888888888888,
             "#fdca26"
            ],
            [
             1,
             "#f0f921"
            ]
           ],
           "sequentialminus": [
            [
             0,
             "#0d0887"
            ],
            [
             0.1111111111111111,
             "#46039f"
            ],
            [
             0.2222222222222222,
             "#7201a8"
            ],
            [
             0.3333333333333333,
             "#9c179e"
            ],
            [
             0.4444444444444444,
             "#bd3786"
            ],
            [
             0.5555555555555556,
             "#d8576b"
            ],
            [
             0.6666666666666666,
             "#ed7953"
            ],
            [
             0.7777777777777778,
             "#fb9f3a"
            ],
            [
             0.8888888888888888,
             "#fdca26"
            ],
            [
             1,
             "#f0f921"
            ]
           ]
          },
          "colorway": [
           "#636efa",
           "#EF553B",
           "#00cc96",
           "#ab63fa",
           "#FFA15A",
           "#19d3f3",
           "#FF6692",
           "#B6E880",
           "#FF97FF",
           "#FECB52"
          ],
          "font": {
           "color": "#2a3f5f"
          },
          "geo": {
           "bgcolor": "white",
           "lakecolor": "white",
           "landcolor": "#E5ECF6",
           "showlakes": true,
           "showland": true,
           "subunitcolor": "white"
          },
          "hoverlabel": {
           "align": "left"
          },
          "hovermode": "closest",
          "mapbox": {
           "style": "light"
          },
          "paper_bgcolor": "white",
          "plot_bgcolor": "#E5ECF6",
          "polar": {
           "angularaxis": {
            "gridcolor": "white",
            "linecolor": "white",
            "ticks": ""
           },
           "bgcolor": "#E5ECF6",
           "radialaxis": {
            "gridcolor": "white",
            "linecolor": "white",
            "ticks": ""
           }
          },
          "scene": {
           "xaxis": {
            "backgroundcolor": "#E5ECF6",
            "gridcolor": "white",
            "gridwidth": 2,
            "linecolor": "white",
            "showbackground": true,
            "ticks": "",
            "zerolinecolor": "white"
           },
           "yaxis": {
            "backgroundcolor": "#E5ECF6",
            "gridcolor": "white",
            "gridwidth": 2,
            "linecolor": "white",
            "showbackground": true,
            "ticks": "",
            "zerolinecolor": "white"
           },
           "zaxis": {
            "backgroundcolor": "#E5ECF6",
            "gridcolor": "white",
            "gridwidth": 2,
            "linecolor": "white",
            "showbackground": true,
            "ticks": "",
            "zerolinecolor": "white"
           }
          },
          "shapedefaults": {
           "line": {
            "color": "#2a3f5f"
           }
          },
          "ternary": {
           "aaxis": {
            "gridcolor": "white",
            "linecolor": "white",
            "ticks": ""
           },
           "baxis": {
            "gridcolor": "white",
            "linecolor": "white",
            "ticks": ""
           },
           "bgcolor": "#E5ECF6",
           "caxis": {
            "gridcolor": "white",
            "linecolor": "white",
            "ticks": ""
           }
          },
          "title": {
           "x": 0.05
          },
          "xaxis": {
           "automargin": true,
           "gridcolor": "white",
           "linecolor": "white",
           "ticks": "",
           "title": {
            "standoff": 15
           },
           "zerolinecolor": "white",
           "zerolinewidth": 2
          },
          "yaxis": {
           "automargin": true,
           "gridcolor": "white",
           "linecolor": "white",
           "ticks": "",
           "title": {
            "standoff": 15
           },
           "zerolinecolor": "white",
           "zerolinewidth": 2
          }
         }
        },
        "title": {
         "text": "ts_momentum_directional-family strategies cum return"
        },
        "xaxis": {
         "anchor": "y",
         "domain": [
          0,
          1
         ],
         "title": {
          "text": "Date"
         }
        },
        "yaxis": {
         "anchor": "x",
         "domain": [
          0,
          1
         ],
         "title": {
          "text": "Cumulative Return"
         }
        }
       }
      }
     },
     "metadata": {},
     "output_type": "display_data"
    },
    {
     "data": {
      "application/vnd.plotly.v1+json": {
       "config": {
        "plotlyServerURL": "https://plot.ly"
       },
       "data": [
        {
         "hovertemplate": "<extra></extra>",
         "legendgroup": "",
         "line": {
          "color": "#636efa",
          "dash": "solid"
         },
         "marker": {
          "symbol": "circle"
         },
         "mode": "lines",
         "name": "",
         "orientation": "v",
         "showlegend": false,
         "type": "scatter",
         "xaxis": "x",
         "yaxis": "y"
        },
        {
         "mode": "lines",
         "name": "momentum_entry10pct_retain20pct_equal_weighted",
         "type": "scatter",
         "x": [
          "2022-11-30T00:00:00",
          "2022-12-31T00:00:00",
          "2023-01-31T00:00:00",
          "2023-02-28T00:00:00",
          "2023-03-31T00:00:00",
          "2023-04-30T00:00:00",
          "2023-05-31T00:00:00",
          "2023-06-30T00:00:00",
          "2023-07-31T00:00:00",
          "2023-08-31T00:00:00",
          "2023-09-30T00:00:00",
          "2023-10-31T00:00:00",
          "2023-11-30T00:00:00",
          "2023-12-31T00:00:00",
          "2024-01-31T00:00:00",
          "2024-02-29T00:00:00",
          "2024-03-31T00:00:00",
          "2024-04-30T00:00:00",
          "2024-05-31T00:00:00",
          "2024-06-30T00:00:00",
          "2024-07-31T00:00:00",
          "2024-08-31T00:00:00",
          "2024-09-30T00:00:00",
          "2024-10-31T00:00:00"
         ],
         "y": [
          0,
          0.012696298433340525,
          -0.18643182567784322,
          -0.16076856052185062,
          -0.1414819596058553,
          -0.1415607853593065,
          -0.12368289014517508,
          -0.1096526645522814,
          -0.11149270675386735,
          -0.11332325951136957,
          -0.1072987556596321,
          -0.1179830988575491,
          -0.15782301430912804,
          -0.14939677872387602,
          -0.16406824125062602,
          -0.2082531951581711,
          -0.17915562115382322,
          -0.17997358507759775,
          -0.11964949940103053,
          -0.10371177463444547,
          -0.08963642813779793,
          -0.09547883889185693,
          -0.07367448705531121,
          -0.06099272167221326
         ]
        },
        {
         "mode": "lines",
         "name": "momentum_entry10pct_retain20pct_value_weighted",
         "type": "scatter",
         "x": [
          "2022-11-30T00:00:00",
          "2022-12-31T00:00:00",
          "2023-01-31T00:00:00",
          "2023-02-28T00:00:00",
          "2023-03-31T00:00:00",
          "2023-04-30T00:00:00",
          "2023-05-31T00:00:00",
          "2023-06-30T00:00:00",
          "2023-07-31T00:00:00",
          "2023-08-31T00:00:00",
          "2023-09-30T00:00:00",
          "2023-10-31T00:00:00",
          "2023-11-30T00:00:00",
          "2023-12-31T00:00:00",
          "2024-01-31T00:00:00",
          "2024-02-29T00:00:00",
          "2024-03-31T00:00:00",
          "2024-04-30T00:00:00",
          "2024-05-31T00:00:00",
          "2024-06-30T00:00:00",
          "2024-07-31T00:00:00",
          "2024-08-31T00:00:00",
          "2024-09-30T00:00:00",
          "2024-10-31T00:00:00"
         ],
         "y": [
          0,
          0.01093673471970269,
          -0.18715739325412462,
          -0.16436263392333783,
          -0.14040623473135894,
          -0.1475393881869571,
          -0.1328828119645441,
          -0.13330470015264362,
          -0.13444172914452224,
          -0.13896421877353182,
          -0.13316982204454564,
          -0.14011351551791007,
          -0.20908173596018664,
          -0.11591749018474962,
          -0.13560344428310744,
          -0.20754314471964164,
          -0.2119381961419241,
          -0.2165619870966703,
          -0.12327845228578671,
          -0.10403461842992945,
          -0.08730554366318377,
          -0.09685985881213499,
          -0.08246684518575731,
          -0.06186112085446838
         ]
        },
        {
         "mode": "lines",
         "name": "momentum_entry10pct_no_retain_equal_weighted",
         "type": "scatter",
         "x": [
          "2022-11-30T00:00:00",
          "2022-12-31T00:00:00",
          "2023-01-31T00:00:00",
          "2023-02-28T00:00:00",
          "2023-03-31T00:00:00",
          "2023-04-30T00:00:00",
          "2023-05-31T00:00:00",
          "2023-06-30T00:00:00",
          "2023-07-31T00:00:00",
          "2023-08-31T00:00:00",
          "2023-09-30T00:00:00",
          "2023-10-31T00:00:00",
          "2023-11-30T00:00:00",
          "2023-12-31T00:00:00",
          "2024-01-31T00:00:00",
          "2024-02-29T00:00:00",
          "2024-03-31T00:00:00",
          "2024-04-30T00:00:00",
          "2024-05-31T00:00:00",
          "2024-06-30T00:00:00",
          "2024-07-31T00:00:00",
          "2024-08-31T00:00:00",
          "2024-09-30T00:00:00",
          "2024-10-31T00:00:00"
         ],
         "y": [
          0,
          0.022166262435593387,
          -0.17964000766569888,
          -0.14929241043754793,
          -0.1248605039899191,
          -0.11066861411379936,
          -0.09474763110767337,
          -0.08049914569608063,
          -0.08522672507381757,
          -0.09156061607308597,
          -0.08668736490522988,
          -0.09459943691457551,
          -0.145495785797647,
          -0.10772080848497845,
          -0.12646863518772067,
          -0.1851433905107368,
          -0.19899160420268236,
          -0.20166822843844423,
          -0.14294007857687896,
          -0.1289627590270972,
          -0.11300444561620615,
          -0.12162239513359008,
          -0.10097817158693723,
          -0.08425349717114505
         ]
        },
        {
         "mode": "lines",
         "name": "momentum_entry10pct_no_retain_value_weighted",
         "type": "scatter",
         "x": [
          "2022-11-30T00:00:00",
          "2022-12-31T00:00:00",
          "2023-01-31T00:00:00",
          "2023-02-28T00:00:00",
          "2023-03-31T00:00:00",
          "2023-04-30T00:00:00",
          "2023-05-31T00:00:00",
          "2023-06-30T00:00:00",
          "2023-07-31T00:00:00",
          "2023-08-31T00:00:00",
          "2023-09-30T00:00:00",
          "2023-10-31T00:00:00",
          "2023-11-30T00:00:00",
          "2023-12-31T00:00:00",
          "2024-01-31T00:00:00",
          "2024-02-29T00:00:00",
          "2024-03-31T00:00:00",
          "2024-04-30T00:00:00",
          "2024-05-31T00:00:00",
          "2024-06-30T00:00:00",
          "2024-07-31T00:00:00",
          "2024-08-31T00:00:00",
          "2024-09-30T00:00:00",
          "2024-10-31T00:00:00"
         ],
         "y": [
          0,
          0.02114809180830224,
          -0.1782782033504704,
          -0.15132215297792584,
          -0.09505588103484053,
          -0.07979894352907668,
          -0.06499487243977864,
          -0.06630626040475518,
          -0.06828274060106743,
          -0.07410862814364283,
          -0.06887968107746312,
          -0.07344162860701842,
          -0.1455885506818535,
          -0.02535870722540079,
          -0.048481716901297656,
          -0.1360240048297341,
          -0.16019336086319425,
          -0.16605707676654602,
          -0.06675994996330914,
          -0.04661064436408291,
          -0.03087796242401397,
          -0.04340883863443834,
          -0.028411254729286628,
          -0.00235722263742999
         ]
        }
       ],
       "layout": {
        "legend": {
         "tracegroupgap": 0
        },
        "template": {
         "data": {
          "bar": [
           {
            "error_x": {
             "color": "#2a3f5f"
            },
            "error_y": {
             "color": "#2a3f5f"
            },
            "marker": {
             "line": {
              "color": "#E5ECF6",
              "width": 0.5
             },
             "pattern": {
              "fillmode": "overlay",
              "size": 10,
              "solidity": 0.2
             }
            },
            "type": "bar"
           }
          ],
          "barpolar": [
           {
            "marker": {
             "line": {
              "color": "#E5ECF6",
              "width": 0.5
             },
             "pattern": {
              "fillmode": "overlay",
              "size": 10,
              "solidity": 0.2
             }
            },
            "type": "barpolar"
           }
          ],
          "carpet": [
           {
            "aaxis": {
             "endlinecolor": "#2a3f5f",
             "gridcolor": "white",
             "linecolor": "white",
             "minorgridcolor": "white",
             "startlinecolor": "#2a3f5f"
            },
            "baxis": {
             "endlinecolor": "#2a3f5f",
             "gridcolor": "white",
             "linecolor": "white",
             "minorgridcolor": "white",
             "startlinecolor": "#2a3f5f"
            },
            "type": "carpet"
           }
          ],
          "choropleth": [
           {
            "colorbar": {
             "outlinewidth": 0,
             "ticks": ""
            },
            "type": "choropleth"
           }
          ],
          "contour": [
           {
            "colorbar": {
             "outlinewidth": 0,
             "ticks": ""
            },
            "colorscale": [
             [
              0,
              "#0d0887"
             ],
             [
              0.1111111111111111,
              "#46039f"
             ],
             [
              0.2222222222222222,
              "#7201a8"
             ],
             [
              0.3333333333333333,
              "#9c179e"
             ],
             [
              0.4444444444444444,
              "#bd3786"
             ],
             [
              0.5555555555555556,
              "#d8576b"
             ],
             [
              0.6666666666666666,
              "#ed7953"
             ],
             [
              0.7777777777777778,
              "#fb9f3a"
             ],
             [
              0.8888888888888888,
              "#fdca26"
             ],
             [
              1,
              "#f0f921"
             ]
            ],
            "type": "contour"
           }
          ],
          "contourcarpet": [
           {
            "colorbar": {
             "outlinewidth": 0,
             "ticks": ""
            },
            "type": "contourcarpet"
           }
          ],
          "heatmap": [
           {
            "colorbar": {
             "outlinewidth": 0,
             "ticks": ""
            },
            "colorscale": [
             [
              0,
              "#0d0887"
             ],
             [
              0.1111111111111111,
              "#46039f"
             ],
             [
              0.2222222222222222,
              "#7201a8"
             ],
             [
              0.3333333333333333,
              "#9c179e"
             ],
             [
              0.4444444444444444,
              "#bd3786"
             ],
             [
              0.5555555555555556,
              "#d8576b"
             ],
             [
              0.6666666666666666,
              "#ed7953"
             ],
             [
              0.7777777777777778,
              "#fb9f3a"
             ],
             [
              0.8888888888888888,
              "#fdca26"
             ],
             [
              1,
              "#f0f921"
             ]
            ],
            "type": "heatmap"
           }
          ],
          "heatmapgl": [
           {
            "colorbar": {
             "outlinewidth": 0,
             "ticks": ""
            },
            "colorscale": [
             [
              0,
              "#0d0887"
             ],
             [
              0.1111111111111111,
              "#46039f"
             ],
             [
              0.2222222222222222,
              "#7201a8"
             ],
             [
              0.3333333333333333,
              "#9c179e"
             ],
             [
              0.4444444444444444,
              "#bd3786"
             ],
             [
              0.5555555555555556,
              "#d8576b"
             ],
             [
              0.6666666666666666,
              "#ed7953"
             ],
             [
              0.7777777777777778,
              "#fb9f3a"
             ],
             [
              0.8888888888888888,
              "#fdca26"
             ],
             [
              1,
              "#f0f921"
             ]
            ],
            "type": "heatmapgl"
           }
          ],
          "histogram": [
           {
            "marker": {
             "pattern": {
              "fillmode": "overlay",
              "size": 10,
              "solidity": 0.2
             }
            },
            "type": "histogram"
           }
          ],
          "histogram2d": [
           {
            "colorbar": {
             "outlinewidth": 0,
             "ticks": ""
            },
            "colorscale": [
             [
              0,
              "#0d0887"
             ],
             [
              0.1111111111111111,
              "#46039f"
             ],
             [
              0.2222222222222222,
              "#7201a8"
             ],
             [
              0.3333333333333333,
              "#9c179e"
             ],
             [
              0.4444444444444444,
              "#bd3786"
             ],
             [
              0.5555555555555556,
              "#d8576b"
             ],
             [
              0.6666666666666666,
              "#ed7953"
             ],
             [
              0.7777777777777778,
              "#fb9f3a"
             ],
             [
              0.8888888888888888,
              "#fdca26"
             ],
             [
              1,
              "#f0f921"
             ]
            ],
            "type": "histogram2d"
           }
          ],
          "histogram2dcontour": [
           {
            "colorbar": {
             "outlinewidth": 0,
             "ticks": ""
            },
            "colorscale": [
             [
              0,
              "#0d0887"
             ],
             [
              0.1111111111111111,
              "#46039f"
             ],
             [
              0.2222222222222222,
              "#7201a8"
             ],
             [
              0.3333333333333333,
              "#9c179e"
             ],
             [
              0.4444444444444444,
              "#bd3786"
             ],
             [
              0.5555555555555556,
              "#d8576b"
             ],
             [
              0.6666666666666666,
              "#ed7953"
             ],
             [
              0.7777777777777778,
              "#fb9f3a"
             ],
             [
              0.8888888888888888,
              "#fdca26"
             ],
             [
              1,
              "#f0f921"
             ]
            ],
            "type": "histogram2dcontour"
           }
          ],
          "mesh3d": [
           {
            "colorbar": {
             "outlinewidth": 0,
             "ticks": ""
            },
            "type": "mesh3d"
           }
          ],
          "parcoords": [
           {
            "line": {
             "colorbar": {
              "outlinewidth": 0,
              "ticks": ""
             }
            },
            "type": "parcoords"
           }
          ],
          "pie": [
           {
            "automargin": true,
            "type": "pie"
           }
          ],
          "scatter": [
           {
            "fillpattern": {
             "fillmode": "overlay",
             "size": 10,
             "solidity": 0.2
            },
            "type": "scatter"
           }
          ],
          "scatter3d": [
           {
            "line": {
             "colorbar": {
              "outlinewidth": 0,
              "ticks": ""
             }
            },
            "marker": {
             "colorbar": {
              "outlinewidth": 0,
              "ticks": ""
             }
            },
            "type": "scatter3d"
           }
          ],
          "scattercarpet": [
           {
            "marker": {
             "colorbar": {
              "outlinewidth": 0,
              "ticks": ""
             }
            },
            "type": "scattercarpet"
           }
          ],
          "scattergeo": [
           {
            "marker": {
             "colorbar": {
              "outlinewidth": 0,
              "ticks": ""
             }
            },
            "type": "scattergeo"
           }
          ],
          "scattergl": [
           {
            "marker": {
             "colorbar": {
              "outlinewidth": 0,
              "ticks": ""
             }
            },
            "type": "scattergl"
           }
          ],
          "scattermapbox": [
           {
            "marker": {
             "colorbar": {
              "outlinewidth": 0,
              "ticks": ""
             }
            },
            "type": "scattermapbox"
           }
          ],
          "scatterpolar": [
           {
            "marker": {
             "colorbar": {
              "outlinewidth": 0,
              "ticks": ""
             }
            },
            "type": "scatterpolar"
           }
          ],
          "scatterpolargl": [
           {
            "marker": {
             "colorbar": {
              "outlinewidth": 0,
              "ticks": ""
             }
            },
            "type": "scatterpolargl"
           }
          ],
          "scatterternary": [
           {
            "marker": {
             "colorbar": {
              "outlinewidth": 0,
              "ticks": ""
             }
            },
            "type": "scatterternary"
           }
          ],
          "surface": [
           {
            "colorbar": {
             "outlinewidth": 0,
             "ticks": ""
            },
            "colorscale": [
             [
              0,
              "#0d0887"
             ],
             [
              0.1111111111111111,
              "#46039f"
             ],
             [
              0.2222222222222222,
              "#7201a8"
             ],
             [
              0.3333333333333333,
              "#9c179e"
             ],
             [
              0.4444444444444444,
              "#bd3786"
             ],
             [
              0.5555555555555556,
              "#d8576b"
             ],
             [
              0.6666666666666666,
              "#ed7953"
             ],
             [
              0.7777777777777778,
              "#fb9f3a"
             ],
             [
              0.8888888888888888,
              "#fdca26"
             ],
             [
              1,
              "#f0f921"
             ]
            ],
            "type": "surface"
           }
          ],
          "table": [
           {
            "cells": {
             "fill": {
              "color": "#EBF0F8"
             },
             "line": {
              "color": "white"
             }
            },
            "header": {
             "fill": {
              "color": "#C8D4E3"
             },
             "line": {
              "color": "white"
             }
            },
            "type": "table"
           }
          ]
         },
         "layout": {
          "annotationdefaults": {
           "arrowcolor": "#2a3f5f",
           "arrowhead": 0,
           "arrowwidth": 1
          },
          "autotypenumbers": "strict",
          "coloraxis": {
           "colorbar": {
            "outlinewidth": 0,
            "ticks": ""
           }
          },
          "colorscale": {
           "diverging": [
            [
             0,
             "#8e0152"
            ],
            [
             0.1,
             "#c51b7d"
            ],
            [
             0.2,
             "#de77ae"
            ],
            [
             0.3,
             "#f1b6da"
            ],
            [
             0.4,
             "#fde0ef"
            ],
            [
             0.5,
             "#f7f7f7"
            ],
            [
             0.6,
             "#e6f5d0"
            ],
            [
             0.7,
             "#b8e186"
            ],
            [
             0.8,
             "#7fbc41"
            ],
            [
             0.9,
             "#4d9221"
            ],
            [
             1,
             "#276419"
            ]
           ],
           "sequential": [
            [
             0,
             "#0d0887"
            ],
            [
             0.1111111111111111,
             "#46039f"
            ],
            [
             0.2222222222222222,
             "#7201a8"
            ],
            [
             0.3333333333333333,
             "#9c179e"
            ],
            [
             0.4444444444444444,
             "#bd3786"
            ],
            [
             0.5555555555555556,
             "#d8576b"
            ],
            [
             0.6666666666666666,
             "#ed7953"
            ],
            [
             0.7777777777777778,
             "#fb9f3a"
            ],
            [
             0.8888888888888888,
             "#fdca26"
            ],
            [
             1,
             "#f0f921"
            ]
           ],
           "sequentialminus": [
            [
             0,
             "#0d0887"
            ],
            [
             0.1111111111111111,
             "#46039f"
            ],
            [
             0.2222222222222222,
             "#7201a8"
            ],
            [
             0.3333333333333333,
             "#9c179e"
            ],
            [
             0.4444444444444444,
             "#bd3786"
            ],
            [
             0.5555555555555556,
             "#d8576b"
            ],
            [
             0.6666666666666666,
             "#ed7953"
            ],
            [
             0.7777777777777778,
             "#fb9f3a"
            ],
            [
             0.8888888888888888,
             "#fdca26"
            ],
            [
             1,
             "#f0f921"
            ]
           ]
          },
          "colorway": [
           "#636efa",
           "#EF553B",
           "#00cc96",
           "#ab63fa",
           "#FFA15A",
           "#19d3f3",
           "#FF6692",
           "#B6E880",
           "#FF97FF",
           "#FECB52"
          ],
          "font": {
           "color": "#2a3f5f"
          },
          "geo": {
           "bgcolor": "white",
           "lakecolor": "white",
           "landcolor": "#E5ECF6",
           "showlakes": true,
           "showland": true,
           "subunitcolor": "white"
          },
          "hoverlabel": {
           "align": "left"
          },
          "hovermode": "closest",
          "mapbox": {
           "style": "light"
          },
          "paper_bgcolor": "white",
          "plot_bgcolor": "#E5ECF6",
          "polar": {
           "angularaxis": {
            "gridcolor": "white",
            "linecolor": "white",
            "ticks": ""
           },
           "bgcolor": "#E5ECF6",
           "radialaxis": {
            "gridcolor": "white",
            "linecolor": "white",
            "ticks": ""
           }
          },
          "scene": {
           "xaxis": {
            "backgroundcolor": "#E5ECF6",
            "gridcolor": "white",
            "gridwidth": 2,
            "linecolor": "white",
            "showbackground": true,
            "ticks": "",
            "zerolinecolor": "white"
           },
           "yaxis": {
            "backgroundcolor": "#E5ECF6",
            "gridcolor": "white",
            "gridwidth": 2,
            "linecolor": "white",
            "showbackground": true,
            "ticks": "",
            "zerolinecolor": "white"
           },
           "zaxis": {
            "backgroundcolor": "#E5ECF6",
            "gridcolor": "white",
            "gridwidth": 2,
            "linecolor": "white",
            "showbackground": true,
            "ticks": "",
            "zerolinecolor": "white"
           }
          },
          "shapedefaults": {
           "line": {
            "color": "#2a3f5f"
           }
          },
          "ternary": {
           "aaxis": {
            "gridcolor": "white",
            "linecolor": "white",
            "ticks": ""
           },
           "baxis": {
            "gridcolor": "white",
            "linecolor": "white",
            "ticks": ""
           },
           "bgcolor": "#E5ECF6",
           "caxis": {
            "gridcolor": "white",
            "linecolor": "white",
            "ticks": ""
           }
          },
          "title": {
           "x": 0.05
          },
          "xaxis": {
           "automargin": true,
           "gridcolor": "white",
           "linecolor": "white",
           "ticks": "",
           "title": {
            "standoff": 15
           },
           "zerolinecolor": "white",
           "zerolinewidth": 2
          },
          "yaxis": {
           "automargin": true,
           "gridcolor": "white",
           "linecolor": "white",
           "ticks": "",
           "title": {
            "standoff": 15
           },
           "zerolinecolor": "white",
           "zerolinewidth": 2
          }
         }
        },
        "title": {
         "text": "momentum_entry-family strategies cum return"
        },
        "xaxis": {
         "anchor": "y",
         "domain": [
          0,
          1
         ],
         "title": {
          "text": "Date"
         }
        },
        "yaxis": {
         "anchor": "x",
         "domain": [
          0,
          1
         ],
         "title": {
          "text": "Cumulative Return"
         }
        }
       }
      }
     },
     "metadata": {},
     "output_type": "display_data"
    },
    {
     "data": {
      "application/vnd.plotly.v1+json": {
       "config": {
        "plotlyServerURL": "https://plot.ly"
       },
       "data": [
        {
         "hovertemplate": "<extra></extra>",
         "legendgroup": "",
         "line": {
          "color": "#636efa",
          "dash": "solid"
         },
         "marker": {
          "symbol": "circle"
         },
         "mode": "lines",
         "name": "",
         "orientation": "v",
         "showlegend": false,
         "type": "scatter",
         "xaxis": "x",
         "yaxis": "y"
        },
        {
         "mode": "lines",
         "name": "ts_momentum_10pct_equal_weighted",
         "type": "scatter",
         "x": [
          "2022-11-30T00:00:00",
          "2022-12-31T00:00:00",
          "2023-01-31T00:00:00",
          "2023-02-28T00:00:00",
          "2023-03-31T00:00:00",
          "2023-04-30T00:00:00",
          "2023-05-31T00:00:00",
          "2023-06-30T00:00:00",
          "2023-07-31T00:00:00",
          "2023-08-31T00:00:00",
          "2023-09-30T00:00:00",
          "2023-10-31T00:00:00",
          "2023-11-30T00:00:00",
          "2023-12-31T00:00:00",
          "2024-01-31T00:00:00",
          "2024-02-29T00:00:00",
          "2024-03-31T00:00:00",
          "2024-04-30T00:00:00",
          "2024-05-31T00:00:00",
          "2024-06-30T00:00:00",
          "2024-07-31T00:00:00",
          "2024-08-31T00:00:00",
          "2024-09-30T00:00:00",
          "2024-10-31T00:00:00"
         ],
         "y": [
          0,
          0.017292736207397796,
          -0.18768149200157624,
          -0.16105411126485625,
          -0.16289161319189793,
          -0.16321615957081104,
          -0.1395899849404333,
          -0.13124216948408485,
          -0.13136964699436537,
          -0.12501267503341817,
          -0.11931510704921866,
          -0.1174689412920834,
          -0.15570274711316479,
          -0.14346204611125468,
          -0.1515326960157961,
          -0.16751105369152275,
          -0.1709905408715976,
          -0.17537584545985418,
          -0.11942183255051753,
          -0.11502127055128075,
          -0.09461796587672233,
          -0.10473053377477415,
          -0.08065683554514658,
          -0.0639428484380219
         ]
        },
        {
         "mode": "lines",
         "name": "ts_momentum_10pct_value_weighted",
         "type": "scatter",
         "x": [
          "2022-11-30T00:00:00",
          "2022-12-31T00:00:00",
          "2023-01-31T00:00:00",
          "2023-02-28T00:00:00",
          "2023-03-31T00:00:00",
          "2023-04-30T00:00:00",
          "2023-05-31T00:00:00",
          "2023-06-30T00:00:00",
          "2023-07-31T00:00:00",
          "2023-08-31T00:00:00",
          "2023-09-30T00:00:00",
          "2023-10-31T00:00:00",
          "2023-11-30T00:00:00",
          "2023-12-31T00:00:00",
          "2024-01-31T00:00:00",
          "2024-02-29T00:00:00",
          "2024-03-31T00:00:00",
          "2024-04-30T00:00:00",
          "2024-05-31T00:00:00",
          "2024-06-30T00:00:00",
          "2024-07-31T00:00:00",
          "2024-08-31T00:00:00",
          "2024-09-30T00:00:00",
          "2024-10-31T00:00:00"
         ],
         "y": [
          0,
          0.016181414003689998,
          -0.21144325515512052,
          -0.18193598248651155,
          -0.18341890068718691,
          -0.1811257369187722,
          -0.15743731047527965,
          -0.1534753500534437,
          -0.15312087920202644,
          -0.14716476484738372,
          -0.14161623686504687,
          -0.14153590683260253,
          -0.18650512233976702,
          -0.12033923052269047,
          -0.13536955001721507,
          -0.1620024944433518,
          -0.18019251438237693,
          -0.18631836236680532,
          -0.12819297601626078,
          -0.11795922535056469,
          -0.09879457006213443,
          -0.11278057587261503,
          -0.08996483413637113,
          -0.07011175285117821
         ]
        },
        {
         "mode": "lines",
         "name": "ts_momentum_20pct_equal_weighted",
         "type": "scatter",
         "x": [
          "2022-11-30T00:00:00",
          "2022-12-31T00:00:00",
          "2023-01-31T00:00:00",
          "2023-02-28T00:00:00",
          "2023-03-31T00:00:00",
          "2023-04-30T00:00:00",
          "2023-05-31T00:00:00",
          "2023-06-30T00:00:00",
          "2023-07-31T00:00:00",
          "2023-08-31T00:00:00",
          "2023-09-30T00:00:00",
          "2023-10-31T00:00:00",
          "2023-11-30T00:00:00",
          "2023-12-31T00:00:00",
          "2024-01-31T00:00:00",
          "2024-02-29T00:00:00",
          "2024-03-31T00:00:00",
          "2024-04-30T00:00:00",
          "2024-05-31T00:00:00",
          "2024-06-30T00:00:00",
          "2024-07-31T00:00:00",
          "2024-08-31T00:00:00",
          "2024-09-30T00:00:00",
          "2024-10-31T00:00:00"
         ],
         "y": [
          0,
          -0.0031586644542093145,
          -0.19069765612952694,
          -0.18126381804329383,
          -0.17331843647792533,
          -0.17077633325121144,
          -0.15030084556176104,
          -0.13747406231429082,
          -0.12546746700372913,
          -0.11912461215456827,
          -0.17247991166071963,
          -0.1791677772427268,
          -0.1811235954174918,
          -0.21241294092536012,
          -0.20765011582879722,
          -0.2211757195955617,
          -0.21153016101323763,
          -0.20785593828169557,
          -0.17659788468763893,
          -0.17096004992049796,
          -0.16236011336390055,
          -0.16193745367204215,
          -0.14238501090867717,
          -0.13151738699407556
         ]
        },
        {
         "mode": "lines",
         "name": "ts_momentum_20pct_value_weighted",
         "type": "scatter",
         "x": [
          "2022-11-30T00:00:00",
          "2022-12-31T00:00:00",
          "2023-01-31T00:00:00",
          "2023-02-28T00:00:00",
          "2023-03-31T00:00:00",
          "2023-04-30T00:00:00",
          "2023-05-31T00:00:00",
          "2023-06-30T00:00:00",
          "2023-07-31T00:00:00",
          "2023-08-31T00:00:00",
          "2023-09-30T00:00:00",
          "2023-10-31T00:00:00",
          "2023-11-30T00:00:00",
          "2023-12-31T00:00:00",
          "2024-01-31T00:00:00",
          "2024-02-29T00:00:00",
          "2024-03-31T00:00:00",
          "2024-04-30T00:00:00",
          "2024-05-31T00:00:00",
          "2024-06-30T00:00:00",
          "2024-07-31T00:00:00",
          "2024-08-31T00:00:00",
          "2024-09-30T00:00:00",
          "2024-10-31T00:00:00"
         ],
         "y": [
          0,
          -0.001934326445955592,
          -0.20347802386816372,
          -0.18896717855694445,
          -0.18397562468530015,
          -0.18077849550641645,
          -0.15923753492251713,
          -0.15016131401873245,
          -0.13978189328937773,
          -0.1347461136396666,
          -0.18153256079565716,
          -0.18810165714595106,
          -0.20629530996139245,
          -0.19169620001656917,
          -0.19615376289987674,
          -0.22001707053861885,
          -0.22411630646765035,
          -0.22524351113020857,
          -0.18188354588208866,
          -0.1729931012535152,
          -0.16098188954107173,
          -0.16656855893950961,
          -0.14693940152526141,
          -0.1329139375751036
         ]
        },
        {
         "mode": "lines",
         "name": "ts_momentum_30pct_equal_weighted",
         "type": "scatter",
         "x": [
          "2022-11-30T00:00:00",
          "2022-12-31T00:00:00",
          "2023-01-31T00:00:00",
          "2023-02-28T00:00:00",
          "2023-03-31T00:00:00",
          "2023-04-30T00:00:00",
          "2023-05-31T00:00:00",
          "2023-06-30T00:00:00",
          "2023-07-31T00:00:00",
          "2023-08-31T00:00:00",
          "2023-09-30T00:00:00",
          "2023-10-31T00:00:00",
          "2023-11-30T00:00:00",
          "2023-12-31T00:00:00",
          "2024-01-31T00:00:00",
          "2024-02-29T00:00:00",
          "2024-03-31T00:00:00",
          "2024-04-30T00:00:00",
          "2024-05-31T00:00:00",
          "2024-06-30T00:00:00",
          "2024-07-31T00:00:00",
          "2024-08-31T00:00:00",
          "2024-09-30T00:00:00",
          "2024-10-31T00:00:00"
         ],
         "y": [
          0,
          0.0016483957017869866,
          -0.13831004898268462,
          -0.12963577211117971,
          -0.12015767580942915,
          -0.11399524394825189,
          -0.0796889969264275,
          -0.06363662040368767,
          -0.05091050362860705,
          -0.055713113328779595,
          -0.10126009038737571,
          -0.0951870340476847,
          -0.11791604726607718,
          -0.14875256790328817,
          -0.14395579185416674,
          -0.1624412076651005,
          -0.1529219485533777,
          -0.1473939002163024,
          -0.11545683844690802,
          -0.1024533801322931,
          -0.10075197635683308,
          -0.10081144474408477,
          -0.08085189405019566,
          -0.07391453308694862
         ]
        },
        {
         "mode": "lines",
         "name": "ts_momentum_30pct_value_weighted",
         "type": "scatter",
         "x": [
          "2022-11-30T00:00:00",
          "2022-12-31T00:00:00",
          "2023-01-31T00:00:00",
          "2023-02-28T00:00:00",
          "2023-03-31T00:00:00",
          "2023-04-30T00:00:00",
          "2023-05-31T00:00:00",
          "2023-06-30T00:00:00",
          "2023-07-31T00:00:00",
          "2023-08-31T00:00:00",
          "2023-09-30T00:00:00",
          "2023-10-31T00:00:00",
          "2023-11-30T00:00:00",
          "2023-12-31T00:00:00",
          "2024-01-31T00:00:00",
          "2024-02-29T00:00:00",
          "2024-03-31T00:00:00",
          "2024-04-30T00:00:00",
          "2024-05-31T00:00:00",
          "2024-06-30T00:00:00",
          "2024-07-31T00:00:00",
          "2024-08-31T00:00:00",
          "2024-09-30T00:00:00",
          "2024-10-31T00:00:00"
         ],
         "y": [
          0,
          0.0006284552964348489,
          -0.16936994572273378,
          -0.15638609824386596,
          -0.1505197506654946,
          -0.14542798283854164,
          -0.11694137628310375,
          -0.1047105946082394,
          -0.09500692774222008,
          -0.09891920630066198,
          -0.1400821680596862,
          -0.14009596276048664,
          -0.1673193145634131,
          -0.16020996820465838,
          -0.16262010688148176,
          -0.1910608502438078,
          -0.1948297631128839,
          -0.1939987608629613,
          -0.15192404640717427,
          -0.1392837645905729,
          -0.13154822095175767,
          -0.13641144501655988,
          -0.1171375851372145,
          -0.10585870788373808
         ]
        }
       ],
       "layout": {
        "legend": {
         "tracegroupgap": 0
        },
        "template": {
         "data": {
          "bar": [
           {
            "error_x": {
             "color": "#2a3f5f"
            },
            "error_y": {
             "color": "#2a3f5f"
            },
            "marker": {
             "line": {
              "color": "#E5ECF6",
              "width": 0.5
             },
             "pattern": {
              "fillmode": "overlay",
              "size": 10,
              "solidity": 0.2
             }
            },
            "type": "bar"
           }
          ],
          "barpolar": [
           {
            "marker": {
             "line": {
              "color": "#E5ECF6",
              "width": 0.5
             },
             "pattern": {
              "fillmode": "overlay",
              "size": 10,
              "solidity": 0.2
             }
            },
            "type": "barpolar"
           }
          ],
          "carpet": [
           {
            "aaxis": {
             "endlinecolor": "#2a3f5f",
             "gridcolor": "white",
             "linecolor": "white",
             "minorgridcolor": "white",
             "startlinecolor": "#2a3f5f"
            },
            "baxis": {
             "endlinecolor": "#2a3f5f",
             "gridcolor": "white",
             "linecolor": "white",
             "minorgridcolor": "white",
             "startlinecolor": "#2a3f5f"
            },
            "type": "carpet"
           }
          ],
          "choropleth": [
           {
            "colorbar": {
             "outlinewidth": 0,
             "ticks": ""
            },
            "type": "choropleth"
           }
          ],
          "contour": [
           {
            "colorbar": {
             "outlinewidth": 0,
             "ticks": ""
            },
            "colorscale": [
             [
              0,
              "#0d0887"
             ],
             [
              0.1111111111111111,
              "#46039f"
             ],
             [
              0.2222222222222222,
              "#7201a8"
             ],
             [
              0.3333333333333333,
              "#9c179e"
             ],
             [
              0.4444444444444444,
              "#bd3786"
             ],
             [
              0.5555555555555556,
              "#d8576b"
             ],
             [
              0.6666666666666666,
              "#ed7953"
             ],
             [
              0.7777777777777778,
              "#fb9f3a"
             ],
             [
              0.8888888888888888,
              "#fdca26"
             ],
             [
              1,
              "#f0f921"
             ]
            ],
            "type": "contour"
           }
          ],
          "contourcarpet": [
           {
            "colorbar": {
             "outlinewidth": 0,
             "ticks": ""
            },
            "type": "contourcarpet"
           }
          ],
          "heatmap": [
           {
            "colorbar": {
             "outlinewidth": 0,
             "ticks": ""
            },
            "colorscale": [
             [
              0,
              "#0d0887"
             ],
             [
              0.1111111111111111,
              "#46039f"
             ],
             [
              0.2222222222222222,
              "#7201a8"
             ],
             [
              0.3333333333333333,
              "#9c179e"
             ],
             [
              0.4444444444444444,
              "#bd3786"
             ],
             [
              0.5555555555555556,
              "#d8576b"
             ],
             [
              0.6666666666666666,
              "#ed7953"
             ],
             [
              0.7777777777777778,
              "#fb9f3a"
             ],
             [
              0.8888888888888888,
              "#fdca26"
             ],
             [
              1,
              "#f0f921"
             ]
            ],
            "type": "heatmap"
           }
          ],
          "heatmapgl": [
           {
            "colorbar": {
             "outlinewidth": 0,
             "ticks": ""
            },
            "colorscale": [
             [
              0,
              "#0d0887"
             ],
             [
              0.1111111111111111,
              "#46039f"
             ],
             [
              0.2222222222222222,
              "#7201a8"
             ],
             [
              0.3333333333333333,
              "#9c179e"
             ],
             [
              0.4444444444444444,
              "#bd3786"
             ],
             [
              0.5555555555555556,
              "#d8576b"
             ],
             [
              0.6666666666666666,
              "#ed7953"
             ],
             [
              0.7777777777777778,
              "#fb9f3a"
             ],
             [
              0.8888888888888888,
              "#fdca26"
             ],
             [
              1,
              "#f0f921"
             ]
            ],
            "type": "heatmapgl"
           }
          ],
          "histogram": [
           {
            "marker": {
             "pattern": {
              "fillmode": "overlay",
              "size": 10,
              "solidity": 0.2
             }
            },
            "type": "histogram"
           }
          ],
          "histogram2d": [
           {
            "colorbar": {
             "outlinewidth": 0,
             "ticks": ""
            },
            "colorscale": [
             [
              0,
              "#0d0887"
             ],
             [
              0.1111111111111111,
              "#46039f"
             ],
             [
              0.2222222222222222,
              "#7201a8"
             ],
             [
              0.3333333333333333,
              "#9c179e"
             ],
             [
              0.4444444444444444,
              "#bd3786"
             ],
             [
              0.5555555555555556,
              "#d8576b"
             ],
             [
              0.6666666666666666,
              "#ed7953"
             ],
             [
              0.7777777777777778,
              "#fb9f3a"
             ],
             [
              0.8888888888888888,
              "#fdca26"
             ],
             [
              1,
              "#f0f921"
             ]
            ],
            "type": "histogram2d"
           }
          ],
          "histogram2dcontour": [
           {
            "colorbar": {
             "outlinewidth": 0,
             "ticks": ""
            },
            "colorscale": [
             [
              0,
              "#0d0887"
             ],
             [
              0.1111111111111111,
              "#46039f"
             ],
             [
              0.2222222222222222,
              "#7201a8"
             ],
             [
              0.3333333333333333,
              "#9c179e"
             ],
             [
              0.4444444444444444,
              "#bd3786"
             ],
             [
              0.5555555555555556,
              "#d8576b"
             ],
             [
              0.6666666666666666,
              "#ed7953"
             ],
             [
              0.7777777777777778,
              "#fb9f3a"
             ],
             [
              0.8888888888888888,
              "#fdca26"
             ],
             [
              1,
              "#f0f921"
             ]
            ],
            "type": "histogram2dcontour"
           }
          ],
          "mesh3d": [
           {
            "colorbar": {
             "outlinewidth": 0,
             "ticks": ""
            },
            "type": "mesh3d"
           }
          ],
          "parcoords": [
           {
            "line": {
             "colorbar": {
              "outlinewidth": 0,
              "ticks": ""
             }
            },
            "type": "parcoords"
           }
          ],
          "pie": [
           {
            "automargin": true,
            "type": "pie"
           }
          ],
          "scatter": [
           {
            "fillpattern": {
             "fillmode": "overlay",
             "size": 10,
             "solidity": 0.2
            },
            "type": "scatter"
           }
          ],
          "scatter3d": [
           {
            "line": {
             "colorbar": {
              "outlinewidth": 0,
              "ticks": ""
             }
            },
            "marker": {
             "colorbar": {
              "outlinewidth": 0,
              "ticks": ""
             }
            },
            "type": "scatter3d"
           }
          ],
          "scattercarpet": [
           {
            "marker": {
             "colorbar": {
              "outlinewidth": 0,
              "ticks": ""
             }
            },
            "type": "scattercarpet"
           }
          ],
          "scattergeo": [
           {
            "marker": {
             "colorbar": {
              "outlinewidth": 0,
              "ticks": ""
             }
            },
            "type": "scattergeo"
           }
          ],
          "scattergl": [
           {
            "marker": {
             "colorbar": {
              "outlinewidth": 0,
              "ticks": ""
             }
            },
            "type": "scattergl"
           }
          ],
          "scattermapbox": [
           {
            "marker": {
             "colorbar": {
              "outlinewidth": 0,
              "ticks": ""
             }
            },
            "type": "scattermapbox"
           }
          ],
          "scatterpolar": [
           {
            "marker": {
             "colorbar": {
              "outlinewidth": 0,
              "ticks": ""
             }
            },
            "type": "scatterpolar"
           }
          ],
          "scatterpolargl": [
           {
            "marker": {
             "colorbar": {
              "outlinewidth": 0,
              "ticks": ""
             }
            },
            "type": "scatterpolargl"
           }
          ],
          "scatterternary": [
           {
            "marker": {
             "colorbar": {
              "outlinewidth": 0,
              "ticks": ""
             }
            },
            "type": "scatterternary"
           }
          ],
          "surface": [
           {
            "colorbar": {
             "outlinewidth": 0,
             "ticks": ""
            },
            "colorscale": [
             [
              0,
              "#0d0887"
             ],
             [
              0.1111111111111111,
              "#46039f"
             ],
             [
              0.2222222222222222,
              "#7201a8"
             ],
             [
              0.3333333333333333,
              "#9c179e"
             ],
             [
              0.4444444444444444,
              "#bd3786"
             ],
             [
              0.5555555555555556,
              "#d8576b"
             ],
             [
              0.6666666666666666,
              "#ed7953"
             ],
             [
              0.7777777777777778,
              "#fb9f3a"
             ],
             [
              0.8888888888888888,
              "#fdca26"
             ],
             [
              1,
              "#f0f921"
             ]
            ],
            "type": "surface"
           }
          ],
          "table": [
           {
            "cells": {
             "fill": {
              "color": "#EBF0F8"
             },
             "line": {
              "color": "white"
             }
            },
            "header": {
             "fill": {
              "color": "#C8D4E3"
             },
             "line": {
              "color": "white"
             }
            },
            "type": "table"
           }
          ]
         },
         "layout": {
          "annotationdefaults": {
           "arrowcolor": "#2a3f5f",
           "arrowhead": 0,
           "arrowwidth": 1
          },
          "autotypenumbers": "strict",
          "coloraxis": {
           "colorbar": {
            "outlinewidth": 0,
            "ticks": ""
           }
          },
          "colorscale": {
           "diverging": [
            [
             0,
             "#8e0152"
            ],
            [
             0.1,
             "#c51b7d"
            ],
            [
             0.2,
             "#de77ae"
            ],
            [
             0.3,
             "#f1b6da"
            ],
            [
             0.4,
             "#fde0ef"
            ],
            [
             0.5,
             "#f7f7f7"
            ],
            [
             0.6,
             "#e6f5d0"
            ],
            [
             0.7,
             "#b8e186"
            ],
            [
             0.8,
             "#7fbc41"
            ],
            [
             0.9,
             "#4d9221"
            ],
            [
             1,
             "#276419"
            ]
           ],
           "sequential": [
            [
             0,
             "#0d0887"
            ],
            [
             0.1111111111111111,
             "#46039f"
            ],
            [
             0.2222222222222222,
             "#7201a8"
            ],
            [
             0.3333333333333333,
             "#9c179e"
            ],
            [
             0.4444444444444444,
             "#bd3786"
            ],
            [
             0.5555555555555556,
             "#d8576b"
            ],
            [
             0.6666666666666666,
             "#ed7953"
            ],
            [
             0.7777777777777778,
             "#fb9f3a"
            ],
            [
             0.8888888888888888,
             "#fdca26"
            ],
            [
             1,
             "#f0f921"
            ]
           ],
           "sequentialminus": [
            [
             0,
             "#0d0887"
            ],
            [
             0.1111111111111111,
             "#46039f"
            ],
            [
             0.2222222222222222,
             "#7201a8"
            ],
            [
             0.3333333333333333,
             "#9c179e"
            ],
            [
             0.4444444444444444,
             "#bd3786"
            ],
            [
             0.5555555555555556,
             "#d8576b"
            ],
            [
             0.6666666666666666,
             "#ed7953"
            ],
            [
             0.7777777777777778,
             "#fb9f3a"
            ],
            [
             0.8888888888888888,
             "#fdca26"
            ],
            [
             1,
             "#f0f921"
            ]
           ]
          },
          "colorway": [
           "#636efa",
           "#EF553B",
           "#00cc96",
           "#ab63fa",
           "#FFA15A",
           "#19d3f3",
           "#FF6692",
           "#B6E880",
           "#FF97FF",
           "#FECB52"
          ],
          "font": {
           "color": "#2a3f5f"
          },
          "geo": {
           "bgcolor": "white",
           "lakecolor": "white",
           "landcolor": "#E5ECF6",
           "showlakes": true,
           "showland": true,
           "subunitcolor": "white"
          },
          "hoverlabel": {
           "align": "left"
          },
          "hovermode": "closest",
          "mapbox": {
           "style": "light"
          },
          "paper_bgcolor": "white",
          "plot_bgcolor": "#E5ECF6",
          "polar": {
           "angularaxis": {
            "gridcolor": "white",
            "linecolor": "white",
            "ticks": ""
           },
           "bgcolor": "#E5ECF6",
           "radialaxis": {
            "gridcolor": "white",
            "linecolor": "white",
            "ticks": ""
           }
          },
          "scene": {
           "xaxis": {
            "backgroundcolor": "#E5ECF6",
            "gridcolor": "white",
            "gridwidth": 2,
            "linecolor": "white",
            "showbackground": true,
            "ticks": "",
            "zerolinecolor": "white"
           },
           "yaxis": {
            "backgroundcolor": "#E5ECF6",
            "gridcolor": "white",
            "gridwidth": 2,
            "linecolor": "white",
            "showbackground": true,
            "ticks": "",
            "zerolinecolor": "white"
           },
           "zaxis": {
            "backgroundcolor": "#E5ECF6",
            "gridcolor": "white",
            "gridwidth": 2,
            "linecolor": "white",
            "showbackground": true,
            "ticks": "",
            "zerolinecolor": "white"
           }
          },
          "shapedefaults": {
           "line": {
            "color": "#2a3f5f"
           }
          },
          "ternary": {
           "aaxis": {
            "gridcolor": "white",
            "linecolor": "white",
            "ticks": ""
           },
           "baxis": {
            "gridcolor": "white",
            "linecolor": "white",
            "ticks": ""
           },
           "bgcolor": "#E5ECF6",
           "caxis": {
            "gridcolor": "white",
            "linecolor": "white",
            "ticks": ""
           }
          },
          "title": {
           "x": 0.05
          },
          "xaxis": {
           "automargin": true,
           "gridcolor": "white",
           "linecolor": "white",
           "ticks": "",
           "title": {
            "standoff": 15
           },
           "zerolinecolor": "white",
           "zerolinewidth": 2
          },
          "yaxis": {
           "automargin": true,
           "gridcolor": "white",
           "linecolor": "white",
           "ticks": "",
           "title": {
            "standoff": 15
           },
           "zerolinecolor": "white",
           "zerolinewidth": 2
          }
         }
        },
        "title": {
         "text": "ts_momentum-family strategies cum return"
        },
        "xaxis": {
         "anchor": "y",
         "domain": [
          0,
          1
         ],
         "title": {
          "text": "Date"
         }
        },
        "yaxis": {
         "anchor": "x",
         "domain": [
          0,
          1
         ],
         "title": {
          "text": "Cumulative Return"
         }
        }
       }
      }
     },
     "metadata": {},
     "output_type": "display_data"
    },
    {
     "data": {
      "application/vnd.plotly.v1+json": {
       "config": {
        "plotlyServerURL": "https://plot.ly"
       },
       "data": [
        {
         "hovertemplate": "<extra></extra>",
         "legendgroup": "",
         "line": {
          "color": "#636efa",
          "dash": "solid"
         },
         "marker": {
          "symbol": "circle"
         },
         "mode": "lines",
         "name": "",
         "orientation": "v",
         "showlegend": false,
         "type": "scatter",
         "xaxis": "x",
         "yaxis": "y"
        },
        {
         "mode": "lines",
         "name": "momentum_10pct_equal_weighted",
         "type": "scatter",
         "x": [
          "2022-11-30T00:00:00",
          "2022-12-31T00:00:00",
          "2023-01-31T00:00:00",
          "2023-02-28T00:00:00",
          "2023-03-31T00:00:00",
          "2023-04-30T00:00:00",
          "2023-05-31T00:00:00",
          "2023-06-30T00:00:00",
          "2023-07-31T00:00:00",
          "2023-08-31T00:00:00",
          "2023-09-30T00:00:00",
          "2023-10-31T00:00:00",
          "2023-11-30T00:00:00",
          "2023-12-31T00:00:00",
          "2024-01-31T00:00:00",
          "2024-02-29T00:00:00",
          "2024-03-31T00:00:00",
          "2024-04-30T00:00:00",
          "2024-05-31T00:00:00",
          "2024-06-30T00:00:00",
          "2024-07-31T00:00:00",
          "2024-08-31T00:00:00",
          "2024-09-30T00:00:00",
          "2024-10-31T00:00:00"
         ],
         "y": [
          0,
          0.022166262435593387,
          -0.17964000766569888,
          -0.14929241043754793,
          -0.1248605039899191,
          -0.11066861411379936,
          -0.09474763110767337,
          -0.08049914569608063,
          -0.08522672507381757,
          -0.09156061607308597,
          -0.08668736490522988,
          -0.09459943691457551,
          -0.145495785797647,
          -0.10772080848497845,
          -0.12646863518772067,
          -0.1851433905107368,
          -0.19899160420268236,
          -0.20166822843844423,
          -0.14294007857687896,
          -0.1289627590270972,
          -0.11300444561620615,
          -0.12162239513359008,
          -0.10097817158693723,
          -0.08425349717114505
         ]
        },
        {
         "mode": "lines",
         "name": "momentum_10pct_value_weighted",
         "type": "scatter",
         "x": [
          "2022-11-30T00:00:00",
          "2022-12-31T00:00:00",
          "2023-01-31T00:00:00",
          "2023-02-28T00:00:00",
          "2023-03-31T00:00:00",
          "2023-04-30T00:00:00",
          "2023-05-31T00:00:00",
          "2023-06-30T00:00:00",
          "2023-07-31T00:00:00",
          "2023-08-31T00:00:00",
          "2023-09-30T00:00:00",
          "2023-10-31T00:00:00",
          "2023-11-30T00:00:00",
          "2023-12-31T00:00:00",
          "2024-01-31T00:00:00",
          "2024-02-29T00:00:00",
          "2024-03-31T00:00:00",
          "2024-04-30T00:00:00",
          "2024-05-31T00:00:00",
          "2024-06-30T00:00:00",
          "2024-07-31T00:00:00",
          "2024-08-31T00:00:00",
          "2024-09-30T00:00:00",
          "2024-10-31T00:00:00"
         ],
         "y": [
          0,
          0.02114809180830224,
          -0.1782782033504704,
          -0.15132215297792584,
          -0.09505588103484053,
          -0.07979894352907668,
          -0.06499487243977864,
          -0.06630626040475518,
          -0.06828274060106743,
          -0.07410862814364283,
          -0.06887968107746312,
          -0.07344162860701842,
          -0.1455885506818535,
          -0.02535870722540079,
          -0.048481716901297656,
          -0.1360240048297341,
          -0.16019336086319425,
          -0.16605707676654602,
          -0.06675994996330914,
          -0.04661064436408291,
          -0.03087796242401397,
          -0.04340883863443834,
          -0.028411254729286628,
          -0.00235722263742999
         ]
        },
        {
         "mode": "lines",
         "name": "momentum_20pct_equal_weighted",
         "type": "scatter",
         "x": [
          "2022-11-30T00:00:00",
          "2022-12-31T00:00:00",
          "2023-01-31T00:00:00",
          "2023-02-28T00:00:00",
          "2023-03-31T00:00:00",
          "2023-04-30T00:00:00",
          "2023-05-31T00:00:00",
          "2023-06-30T00:00:00",
          "2023-07-31T00:00:00",
          "2023-08-31T00:00:00",
          "2023-09-30T00:00:00",
          "2023-10-31T00:00:00",
          "2023-11-30T00:00:00",
          "2023-12-31T00:00:00",
          "2024-01-31T00:00:00",
          "2024-02-29T00:00:00",
          "2024-03-31T00:00:00",
          "2024-04-30T00:00:00",
          "2024-05-31T00:00:00",
          "2024-06-30T00:00:00",
          "2024-07-31T00:00:00",
          "2024-08-31T00:00:00",
          "2024-09-30T00:00:00",
          "2024-10-31T00:00:00"
         ],
         "y": [
          0,
          0.008807589279277384,
          -0.16851727610761036,
          -0.15145497187699242,
          -0.13554152152030052,
          -0.13645408301559847,
          -0.11542698938571583,
          -0.10930143252330482,
          -0.09982876622491299,
          -0.12217952691733835,
          -0.11900338799353238,
          -0.11959422465364367,
          -0.15408956156167297,
          -0.15231356234453042,
          -0.154210441462717,
          -0.18157564365892187,
          -0.17574586592522867,
          -0.16758738997828493,
          -0.13890806296576486,
          -0.13547663940294752,
          -0.12894392862760828,
          -0.12461454756663959,
          -0.10911367438064634,
          -0.09889336027603401
         ]
        },
        {
         "mode": "lines",
         "name": "momentum_20pct_value_weighted",
         "type": "scatter",
         "x": [
          "2022-11-30T00:00:00",
          "2022-12-31T00:00:00",
          "2023-01-31T00:00:00",
          "2023-02-28T00:00:00",
          "2023-03-31T00:00:00",
          "2023-04-30T00:00:00",
          "2023-05-31T00:00:00",
          "2023-06-30T00:00:00",
          "2023-07-31T00:00:00",
          "2023-08-31T00:00:00",
          "2023-09-30T00:00:00",
          "2023-10-31T00:00:00",
          "2023-11-30T00:00:00",
          "2023-12-31T00:00:00",
          "2024-01-31T00:00:00",
          "2024-02-29T00:00:00",
          "2024-03-31T00:00:00",
          "2024-04-30T00:00:00",
          "2024-05-31T00:00:00",
          "2024-06-30T00:00:00",
          "2024-07-31T00:00:00",
          "2024-08-31T00:00:00",
          "2024-09-30T00:00:00",
          "2024-10-31T00:00:00"
         ],
         "y": [
          0,
          0.007834442470670888,
          -0.17031850742883292,
          -0.15508559323560978,
          -0.14192025184803503,
          -0.14630485710840557,
          -0.1339012524663339,
          -0.13405308794495963,
          -0.12854382920629115,
          -0.15476368772112736,
          -0.14859421005025242,
          -0.15223249282711748,
          -0.2254936534776687,
          -0.14496302007707373,
          -0.16031242083595942,
          -0.21571163829350448,
          -0.22518629455585726,
          -0.22589621086346412,
          -0.1863910883147898,
          -0.1762009576141419,
          -0.1640545336436654,
          -0.1679156706504309,
          -0.15582180471534712,
          -0.13924367792949055
         ]
        },
        {
         "mode": "lines",
         "name": "momentum_30pct_equal_weighted",
         "type": "scatter",
         "x": [
          "2022-11-30T00:00:00",
          "2022-12-31T00:00:00",
          "2023-01-31T00:00:00",
          "2023-02-28T00:00:00",
          "2023-03-31T00:00:00",
          "2023-04-30T00:00:00",
          "2023-05-31T00:00:00",
          "2023-06-30T00:00:00",
          "2023-07-31T00:00:00",
          "2023-08-31T00:00:00",
          "2023-09-30T00:00:00",
          "2023-10-31T00:00:00",
          "2023-11-30T00:00:00",
          "2023-12-31T00:00:00",
          "2024-01-31T00:00:00",
          "2024-02-29T00:00:00",
          "2024-03-31T00:00:00",
          "2024-04-30T00:00:00",
          "2024-05-31T00:00:00",
          "2024-06-30T00:00:00",
          "2024-07-31T00:00:00",
          "2024-08-31T00:00:00",
          "2024-09-30T00:00:00",
          "2024-10-31T00:00:00"
         ],
         "y": [
          0,
          0.01553145593574179,
          -0.14507009553813843,
          -0.13209333365810405,
          -0.12439108022560008,
          -0.11918476684272361,
          -0.10509142309360775,
          -0.12848363933260176,
          -0.13411199840327293,
          -0.16646549443295044,
          -0.17070375960006412,
          -0.16354707420524772,
          -0.185503525737733,
          -0.1950727316025379,
          -0.1891055501680743,
          -0.21052744626015285,
          -0.2305480502050279,
          -0.22026804128683397,
          -0.19023125294209386,
          -0.18771576524186817,
          -0.1870013787101793,
          -0.18559527012136035,
          -0.1696251788057177,
          -0.1615332639382655
         ]
        },
        {
         "mode": "lines",
         "name": "momentum_30pct_value_weighted",
         "type": "scatter",
         "x": [
          "2022-11-30T00:00:00",
          "2022-12-31T00:00:00",
          "2023-01-31T00:00:00",
          "2023-02-28T00:00:00",
          "2023-03-31T00:00:00",
          "2023-04-30T00:00:00",
          "2023-05-31T00:00:00",
          "2023-06-30T00:00:00",
          "2023-07-31T00:00:00",
          "2023-08-31T00:00:00",
          "2023-09-30T00:00:00",
          "2023-10-31T00:00:00",
          "2023-11-30T00:00:00",
          "2023-12-31T00:00:00",
          "2024-01-31T00:00:00",
          "2024-02-29T00:00:00",
          "2024-03-31T00:00:00",
          "2024-04-30T00:00:00",
          "2024-05-31T00:00:00",
          "2024-06-30T00:00:00",
          "2024-07-31T00:00:00",
          "2024-08-31T00:00:00",
          "2024-09-30T00:00:00",
          "2024-10-31T00:00:00"
         ],
         "y": [
          0,
          0.015353177338948365,
          -0.14660361394511934,
          -0.13527404533253817,
          -0.13213223778499406,
          -0.12792297018763976,
          -0.15637296543579593,
          -0.1790458166721155,
          -0.17999726571788066,
          -0.21684635059951685,
          -0.22090493059024352,
          -0.2226461761613331,
          -0.2777632926456777,
          -0.21259925489375375,
          -0.261409986846855,
          -0.30499342602780743,
          -0.3227386469574751,
          -0.32157991597883906,
          -0.28292689395056936,
          -0.27430431586123916,
          -0.2540785465620191,
          -0.257635565463999,
          -0.24372347690959761,
          -0.23056040031371194
         ]
        }
       ],
       "layout": {
        "legend": {
         "tracegroupgap": 0
        },
        "template": {
         "data": {
          "bar": [
           {
            "error_x": {
             "color": "#2a3f5f"
            },
            "error_y": {
             "color": "#2a3f5f"
            },
            "marker": {
             "line": {
              "color": "#E5ECF6",
              "width": 0.5
             },
             "pattern": {
              "fillmode": "overlay",
              "size": 10,
              "solidity": 0.2
             }
            },
            "type": "bar"
           }
          ],
          "barpolar": [
           {
            "marker": {
             "line": {
              "color": "#E5ECF6",
              "width": 0.5
             },
             "pattern": {
              "fillmode": "overlay",
              "size": 10,
              "solidity": 0.2
             }
            },
            "type": "barpolar"
           }
          ],
          "carpet": [
           {
            "aaxis": {
             "endlinecolor": "#2a3f5f",
             "gridcolor": "white",
             "linecolor": "white",
             "minorgridcolor": "white",
             "startlinecolor": "#2a3f5f"
            },
            "baxis": {
             "endlinecolor": "#2a3f5f",
             "gridcolor": "white",
             "linecolor": "white",
             "minorgridcolor": "white",
             "startlinecolor": "#2a3f5f"
            },
            "type": "carpet"
           }
          ],
          "choropleth": [
           {
            "colorbar": {
             "outlinewidth": 0,
             "ticks": ""
            },
            "type": "choropleth"
           }
          ],
          "contour": [
           {
            "colorbar": {
             "outlinewidth": 0,
             "ticks": ""
            },
            "colorscale": [
             [
              0,
              "#0d0887"
             ],
             [
              0.1111111111111111,
              "#46039f"
             ],
             [
              0.2222222222222222,
              "#7201a8"
             ],
             [
              0.3333333333333333,
              "#9c179e"
             ],
             [
              0.4444444444444444,
              "#bd3786"
             ],
             [
              0.5555555555555556,
              "#d8576b"
             ],
             [
              0.6666666666666666,
              "#ed7953"
             ],
             [
              0.7777777777777778,
              "#fb9f3a"
             ],
             [
              0.8888888888888888,
              "#fdca26"
             ],
             [
              1,
              "#f0f921"
             ]
            ],
            "type": "contour"
           }
          ],
          "contourcarpet": [
           {
            "colorbar": {
             "outlinewidth": 0,
             "ticks": ""
            },
            "type": "contourcarpet"
           }
          ],
          "heatmap": [
           {
            "colorbar": {
             "outlinewidth": 0,
             "ticks": ""
            },
            "colorscale": [
             [
              0,
              "#0d0887"
             ],
             [
              0.1111111111111111,
              "#46039f"
             ],
             [
              0.2222222222222222,
              "#7201a8"
             ],
             [
              0.3333333333333333,
              "#9c179e"
             ],
             [
              0.4444444444444444,
              "#bd3786"
             ],
             [
              0.5555555555555556,
              "#d8576b"
             ],
             [
              0.6666666666666666,
              "#ed7953"
             ],
             [
              0.7777777777777778,
              "#fb9f3a"
             ],
             [
              0.8888888888888888,
              "#fdca26"
             ],
             [
              1,
              "#f0f921"
             ]
            ],
            "type": "heatmap"
           }
          ],
          "heatmapgl": [
           {
            "colorbar": {
             "outlinewidth": 0,
             "ticks": ""
            },
            "colorscale": [
             [
              0,
              "#0d0887"
             ],
             [
              0.1111111111111111,
              "#46039f"
             ],
             [
              0.2222222222222222,
              "#7201a8"
             ],
             [
              0.3333333333333333,
              "#9c179e"
             ],
             [
              0.4444444444444444,
              "#bd3786"
             ],
             [
              0.5555555555555556,
              "#d8576b"
             ],
             [
              0.6666666666666666,
              "#ed7953"
             ],
             [
              0.7777777777777778,
              "#fb9f3a"
             ],
             [
              0.8888888888888888,
              "#fdca26"
             ],
             [
              1,
              "#f0f921"
             ]
            ],
            "type": "heatmapgl"
           }
          ],
          "histogram": [
           {
            "marker": {
             "pattern": {
              "fillmode": "overlay",
              "size": 10,
              "solidity": 0.2
             }
            },
            "type": "histogram"
           }
          ],
          "histogram2d": [
           {
            "colorbar": {
             "outlinewidth": 0,
             "ticks": ""
            },
            "colorscale": [
             [
              0,
              "#0d0887"
             ],
             [
              0.1111111111111111,
              "#46039f"
             ],
             [
              0.2222222222222222,
              "#7201a8"
             ],
             [
              0.3333333333333333,
              "#9c179e"
             ],
             [
              0.4444444444444444,
              "#bd3786"
             ],
             [
              0.5555555555555556,
              "#d8576b"
             ],
             [
              0.6666666666666666,
              "#ed7953"
             ],
             [
              0.7777777777777778,
              "#fb9f3a"
             ],
             [
              0.8888888888888888,
              "#fdca26"
             ],
             [
              1,
              "#f0f921"
             ]
            ],
            "type": "histogram2d"
           }
          ],
          "histogram2dcontour": [
           {
            "colorbar": {
             "outlinewidth": 0,
             "ticks": ""
            },
            "colorscale": [
             [
              0,
              "#0d0887"
             ],
             [
              0.1111111111111111,
              "#46039f"
             ],
             [
              0.2222222222222222,
              "#7201a8"
             ],
             [
              0.3333333333333333,
              "#9c179e"
             ],
             [
              0.4444444444444444,
              "#bd3786"
             ],
             [
              0.5555555555555556,
              "#d8576b"
             ],
             [
              0.6666666666666666,
              "#ed7953"
             ],
             [
              0.7777777777777778,
              "#fb9f3a"
             ],
             [
              0.8888888888888888,
              "#fdca26"
             ],
             [
              1,
              "#f0f921"
             ]
            ],
            "type": "histogram2dcontour"
           }
          ],
          "mesh3d": [
           {
            "colorbar": {
             "outlinewidth": 0,
             "ticks": ""
            },
            "type": "mesh3d"
           }
          ],
          "parcoords": [
           {
            "line": {
             "colorbar": {
              "outlinewidth": 0,
              "ticks": ""
             }
            },
            "type": "parcoords"
           }
          ],
          "pie": [
           {
            "automargin": true,
            "type": "pie"
           }
          ],
          "scatter": [
           {
            "fillpattern": {
             "fillmode": "overlay",
             "size": 10,
             "solidity": 0.2
            },
            "type": "scatter"
           }
          ],
          "scatter3d": [
           {
            "line": {
             "colorbar": {
              "outlinewidth": 0,
              "ticks": ""
             }
            },
            "marker": {
             "colorbar": {
              "outlinewidth": 0,
              "ticks": ""
             }
            },
            "type": "scatter3d"
           }
          ],
          "scattercarpet": [
           {
            "marker": {
             "colorbar": {
              "outlinewidth": 0,
              "ticks": ""
             }
            },
            "type": "scattercarpet"
           }
          ],
          "scattergeo": [
           {
            "marker": {
             "colorbar": {
              "outlinewidth": 0,
              "ticks": ""
             }
            },
            "type": "scattergeo"
           }
          ],
          "scattergl": [
           {
            "marker": {
             "colorbar": {
              "outlinewidth": 0,
              "ticks": ""
             }
            },
            "type": "scattergl"
           }
          ],
          "scattermapbox": [
           {
            "marker": {
             "colorbar": {
              "outlinewidth": 0,
              "ticks": ""
             }
            },
            "type": "scattermapbox"
           }
          ],
          "scatterpolar": [
           {
            "marker": {
             "colorbar": {
              "outlinewidth": 0,
              "ticks": ""
             }
            },
            "type": "scatterpolar"
           }
          ],
          "scatterpolargl": [
           {
            "marker": {
             "colorbar": {
              "outlinewidth": 0,
              "ticks": ""
             }
            },
            "type": "scatterpolargl"
           }
          ],
          "scatterternary": [
           {
            "marker": {
             "colorbar": {
              "outlinewidth": 0,
              "ticks": ""
             }
            },
            "type": "scatterternary"
           }
          ],
          "surface": [
           {
            "colorbar": {
             "outlinewidth": 0,
             "ticks": ""
            },
            "colorscale": [
             [
              0,
              "#0d0887"
             ],
             [
              0.1111111111111111,
              "#46039f"
             ],
             [
              0.2222222222222222,
              "#7201a8"
             ],
             [
              0.3333333333333333,
              "#9c179e"
             ],
             [
              0.4444444444444444,
              "#bd3786"
             ],
             [
              0.5555555555555556,
              "#d8576b"
             ],
             [
              0.6666666666666666,
              "#ed7953"
             ],
             [
              0.7777777777777778,
              "#fb9f3a"
             ],
             [
              0.8888888888888888,
              "#fdca26"
             ],
             [
              1,
              "#f0f921"
             ]
            ],
            "type": "surface"
           }
          ],
          "table": [
           {
            "cells": {
             "fill": {
              "color": "#EBF0F8"
             },
             "line": {
              "color": "white"
             }
            },
            "header": {
             "fill": {
              "color": "#C8D4E3"
             },
             "line": {
              "color": "white"
             }
            },
            "type": "table"
           }
          ]
         },
         "layout": {
          "annotationdefaults": {
           "arrowcolor": "#2a3f5f",
           "arrowhead": 0,
           "arrowwidth": 1
          },
          "autotypenumbers": "strict",
          "coloraxis": {
           "colorbar": {
            "outlinewidth": 0,
            "ticks": ""
           }
          },
          "colorscale": {
           "diverging": [
            [
             0,
             "#8e0152"
            ],
            [
             0.1,
             "#c51b7d"
            ],
            [
             0.2,
             "#de77ae"
            ],
            [
             0.3,
             "#f1b6da"
            ],
            [
             0.4,
             "#fde0ef"
            ],
            [
             0.5,
             "#f7f7f7"
            ],
            [
             0.6,
             "#e6f5d0"
            ],
            [
             0.7,
             "#b8e186"
            ],
            [
             0.8,
             "#7fbc41"
            ],
            [
             0.9,
             "#4d9221"
            ],
            [
             1,
             "#276419"
            ]
           ],
           "sequential": [
            [
             0,
             "#0d0887"
            ],
            [
             0.1111111111111111,
             "#46039f"
            ],
            [
             0.2222222222222222,
             "#7201a8"
            ],
            [
             0.3333333333333333,
             "#9c179e"
            ],
            [
             0.4444444444444444,
             "#bd3786"
            ],
            [
             0.5555555555555556,
             "#d8576b"
            ],
            [
             0.6666666666666666,
             "#ed7953"
            ],
            [
             0.7777777777777778,
             "#fb9f3a"
            ],
            [
             0.8888888888888888,
             "#fdca26"
            ],
            [
             1,
             "#f0f921"
            ]
           ],
           "sequentialminus": [
            [
             0,
             "#0d0887"
            ],
            [
             0.1111111111111111,
             "#46039f"
            ],
            [
             0.2222222222222222,
             "#7201a8"
            ],
            [
             0.3333333333333333,
             "#9c179e"
            ],
            [
             0.4444444444444444,
             "#bd3786"
            ],
            [
             0.5555555555555556,
             "#d8576b"
            ],
            [
             0.6666666666666666,
             "#ed7953"
            ],
            [
             0.7777777777777778,
             "#fb9f3a"
            ],
            [
             0.8888888888888888,
             "#fdca26"
            ],
            [
             1,
             "#f0f921"
            ]
           ]
          },
          "colorway": [
           "#636efa",
           "#EF553B",
           "#00cc96",
           "#ab63fa",
           "#FFA15A",
           "#19d3f3",
           "#FF6692",
           "#B6E880",
           "#FF97FF",
           "#FECB52"
          ],
          "font": {
           "color": "#2a3f5f"
          },
          "geo": {
           "bgcolor": "white",
           "lakecolor": "white",
           "landcolor": "#E5ECF6",
           "showlakes": true,
           "showland": true,
           "subunitcolor": "white"
          },
          "hoverlabel": {
           "align": "left"
          },
          "hovermode": "closest",
          "mapbox": {
           "style": "light"
          },
          "paper_bgcolor": "white",
          "plot_bgcolor": "#E5ECF6",
          "polar": {
           "angularaxis": {
            "gridcolor": "white",
            "linecolor": "white",
            "ticks": ""
           },
           "bgcolor": "#E5ECF6",
           "radialaxis": {
            "gridcolor": "white",
            "linecolor": "white",
            "ticks": ""
           }
          },
          "scene": {
           "xaxis": {
            "backgroundcolor": "#E5ECF6",
            "gridcolor": "white",
            "gridwidth": 2,
            "linecolor": "white",
            "showbackground": true,
            "ticks": "",
            "zerolinecolor": "white"
           },
           "yaxis": {
            "backgroundcolor": "#E5ECF6",
            "gridcolor": "white",
            "gridwidth": 2,
            "linecolor": "white",
            "showbackground": true,
            "ticks": "",
            "zerolinecolor": "white"
           },
           "zaxis": {
            "backgroundcolor": "#E5ECF6",
            "gridcolor": "white",
            "gridwidth": 2,
            "linecolor": "white",
            "showbackground": true,
            "ticks": "",
            "zerolinecolor": "white"
           }
          },
          "shapedefaults": {
           "line": {
            "color": "#2a3f5f"
           }
          },
          "ternary": {
           "aaxis": {
            "gridcolor": "white",
            "linecolor": "white",
            "ticks": ""
           },
           "baxis": {
            "gridcolor": "white",
            "linecolor": "white",
            "ticks": ""
           },
           "bgcolor": "#E5ECF6",
           "caxis": {
            "gridcolor": "white",
            "linecolor": "white",
            "ticks": ""
           }
          },
          "title": {
           "x": 0.05
          },
          "xaxis": {
           "automargin": true,
           "gridcolor": "white",
           "linecolor": "white",
           "ticks": "",
           "title": {
            "standoff": 15
           },
           "zerolinecolor": "white",
           "zerolinewidth": 2
          },
          "yaxis": {
           "automargin": true,
           "gridcolor": "white",
           "linecolor": "white",
           "ticks": "",
           "title": {
            "standoff": 15
           },
           "zerolinecolor": "white",
           "zerolinewidth": 2
          }
         }
        },
        "title": {
         "text": "momentum-family strategies cum return"
        },
        "xaxis": {
         "anchor": "y",
         "domain": [
          0,
          1
         ],
         "title": {
          "text": "Date"
         }
        },
        "yaxis": {
         "anchor": "x",
         "domain": [
          0,
          1
         ],
         "title": {
          "text": "Cumulative Return"
         }
        }
       }
      }
     },
     "metadata": {},
     "output_type": "display_data"
    },
    {
     "data": {
      "application/vnd.plotly.v1+json": {
       "config": {
        "plotlyServerURL": "https://plot.ly"
       },
       "data": [
        {
         "hovertemplate": "<extra></extra>",
         "legendgroup": "",
         "line": {
          "color": "#636efa",
          "dash": "solid"
         },
         "marker": {
          "symbol": "circle"
         },
         "mode": "lines",
         "name": "",
         "orientation": "v",
         "showlegend": false,
         "type": "scatter",
         "xaxis": "x",
         "yaxis": "y"
        },
        {
         "mode": "lines",
         "name": "ratio_to_high_10pct_equal_weighted",
         "type": "scatter",
         "x": [
          "2022-11-30T00:00:00",
          "2022-12-31T00:00:00",
          "2023-01-31T00:00:00",
          "2023-02-28T00:00:00",
          "2023-03-31T00:00:00",
          "2023-04-30T00:00:00",
          "2023-05-31T00:00:00",
          "2023-06-30T00:00:00",
          "2023-07-31T00:00:00",
          "2023-08-31T00:00:00",
          "2023-09-30T00:00:00",
          "2023-10-31T00:00:00",
          "2023-11-30T00:00:00",
          "2023-12-31T00:00:00",
          "2024-01-31T00:00:00",
          "2024-02-29T00:00:00",
          "2024-03-31T00:00:00",
          "2024-04-30T00:00:00",
          "2024-05-31T00:00:00",
          "2024-06-30T00:00:00",
          "2024-07-31T00:00:00",
          "2024-08-31T00:00:00",
          "2024-09-30T00:00:00",
          "2024-10-31T00:00:00"
         ],
         "y": [
          0,
          0.019778680310029495,
          -0.1884722486318805,
          -0.18593432854824032,
          -0.18457971036680199,
          -0.19640221265955582,
          -0.17924504819068154,
          -0.16249771782751155,
          -0.17246661863872959,
          -0.16597043018937685,
          -0.15725736478235475,
          -0.1457283070555132,
          -0.09246827830732018,
          -0.09095186339327466,
          -0.035654344583616604,
          -0.01900453085751752,
          -0.026813458752911523,
          -0.0036267282093485065,
          -0.08383341516365816,
          -0.0759242209079608,
          -0.04609029502942963,
          -0.005467802726900284,
          -0.010603515823512488,
          0.0007601712141280803
         ]
        },
        {
         "mode": "lines",
         "name": "ratio_to_high_10pct_value_weighted",
         "type": "scatter",
         "x": [
          "2022-11-30T00:00:00",
          "2022-12-31T00:00:00",
          "2023-01-31T00:00:00",
          "2023-02-28T00:00:00",
          "2023-03-31T00:00:00",
          "2023-04-30T00:00:00",
          "2023-05-31T00:00:00",
          "2023-06-30T00:00:00",
          "2023-07-31T00:00:00",
          "2023-08-31T00:00:00",
          "2023-09-30T00:00:00",
          "2023-10-31T00:00:00",
          "2023-11-30T00:00:00",
          "2023-12-31T00:00:00",
          "2024-01-31T00:00:00",
          "2024-02-29T00:00:00",
          "2024-03-31T00:00:00",
          "2024-04-30T00:00:00",
          "2024-05-31T00:00:00",
          "2024-06-30T00:00:00",
          "2024-07-31T00:00:00",
          "2024-08-31T00:00:00",
          "2024-09-30T00:00:00",
          "2024-10-31T00:00:00"
         ],
         "y": [
          0,
          0.020889619557877603,
          -0.17543030227571166,
          -0.17116330093200238,
          -0.16984480862127582,
          -0.1836153597442196,
          -0.16673885013149736,
          -0.15010901722315972,
          -0.1601712534333477,
          -0.15377110992755827,
          -0.14477353292555084,
          -0.13370161241332135,
          -0.07915539111400116,
          -0.08015164104699668,
          -0.02732288535409877,
          -0.014982446100120783,
          -0.028912613875627602,
          -0.006888999413298125,
          -0.05046440766725535,
          -0.03652176432474452,
          -0.006092632881491644,
          0.03569298870425519,
          0.029978634899679557,
          0.042721769787225305
         ]
        },
        {
         "mode": "lines",
         "name": "ratio_to_high_20pct_equal_weighted",
         "type": "scatter",
         "x": [
          "2022-11-30T00:00:00",
          "2022-12-31T00:00:00",
          "2023-01-31T00:00:00",
          "2023-02-28T00:00:00",
          "2023-03-31T00:00:00",
          "2023-04-30T00:00:00",
          "2023-05-31T00:00:00",
          "2023-06-30T00:00:00",
          "2023-07-31T00:00:00",
          "2023-08-31T00:00:00",
          "2023-09-30T00:00:00",
          "2023-10-31T00:00:00",
          "2023-11-30T00:00:00",
          "2023-12-31T00:00:00",
          "2024-01-31T00:00:00",
          "2024-02-29T00:00:00",
          "2024-03-31T00:00:00",
          "2024-04-30T00:00:00",
          "2024-05-31T00:00:00",
          "2024-06-30T00:00:00",
          "2024-07-31T00:00:00",
          "2024-08-31T00:00:00",
          "2024-09-30T00:00:00",
          "2024-10-31T00:00:00"
         ],
         "y": [
          0,
          0.00838345318524314,
          -0.15849967677359766,
          -0.155958503066689,
          -0.1422170518127197,
          -0.14375705886549728,
          -0.10196703518356731,
          -0.08874190742238086,
          -0.08483590429940924,
          -0.08589934274511157,
          -0.006522612935117134,
          0.02869842963005409,
          0.07489325541090985,
          0.036835051355679216,
          0.06815945801286372,
          0.060102995985410246,
          0.04801181183008696,
          0.0509381123752386,
          0.005343823459720065,
          0.006564251283737388,
          0.042719232743880564,
          0.06647090106843678,
          0.04942347756863863,
          0.058229067681042634
         ]
        },
        {
         "mode": "lines",
         "name": "ratio_to_high_20pct_value_weighted",
         "type": "scatter",
         "x": [
          "2022-11-30T00:00:00",
          "2022-12-31T00:00:00",
          "2023-01-31T00:00:00",
          "2023-02-28T00:00:00",
          "2023-03-31T00:00:00",
          "2023-04-30T00:00:00",
          "2023-05-31T00:00:00",
          "2023-06-30T00:00:00",
          "2023-07-31T00:00:00",
          "2023-08-31T00:00:00",
          "2023-09-30T00:00:00",
          "2023-10-31T00:00:00",
          "2023-11-30T00:00:00",
          "2023-12-31T00:00:00",
          "2024-01-31T00:00:00",
          "2024-02-29T00:00:00",
          "2024-03-31T00:00:00",
          "2024-04-30T00:00:00",
          "2024-05-31T00:00:00",
          "2024-06-30T00:00:00",
          "2024-07-31T00:00:00",
          "2024-08-31T00:00:00",
          "2024-09-30T00:00:00",
          "2024-10-31T00:00:00"
         ],
         "y": [
          0,
          0.007764768582966708,
          -0.1503555074938192,
          -0.14704997843286072,
          -0.13392825655176133,
          -0.136699855603439,
          -0.09420314232595861,
          -0.08016279254832848,
          -0.07814248171617189,
          -0.07838904678515657,
          -0.00020379840034789876,
          0.03514662640833999,
          0.08202585500344228,
          0.04188858403367424,
          0.06893801551202738,
          0.057426684559804375,
          0.037216187633996256,
          0.03317033376933165,
          0.007254373753600829,
          0.013610674506485898,
          0.04947594231349339,
          0.0725296432898781,
          0.05476987267841915,
          0.062420769225861594
         ]
        },
        {
         "mode": "lines",
         "name": "ratio_to_high_30pct_equal_weighted",
         "type": "scatter",
         "x": [
          "2022-11-30T00:00:00",
          "2022-12-31T00:00:00",
          "2023-01-31T00:00:00",
          "2023-02-28T00:00:00",
          "2023-03-31T00:00:00",
          "2023-04-30T00:00:00",
          "2023-05-31T00:00:00",
          "2023-06-30T00:00:00",
          "2023-07-31T00:00:00",
          "2023-08-31T00:00:00",
          "2023-09-30T00:00:00",
          "2023-10-31T00:00:00",
          "2023-11-30T00:00:00",
          "2023-12-31T00:00:00",
          "2024-01-31T00:00:00",
          "2024-02-29T00:00:00",
          "2024-03-31T00:00:00",
          "2024-04-30T00:00:00",
          "2024-05-31T00:00:00",
          "2024-06-30T00:00:00",
          "2024-07-31T00:00:00",
          "2024-08-31T00:00:00",
          "2024-09-30T00:00:00",
          "2024-10-31T00:00:00"
         ],
         "y": [
          0,
          0.010922177447556525,
          -0.13090201281084934,
          -0.13177611213337392,
          -0.10658721726861342,
          -0.10145360209653476,
          -0.07246348047222251,
          -0.04198863736200342,
          -0.03476389824778814,
          -0.06682670011350045,
          -0.012953843622697248,
          0.010938506907587353,
          0.02441460060964551,
          -0.013750108415704787,
          0.006492619647990194,
          0.0003737703686692573,
          -0.02739443524436269,
          -0.017655683880338557,
          -0.04556572416259752,
          -0.034024665712334534,
          -0.004688088040725957,
          0.006746256311478405,
          -0.0036442343919435016,
          0.0057115349129075454
         ]
        },
        {
         "mode": "lines",
         "name": "ratio_to_high_30pct_value_weighted",
         "type": "scatter",
         "x": [
          "2022-11-30T00:00:00",
          "2022-12-31T00:00:00",
          "2023-01-31T00:00:00",
          "2023-02-28T00:00:00",
          "2023-03-31T00:00:00",
          "2023-04-30T00:00:00",
          "2023-05-31T00:00:00",
          "2023-06-30T00:00:00",
          "2023-07-31T00:00:00",
          "2023-08-31T00:00:00",
          "2023-09-30T00:00:00",
          "2023-10-31T00:00:00",
          "2023-11-30T00:00:00",
          "2023-12-31T00:00:00",
          "2024-01-31T00:00:00",
          "2024-02-29T00:00:00",
          "2024-03-31T00:00:00",
          "2024-04-30T00:00:00",
          "2024-05-31T00:00:00",
          "2024-06-30T00:00:00",
          "2024-07-31T00:00:00",
          "2024-08-31T00:00:00",
          "2024-09-30T00:00:00",
          "2024-10-31T00:00:00"
         ],
         "y": [
          0,
          0.009594260022781187,
          -0.1276378645984132,
          -0.12987018046351684,
          -0.10587872326692838,
          -0.10145276457854246,
          -0.07106765553848826,
          -0.04204972592799383,
          -0.036277763038383815,
          -0.07184833901441634,
          -0.017203861907821638,
          0.00986863298118279,
          0.02449549598446188,
          -0.01481524063119688,
          0.0027508001321789877,
          -0.005289424314919744,
          -0.047193110062983545,
          -0.04091594247047303,
          -0.05250783298233852,
          -0.038517400242789934,
          -0.009901175106818316,
          0.001622915779521783,
          -0.009387048370626871,
          -0.0012784900850836278
         ]
        }
       ],
       "layout": {
        "legend": {
         "tracegroupgap": 0
        },
        "template": {
         "data": {
          "bar": [
           {
            "error_x": {
             "color": "#2a3f5f"
            },
            "error_y": {
             "color": "#2a3f5f"
            },
            "marker": {
             "line": {
              "color": "#E5ECF6",
              "width": 0.5
             },
             "pattern": {
              "fillmode": "overlay",
              "size": 10,
              "solidity": 0.2
             }
            },
            "type": "bar"
           }
          ],
          "barpolar": [
           {
            "marker": {
             "line": {
              "color": "#E5ECF6",
              "width": 0.5
             },
             "pattern": {
              "fillmode": "overlay",
              "size": 10,
              "solidity": 0.2
             }
            },
            "type": "barpolar"
           }
          ],
          "carpet": [
           {
            "aaxis": {
             "endlinecolor": "#2a3f5f",
             "gridcolor": "white",
             "linecolor": "white",
             "minorgridcolor": "white",
             "startlinecolor": "#2a3f5f"
            },
            "baxis": {
             "endlinecolor": "#2a3f5f",
             "gridcolor": "white",
             "linecolor": "white",
             "minorgridcolor": "white",
             "startlinecolor": "#2a3f5f"
            },
            "type": "carpet"
           }
          ],
          "choropleth": [
           {
            "colorbar": {
             "outlinewidth": 0,
             "ticks": ""
            },
            "type": "choropleth"
           }
          ],
          "contour": [
           {
            "colorbar": {
             "outlinewidth": 0,
             "ticks": ""
            },
            "colorscale": [
             [
              0,
              "#0d0887"
             ],
             [
              0.1111111111111111,
              "#46039f"
             ],
             [
              0.2222222222222222,
              "#7201a8"
             ],
             [
              0.3333333333333333,
              "#9c179e"
             ],
             [
              0.4444444444444444,
              "#bd3786"
             ],
             [
              0.5555555555555556,
              "#d8576b"
             ],
             [
              0.6666666666666666,
              "#ed7953"
             ],
             [
              0.7777777777777778,
              "#fb9f3a"
             ],
             [
              0.8888888888888888,
              "#fdca26"
             ],
             [
              1,
              "#f0f921"
             ]
            ],
            "type": "contour"
           }
          ],
          "contourcarpet": [
           {
            "colorbar": {
             "outlinewidth": 0,
             "ticks": ""
            },
            "type": "contourcarpet"
           }
          ],
          "heatmap": [
           {
            "colorbar": {
             "outlinewidth": 0,
             "ticks": ""
            },
            "colorscale": [
             [
              0,
              "#0d0887"
             ],
             [
              0.1111111111111111,
              "#46039f"
             ],
             [
              0.2222222222222222,
              "#7201a8"
             ],
             [
              0.3333333333333333,
              "#9c179e"
             ],
             [
              0.4444444444444444,
              "#bd3786"
             ],
             [
              0.5555555555555556,
              "#d8576b"
             ],
             [
              0.6666666666666666,
              "#ed7953"
             ],
             [
              0.7777777777777778,
              "#fb9f3a"
             ],
             [
              0.8888888888888888,
              "#fdca26"
             ],
             [
              1,
              "#f0f921"
             ]
            ],
            "type": "heatmap"
           }
          ],
          "heatmapgl": [
           {
            "colorbar": {
             "outlinewidth": 0,
             "ticks": ""
            },
            "colorscale": [
             [
              0,
              "#0d0887"
             ],
             [
              0.1111111111111111,
              "#46039f"
             ],
             [
              0.2222222222222222,
              "#7201a8"
             ],
             [
              0.3333333333333333,
              "#9c179e"
             ],
             [
              0.4444444444444444,
              "#bd3786"
             ],
             [
              0.5555555555555556,
              "#d8576b"
             ],
             [
              0.6666666666666666,
              "#ed7953"
             ],
             [
              0.7777777777777778,
              "#fb9f3a"
             ],
             [
              0.8888888888888888,
              "#fdca26"
             ],
             [
              1,
              "#f0f921"
             ]
            ],
            "type": "heatmapgl"
           }
          ],
          "histogram": [
           {
            "marker": {
             "pattern": {
              "fillmode": "overlay",
              "size": 10,
              "solidity": 0.2
             }
            },
            "type": "histogram"
           }
          ],
          "histogram2d": [
           {
            "colorbar": {
             "outlinewidth": 0,
             "ticks": ""
            },
            "colorscale": [
             [
              0,
              "#0d0887"
             ],
             [
              0.1111111111111111,
              "#46039f"
             ],
             [
              0.2222222222222222,
              "#7201a8"
             ],
             [
              0.3333333333333333,
              "#9c179e"
             ],
             [
              0.4444444444444444,
              "#bd3786"
             ],
             [
              0.5555555555555556,
              "#d8576b"
             ],
             [
              0.6666666666666666,
              "#ed7953"
             ],
             [
              0.7777777777777778,
              "#fb9f3a"
             ],
             [
              0.8888888888888888,
              "#fdca26"
             ],
             [
              1,
              "#f0f921"
             ]
            ],
            "type": "histogram2d"
           }
          ],
          "histogram2dcontour": [
           {
            "colorbar": {
             "outlinewidth": 0,
             "ticks": ""
            },
            "colorscale": [
             [
              0,
              "#0d0887"
             ],
             [
              0.1111111111111111,
              "#46039f"
             ],
             [
              0.2222222222222222,
              "#7201a8"
             ],
             [
              0.3333333333333333,
              "#9c179e"
             ],
             [
              0.4444444444444444,
              "#bd3786"
             ],
             [
              0.5555555555555556,
              "#d8576b"
             ],
             [
              0.6666666666666666,
              "#ed7953"
             ],
             [
              0.7777777777777778,
              "#fb9f3a"
             ],
             [
              0.8888888888888888,
              "#fdca26"
             ],
             [
              1,
              "#f0f921"
             ]
            ],
            "type": "histogram2dcontour"
           }
          ],
          "mesh3d": [
           {
            "colorbar": {
             "outlinewidth": 0,
             "ticks": ""
            },
            "type": "mesh3d"
           }
          ],
          "parcoords": [
           {
            "line": {
             "colorbar": {
              "outlinewidth": 0,
              "ticks": ""
             }
            },
            "type": "parcoords"
           }
          ],
          "pie": [
           {
            "automargin": true,
            "type": "pie"
           }
          ],
          "scatter": [
           {
            "fillpattern": {
             "fillmode": "overlay",
             "size": 10,
             "solidity": 0.2
            },
            "type": "scatter"
           }
          ],
          "scatter3d": [
           {
            "line": {
             "colorbar": {
              "outlinewidth": 0,
              "ticks": ""
             }
            },
            "marker": {
             "colorbar": {
              "outlinewidth": 0,
              "ticks": ""
             }
            },
            "type": "scatter3d"
           }
          ],
          "scattercarpet": [
           {
            "marker": {
             "colorbar": {
              "outlinewidth": 0,
              "ticks": ""
             }
            },
            "type": "scattercarpet"
           }
          ],
          "scattergeo": [
           {
            "marker": {
             "colorbar": {
              "outlinewidth": 0,
              "ticks": ""
             }
            },
            "type": "scattergeo"
           }
          ],
          "scattergl": [
           {
            "marker": {
             "colorbar": {
              "outlinewidth": 0,
              "ticks": ""
             }
            },
            "type": "scattergl"
           }
          ],
          "scattermapbox": [
           {
            "marker": {
             "colorbar": {
              "outlinewidth": 0,
              "ticks": ""
             }
            },
            "type": "scattermapbox"
           }
          ],
          "scatterpolar": [
           {
            "marker": {
             "colorbar": {
              "outlinewidth": 0,
              "ticks": ""
             }
            },
            "type": "scatterpolar"
           }
          ],
          "scatterpolargl": [
           {
            "marker": {
             "colorbar": {
              "outlinewidth": 0,
              "ticks": ""
             }
            },
            "type": "scatterpolargl"
           }
          ],
          "scatterternary": [
           {
            "marker": {
             "colorbar": {
              "outlinewidth": 0,
              "ticks": ""
             }
            },
            "type": "scatterternary"
           }
          ],
          "surface": [
           {
            "colorbar": {
             "outlinewidth": 0,
             "ticks": ""
            },
            "colorscale": [
             [
              0,
              "#0d0887"
             ],
             [
              0.1111111111111111,
              "#46039f"
             ],
             [
              0.2222222222222222,
              "#7201a8"
             ],
             [
              0.3333333333333333,
              "#9c179e"
             ],
             [
              0.4444444444444444,
              "#bd3786"
             ],
             [
              0.5555555555555556,
              "#d8576b"
             ],
             [
              0.6666666666666666,
              "#ed7953"
             ],
             [
              0.7777777777777778,
              "#fb9f3a"
             ],
             [
              0.8888888888888888,
              "#fdca26"
             ],
             [
              1,
              "#f0f921"
             ]
            ],
            "type": "surface"
           }
          ],
          "table": [
           {
            "cells": {
             "fill": {
              "color": "#EBF0F8"
             },
             "line": {
              "color": "white"
             }
            },
            "header": {
             "fill": {
              "color": "#C8D4E3"
             },
             "line": {
              "color": "white"
             }
            },
            "type": "table"
           }
          ]
         },
         "layout": {
          "annotationdefaults": {
           "arrowcolor": "#2a3f5f",
           "arrowhead": 0,
           "arrowwidth": 1
          },
          "autotypenumbers": "strict",
          "coloraxis": {
           "colorbar": {
            "outlinewidth": 0,
            "ticks": ""
           }
          },
          "colorscale": {
           "diverging": [
            [
             0,
             "#8e0152"
            ],
            [
             0.1,
             "#c51b7d"
            ],
            [
             0.2,
             "#de77ae"
            ],
            [
             0.3,
             "#f1b6da"
            ],
            [
             0.4,
             "#fde0ef"
            ],
            [
             0.5,
             "#f7f7f7"
            ],
            [
             0.6,
             "#e6f5d0"
            ],
            [
             0.7,
             "#b8e186"
            ],
            [
             0.8,
             "#7fbc41"
            ],
            [
             0.9,
             "#4d9221"
            ],
            [
             1,
             "#276419"
            ]
           ],
           "sequential": [
            [
             0,
             "#0d0887"
            ],
            [
             0.1111111111111111,
             "#46039f"
            ],
            [
             0.2222222222222222,
             "#7201a8"
            ],
            [
             0.3333333333333333,
             "#9c179e"
            ],
            [
             0.4444444444444444,
             "#bd3786"
            ],
            [
             0.5555555555555556,
             "#d8576b"
            ],
            [
             0.6666666666666666,
             "#ed7953"
            ],
            [
             0.7777777777777778,
             "#fb9f3a"
            ],
            [
             0.8888888888888888,
             "#fdca26"
            ],
            [
             1,
             "#f0f921"
            ]
           ],
           "sequentialminus": [
            [
             0,
             "#0d0887"
            ],
            [
             0.1111111111111111,
             "#46039f"
            ],
            [
             0.2222222222222222,
             "#7201a8"
            ],
            [
             0.3333333333333333,
             "#9c179e"
            ],
            [
             0.4444444444444444,
             "#bd3786"
            ],
            [
             0.5555555555555556,
             "#d8576b"
            ],
            [
             0.6666666666666666,
             "#ed7953"
            ],
            [
             0.7777777777777778,
             "#fb9f3a"
            ],
            [
             0.8888888888888888,
             "#fdca26"
            ],
            [
             1,
             "#f0f921"
            ]
           ]
          },
          "colorway": [
           "#636efa",
           "#EF553B",
           "#00cc96",
           "#ab63fa",
           "#FFA15A",
           "#19d3f3",
           "#FF6692",
           "#B6E880",
           "#FF97FF",
           "#FECB52"
          ],
          "font": {
           "color": "#2a3f5f"
          },
          "geo": {
           "bgcolor": "white",
           "lakecolor": "white",
           "landcolor": "#E5ECF6",
           "showlakes": true,
           "showland": true,
           "subunitcolor": "white"
          },
          "hoverlabel": {
           "align": "left"
          },
          "hovermode": "closest",
          "mapbox": {
           "style": "light"
          },
          "paper_bgcolor": "white",
          "plot_bgcolor": "#E5ECF6",
          "polar": {
           "angularaxis": {
            "gridcolor": "white",
            "linecolor": "white",
            "ticks": ""
           },
           "bgcolor": "#E5ECF6",
           "radialaxis": {
            "gridcolor": "white",
            "linecolor": "white",
            "ticks": ""
           }
          },
          "scene": {
           "xaxis": {
            "backgroundcolor": "#E5ECF6",
            "gridcolor": "white",
            "gridwidth": 2,
            "linecolor": "white",
            "showbackground": true,
            "ticks": "",
            "zerolinecolor": "white"
           },
           "yaxis": {
            "backgroundcolor": "#E5ECF6",
            "gridcolor": "white",
            "gridwidth": 2,
            "linecolor": "white",
            "showbackground": true,
            "ticks": "",
            "zerolinecolor": "white"
           },
           "zaxis": {
            "backgroundcolor": "#E5ECF6",
            "gridcolor": "white",
            "gridwidth": 2,
            "linecolor": "white",
            "showbackground": true,
            "ticks": "",
            "zerolinecolor": "white"
           }
          },
          "shapedefaults": {
           "line": {
            "color": "#2a3f5f"
           }
          },
          "ternary": {
           "aaxis": {
            "gridcolor": "white",
            "linecolor": "white",
            "ticks": ""
           },
           "baxis": {
            "gridcolor": "white",
            "linecolor": "white",
            "ticks": ""
           },
           "bgcolor": "#E5ECF6",
           "caxis": {
            "gridcolor": "white",
            "linecolor": "white",
            "ticks": ""
           }
          },
          "title": {
           "x": 0.05
          },
          "xaxis": {
           "automargin": true,
           "gridcolor": "white",
           "linecolor": "white",
           "ticks": "",
           "title": {
            "standoff": 15
           },
           "zerolinecolor": "white",
           "zerolinewidth": 2
          },
          "yaxis": {
           "automargin": true,
           "gridcolor": "white",
           "linecolor": "white",
           "ticks": "",
           "title": {
            "standoff": 15
           },
           "zerolinecolor": "white",
           "zerolinewidth": 2
          }
         }
        },
        "title": {
         "text": "ratio_to_high-family strategies cum return"
        },
        "xaxis": {
         "anchor": "y",
         "domain": [
          0,
          1
         ],
         "title": {
          "text": "Date"
         }
        },
        "yaxis": {
         "anchor": "x",
         "domain": [
          0,
          1
         ],
         "title": {
          "text": "Cumulative Return"
         }
        }
       }
      }
     },
     "metadata": {},
     "output_type": "display_data"
    },
    {
     "data": {
      "application/vnd.plotly.v1+json": {
       "config": {
        "plotlyServerURL": "https://plot.ly"
       },
       "data": [
        {
         "hovertemplate": "<extra></extra>",
         "legendgroup": "",
         "line": {
          "color": "#636efa",
          "dash": "solid"
         },
         "marker": {
          "symbol": "circle"
         },
         "mode": "lines",
         "name": "",
         "orientation": "v",
         "showlegend": false,
         "type": "scatter",
         "xaxis": "x",
         "yaxis": "y"
        },
        {
         "mode": "lines",
         "name": "tk_value_10pct_equal_weighted",
         "type": "scatter",
         "x": [
          "2022-11-30T00:00:00",
          "2022-12-31T00:00:00",
          "2023-01-31T00:00:00",
          "2023-02-28T00:00:00",
          "2023-03-31T00:00:00",
          "2023-04-30T00:00:00",
          "2023-05-31T00:00:00",
          "2023-06-30T00:00:00",
          "2023-07-31T00:00:00",
          "2023-08-31T00:00:00",
          "2023-09-30T00:00:00",
          "2023-10-31T00:00:00",
          "2023-11-30T00:00:00",
          "2023-12-31T00:00:00",
          "2024-01-31T00:00:00",
          "2024-02-29T00:00:00",
          "2024-03-31T00:00:00",
          "2024-04-30T00:00:00",
          "2024-05-31T00:00:00",
          "2024-06-30T00:00:00",
          "2024-07-31T00:00:00",
          "2024-08-31T00:00:00",
          "2024-09-30T00:00:00",
          "2024-10-31T00:00:00"
         ],
         "y": [
          0,
          0.02545918885989651,
          -0.21855347627640676,
          -0.1960400899528637,
          -0.20449867258134835,
          -0.20076724942403312,
          -0.1833904842146682,
          -0.18453239617415074,
          -0.205454413751872,
          -0.22314772150802997,
          -0.20929481451468446,
          -0.23777983827322924,
          -0.2668323567834233,
          -0.3001142219071601,
          -0.2875448083903148,
          -0.2999887640034985,
          -0.278991897940267,
          -0.2566619909500014,
          -0.298613823275211,
          -0.30469871785233527,
          -0.2790160991336972,
          -0.27749682069443604,
          -0.26758173845073274,
          -0.24906662372135113
         ]
        },
        {
         "mode": "lines",
         "name": "tk_value_10pct_value_weighted",
         "type": "scatter",
         "x": [
          "2022-11-30T00:00:00",
          "2022-12-31T00:00:00",
          "2023-01-31T00:00:00",
          "2023-02-28T00:00:00",
          "2023-03-31T00:00:00",
          "2023-04-30T00:00:00",
          "2023-05-31T00:00:00",
          "2023-06-30T00:00:00",
          "2023-07-31T00:00:00",
          "2023-08-31T00:00:00",
          "2023-09-30T00:00:00",
          "2023-10-31T00:00:00",
          "2023-11-30T00:00:00",
          "2023-12-31T00:00:00",
          "2024-01-31T00:00:00",
          "2024-02-29T00:00:00",
          "2024-03-31T00:00:00",
          "2024-04-30T00:00:00",
          "2024-05-31T00:00:00",
          "2024-06-30T00:00:00",
          "2024-07-31T00:00:00",
          "2024-08-31T00:00:00",
          "2024-09-30T00:00:00",
          "2024-10-31T00:00:00"
         ],
         "y": [
          0,
          0.029199070641763303,
          -0.23354839543142336,
          -0.21053778987726113,
          -0.21970527258302197,
          -0.21686883566628257,
          -0.2001237132781435,
          -0.19559998139035084,
          -0.21713205124552448,
          -0.23030915266277596,
          -0.2141118946574292,
          -0.24137518678622938,
          -0.2750424103648321,
          -0.3100280865109648,
          -0.3013637659107522,
          -0.3129377398302674,
          -0.30093609307075275,
          -0.27676295807142326,
          -0.33421938546063423,
          -0.3471884527931136,
          -0.3304822458010621,
          -0.3243749894693826,
          -0.3138204810891856,
          -0.2960246015316057
         ]
        },
        {
         "mode": "lines",
         "name": "tk_value_20pct_equal_weighted",
         "type": "scatter",
         "x": [
          "2022-11-30T00:00:00",
          "2022-12-31T00:00:00",
          "2023-01-31T00:00:00",
          "2023-02-28T00:00:00",
          "2023-03-31T00:00:00",
          "2023-04-30T00:00:00",
          "2023-05-31T00:00:00",
          "2023-06-30T00:00:00",
          "2023-07-31T00:00:00",
          "2023-08-31T00:00:00",
          "2023-09-30T00:00:00",
          "2023-10-31T00:00:00",
          "2023-11-30T00:00:00",
          "2023-12-31T00:00:00",
          "2024-01-31T00:00:00",
          "2024-02-29T00:00:00",
          "2024-03-31T00:00:00",
          "2024-04-30T00:00:00",
          "2024-05-31T00:00:00",
          "2024-06-30T00:00:00",
          "2024-07-31T00:00:00",
          "2024-08-31T00:00:00",
          "2024-09-30T00:00:00",
          "2024-10-31T00:00:00"
         ],
         "y": [
          0,
          0.02670015442723006,
          -0.14773677132377838,
          -0.12510425602180297,
          -0.11335254641857517,
          -0.1075390580283232,
          -0.09547719122650233,
          -0.08923376048367715,
          -0.10650018906658687,
          -0.10944776259757338,
          -0.09893619526132369,
          -0.11464982815804148,
          -0.15944361270321683,
          -0.17752293008470987,
          -0.17296455520300136,
          -0.1810380091101742,
          -0.18120457298682002,
          -0.16674262576621968,
          -0.18236896775724443,
          -0.18319162723419324,
          -0.16259577259581537,
          -0.15028013500175164,
          -0.1463532437868631,
          -0.1374769373900725
         ]
        },
        {
         "mode": "lines",
         "name": "tk_value_20pct_value_weighted",
         "type": "scatter",
         "x": [
          "2022-11-30T00:00:00",
          "2022-12-31T00:00:00",
          "2023-01-31T00:00:00",
          "2023-02-28T00:00:00",
          "2023-03-31T00:00:00",
          "2023-04-30T00:00:00",
          "2023-05-31T00:00:00",
          "2023-06-30T00:00:00",
          "2023-07-31T00:00:00",
          "2023-08-31T00:00:00",
          "2023-09-30T00:00:00",
          "2023-10-31T00:00:00",
          "2023-11-30T00:00:00",
          "2023-12-31T00:00:00",
          "2024-01-31T00:00:00",
          "2024-02-29T00:00:00",
          "2024-03-31T00:00:00",
          "2024-04-30T00:00:00",
          "2024-05-31T00:00:00",
          "2024-06-30T00:00:00",
          "2024-07-31T00:00:00",
          "2024-08-31T00:00:00",
          "2024-09-30T00:00:00",
          "2024-10-31T00:00:00"
         ],
         "y": [
          0,
          0.027489907648393208,
          -0.15727168062108465,
          -0.13399371801332527,
          -0.12231000658418012,
          -0.11661992016567291,
          -0.10447698921450499,
          -0.09434411713471236,
          -0.11104676953487058,
          -0.11230842271654473,
          -0.10027611341446141,
          -0.11664740345676616,
          -0.1604413181740214,
          -0.1797557488916688,
          -0.1738195459476607,
          -0.18260288280427595,
          -0.1807760076084729,
          -0.16376972130732448,
          -0.1991918829219127,
          -0.20318426083451346,
          -0.18640780566517157,
          -0.1695623650646899,
          -0.16591446221436956,
          -0.1550004911110645
         ]
        },
        {
         "mode": "lines",
         "name": "tk_value_30pct_equal_weighted",
         "type": "scatter",
         "x": [
          "2022-11-30T00:00:00",
          "2022-12-31T00:00:00",
          "2023-01-31T00:00:00",
          "2023-02-28T00:00:00",
          "2023-03-31T00:00:00",
          "2023-04-30T00:00:00",
          "2023-05-31T00:00:00",
          "2023-06-30T00:00:00",
          "2023-07-31T00:00:00",
          "2023-08-31T00:00:00",
          "2023-09-30T00:00:00",
          "2023-10-31T00:00:00",
          "2023-11-30T00:00:00",
          "2023-12-31T00:00:00",
          "2024-01-31T00:00:00",
          "2024-02-29T00:00:00",
          "2024-03-31T00:00:00",
          "2024-04-30T00:00:00",
          "2024-05-31T00:00:00",
          "2024-06-30T00:00:00",
          "2024-07-31T00:00:00",
          "2024-08-31T00:00:00",
          "2024-09-30T00:00:00",
          "2024-10-31T00:00:00"
         ],
         "y": [
          0,
          0.02328127600357388,
          -0.14511391268169538,
          -0.12777746931959,
          -0.11475446163439329,
          -0.10900824956862709,
          -0.07666714695067411,
          -0.06621325800971056,
          -0.08200379210098396,
          -0.09677963700033898,
          -0.1225217557303514,
          -0.12201116652388022,
          -0.13969828590207212,
          -0.15575108169520258,
          -0.1526782069774858,
          -0.14882336506588778,
          -0.13286349901345473,
          -0.12046152069360216,
          -0.13094065197866223,
          -0.13239813707954373,
          -0.12420081998380517,
          -0.11895631644624471,
          -0.11738421341704697,
          -0.11146846210723727
         ]
        },
        {
         "mode": "lines",
         "name": "tk_value_30pct_value_weighted",
         "type": "scatter",
         "x": [
          "2022-11-30T00:00:00",
          "2022-12-31T00:00:00",
          "2023-01-31T00:00:00",
          "2023-02-28T00:00:00",
          "2023-03-31T00:00:00",
          "2023-04-30T00:00:00",
          "2023-05-31T00:00:00",
          "2023-06-30T00:00:00",
          "2023-07-31T00:00:00",
          "2023-08-31T00:00:00",
          "2023-09-30T00:00:00",
          "2023-10-31T00:00:00",
          "2023-11-30T00:00:00",
          "2023-12-31T00:00:00",
          "2024-01-31T00:00:00",
          "2024-02-29T00:00:00",
          "2024-03-31T00:00:00",
          "2024-04-30T00:00:00",
          "2024-05-31T00:00:00",
          "2024-06-30T00:00:00",
          "2024-07-31T00:00:00",
          "2024-08-31T00:00:00",
          "2024-09-30T00:00:00",
          "2024-10-31T00:00:00"
         ],
         "y": [
          0,
          0.021625221558729812,
          -0.15040331015472974,
          -0.13146731953970847,
          -0.1197119686357524,
          -0.11478468739788061,
          -0.08030885997230142,
          -0.06718204066965827,
          -0.08284958971696632,
          -0.09472239648202385,
          -0.1130440673233013,
          -0.11186111171450608,
          -0.12407412537258278,
          -0.14166499384886766,
          -0.1394706215277336,
          -0.13438269085180765,
          -0.11426192022888959,
          -0.09785149138253213,
          -0.12433489066086434,
          -0.12752148015012943,
          -0.12118069864905678,
          -0.11069920603673344,
          -0.1095439114813892,
          -0.10360985247741661
         ]
        }
       ],
       "layout": {
        "legend": {
         "tracegroupgap": 0
        },
        "template": {
         "data": {
          "bar": [
           {
            "error_x": {
             "color": "#2a3f5f"
            },
            "error_y": {
             "color": "#2a3f5f"
            },
            "marker": {
             "line": {
              "color": "#E5ECF6",
              "width": 0.5
             },
             "pattern": {
              "fillmode": "overlay",
              "size": 10,
              "solidity": 0.2
             }
            },
            "type": "bar"
           }
          ],
          "barpolar": [
           {
            "marker": {
             "line": {
              "color": "#E5ECF6",
              "width": 0.5
             },
             "pattern": {
              "fillmode": "overlay",
              "size": 10,
              "solidity": 0.2
             }
            },
            "type": "barpolar"
           }
          ],
          "carpet": [
           {
            "aaxis": {
             "endlinecolor": "#2a3f5f",
             "gridcolor": "white",
             "linecolor": "white",
             "minorgridcolor": "white",
             "startlinecolor": "#2a3f5f"
            },
            "baxis": {
             "endlinecolor": "#2a3f5f",
             "gridcolor": "white",
             "linecolor": "white",
             "minorgridcolor": "white",
             "startlinecolor": "#2a3f5f"
            },
            "type": "carpet"
           }
          ],
          "choropleth": [
           {
            "colorbar": {
             "outlinewidth": 0,
             "ticks": ""
            },
            "type": "choropleth"
           }
          ],
          "contour": [
           {
            "colorbar": {
             "outlinewidth": 0,
             "ticks": ""
            },
            "colorscale": [
             [
              0,
              "#0d0887"
             ],
             [
              0.1111111111111111,
              "#46039f"
             ],
             [
              0.2222222222222222,
              "#7201a8"
             ],
             [
              0.3333333333333333,
              "#9c179e"
             ],
             [
              0.4444444444444444,
              "#bd3786"
             ],
             [
              0.5555555555555556,
              "#d8576b"
             ],
             [
              0.6666666666666666,
              "#ed7953"
             ],
             [
              0.7777777777777778,
              "#fb9f3a"
             ],
             [
              0.8888888888888888,
              "#fdca26"
             ],
             [
              1,
              "#f0f921"
             ]
            ],
            "type": "contour"
           }
          ],
          "contourcarpet": [
           {
            "colorbar": {
             "outlinewidth": 0,
             "ticks": ""
            },
            "type": "contourcarpet"
           }
          ],
          "heatmap": [
           {
            "colorbar": {
             "outlinewidth": 0,
             "ticks": ""
            },
            "colorscale": [
             [
              0,
              "#0d0887"
             ],
             [
              0.1111111111111111,
              "#46039f"
             ],
             [
              0.2222222222222222,
              "#7201a8"
             ],
             [
              0.3333333333333333,
              "#9c179e"
             ],
             [
              0.4444444444444444,
              "#bd3786"
             ],
             [
              0.5555555555555556,
              "#d8576b"
             ],
             [
              0.6666666666666666,
              "#ed7953"
             ],
             [
              0.7777777777777778,
              "#fb9f3a"
             ],
             [
              0.8888888888888888,
              "#fdca26"
             ],
             [
              1,
              "#f0f921"
             ]
            ],
            "type": "heatmap"
           }
          ],
          "heatmapgl": [
           {
            "colorbar": {
             "outlinewidth": 0,
             "ticks": ""
            },
            "colorscale": [
             [
              0,
              "#0d0887"
             ],
             [
              0.1111111111111111,
              "#46039f"
             ],
             [
              0.2222222222222222,
              "#7201a8"
             ],
             [
              0.3333333333333333,
              "#9c179e"
             ],
             [
              0.4444444444444444,
              "#bd3786"
             ],
             [
              0.5555555555555556,
              "#d8576b"
             ],
             [
              0.6666666666666666,
              "#ed7953"
             ],
             [
              0.7777777777777778,
              "#fb9f3a"
             ],
             [
              0.8888888888888888,
              "#fdca26"
             ],
             [
              1,
              "#f0f921"
             ]
            ],
            "type": "heatmapgl"
           }
          ],
          "histogram": [
           {
            "marker": {
             "pattern": {
              "fillmode": "overlay",
              "size": 10,
              "solidity": 0.2
             }
            },
            "type": "histogram"
           }
          ],
          "histogram2d": [
           {
            "colorbar": {
             "outlinewidth": 0,
             "ticks": ""
            },
            "colorscale": [
             [
              0,
              "#0d0887"
             ],
             [
              0.1111111111111111,
              "#46039f"
             ],
             [
              0.2222222222222222,
              "#7201a8"
             ],
             [
              0.3333333333333333,
              "#9c179e"
             ],
             [
              0.4444444444444444,
              "#bd3786"
             ],
             [
              0.5555555555555556,
              "#d8576b"
             ],
             [
              0.6666666666666666,
              "#ed7953"
             ],
             [
              0.7777777777777778,
              "#fb9f3a"
             ],
             [
              0.8888888888888888,
              "#fdca26"
             ],
             [
              1,
              "#f0f921"
             ]
            ],
            "type": "histogram2d"
           }
          ],
          "histogram2dcontour": [
           {
            "colorbar": {
             "outlinewidth": 0,
             "ticks": ""
            },
            "colorscale": [
             [
              0,
              "#0d0887"
             ],
             [
              0.1111111111111111,
              "#46039f"
             ],
             [
              0.2222222222222222,
              "#7201a8"
             ],
             [
              0.3333333333333333,
              "#9c179e"
             ],
             [
              0.4444444444444444,
              "#bd3786"
             ],
             [
              0.5555555555555556,
              "#d8576b"
             ],
             [
              0.6666666666666666,
              "#ed7953"
             ],
             [
              0.7777777777777778,
              "#fb9f3a"
             ],
             [
              0.8888888888888888,
              "#fdca26"
             ],
             [
              1,
              "#f0f921"
             ]
            ],
            "type": "histogram2dcontour"
           }
          ],
          "mesh3d": [
           {
            "colorbar": {
             "outlinewidth": 0,
             "ticks": ""
            },
            "type": "mesh3d"
           }
          ],
          "parcoords": [
           {
            "line": {
             "colorbar": {
              "outlinewidth": 0,
              "ticks": ""
             }
            },
            "type": "parcoords"
           }
          ],
          "pie": [
           {
            "automargin": true,
            "type": "pie"
           }
          ],
          "scatter": [
           {
            "fillpattern": {
             "fillmode": "overlay",
             "size": 10,
             "solidity": 0.2
            },
            "type": "scatter"
           }
          ],
          "scatter3d": [
           {
            "line": {
             "colorbar": {
              "outlinewidth": 0,
              "ticks": ""
             }
            },
            "marker": {
             "colorbar": {
              "outlinewidth": 0,
              "ticks": ""
             }
            },
            "type": "scatter3d"
           }
          ],
          "scattercarpet": [
           {
            "marker": {
             "colorbar": {
              "outlinewidth": 0,
              "ticks": ""
             }
            },
            "type": "scattercarpet"
           }
          ],
          "scattergeo": [
           {
            "marker": {
             "colorbar": {
              "outlinewidth": 0,
              "ticks": ""
             }
            },
            "type": "scattergeo"
           }
          ],
          "scattergl": [
           {
            "marker": {
             "colorbar": {
              "outlinewidth": 0,
              "ticks": ""
             }
            },
            "type": "scattergl"
           }
          ],
          "scattermapbox": [
           {
            "marker": {
             "colorbar": {
              "outlinewidth": 0,
              "ticks": ""
             }
            },
            "type": "scattermapbox"
           }
          ],
          "scatterpolar": [
           {
            "marker": {
             "colorbar": {
              "outlinewidth": 0,
              "ticks": ""
             }
            },
            "type": "scatterpolar"
           }
          ],
          "scatterpolargl": [
           {
            "marker": {
             "colorbar": {
              "outlinewidth": 0,
              "ticks": ""
             }
            },
            "type": "scatterpolargl"
           }
          ],
          "scatterternary": [
           {
            "marker": {
             "colorbar": {
              "outlinewidth": 0,
              "ticks": ""
             }
            },
            "type": "scatterternary"
           }
          ],
          "surface": [
           {
            "colorbar": {
             "outlinewidth": 0,
             "ticks": ""
            },
            "colorscale": [
             [
              0,
              "#0d0887"
             ],
             [
              0.1111111111111111,
              "#46039f"
             ],
             [
              0.2222222222222222,
              "#7201a8"
             ],
             [
              0.3333333333333333,
              "#9c179e"
             ],
             [
              0.4444444444444444,
              "#bd3786"
             ],
             [
              0.5555555555555556,
              "#d8576b"
             ],
             [
              0.6666666666666666,
              "#ed7953"
             ],
             [
              0.7777777777777778,
              "#fb9f3a"
             ],
             [
              0.8888888888888888,
              "#fdca26"
             ],
             [
              1,
              "#f0f921"
             ]
            ],
            "type": "surface"
           }
          ],
          "table": [
           {
            "cells": {
             "fill": {
              "color": "#EBF0F8"
             },
             "line": {
              "color": "white"
             }
            },
            "header": {
             "fill": {
              "color": "#C8D4E3"
             },
             "line": {
              "color": "white"
             }
            },
            "type": "table"
           }
          ]
         },
         "layout": {
          "annotationdefaults": {
           "arrowcolor": "#2a3f5f",
           "arrowhead": 0,
           "arrowwidth": 1
          },
          "autotypenumbers": "strict",
          "coloraxis": {
           "colorbar": {
            "outlinewidth": 0,
            "ticks": ""
           }
          },
          "colorscale": {
           "diverging": [
            [
             0,
             "#8e0152"
            ],
            [
             0.1,
             "#c51b7d"
            ],
            [
             0.2,
             "#de77ae"
            ],
            [
             0.3,
             "#f1b6da"
            ],
            [
             0.4,
             "#fde0ef"
            ],
            [
             0.5,
             "#f7f7f7"
            ],
            [
             0.6,
             "#e6f5d0"
            ],
            [
             0.7,
             "#b8e186"
            ],
            [
             0.8,
             "#7fbc41"
            ],
            [
             0.9,
             "#4d9221"
            ],
            [
             1,
             "#276419"
            ]
           ],
           "sequential": [
            [
             0,
             "#0d0887"
            ],
            [
             0.1111111111111111,
             "#46039f"
            ],
            [
             0.2222222222222222,
             "#7201a8"
            ],
            [
             0.3333333333333333,
             "#9c179e"
            ],
            [
             0.4444444444444444,
             "#bd3786"
            ],
            [
             0.5555555555555556,
             "#d8576b"
            ],
            [
             0.6666666666666666,
             "#ed7953"
            ],
            [
             0.7777777777777778,
             "#fb9f3a"
            ],
            [
             0.8888888888888888,
             "#fdca26"
            ],
            [
             1,
             "#f0f921"
            ]
           ],
           "sequentialminus": [
            [
             0,
             "#0d0887"
            ],
            [
             0.1111111111111111,
             "#46039f"
            ],
            [
             0.2222222222222222,
             "#7201a8"
            ],
            [
             0.3333333333333333,
             "#9c179e"
            ],
            [
             0.4444444444444444,
             "#bd3786"
            ],
            [
             0.5555555555555556,
             "#d8576b"
            ],
            [
             0.6666666666666666,
             "#ed7953"
            ],
            [
             0.7777777777777778,
             "#fb9f3a"
            ],
            [
             0.8888888888888888,
             "#fdca26"
            ],
            [
             1,
             "#f0f921"
            ]
           ]
          },
          "colorway": [
           "#636efa",
           "#EF553B",
           "#00cc96",
           "#ab63fa",
           "#FFA15A",
           "#19d3f3",
           "#FF6692",
           "#B6E880",
           "#FF97FF",
           "#FECB52"
          ],
          "font": {
           "color": "#2a3f5f"
          },
          "geo": {
           "bgcolor": "white",
           "lakecolor": "white",
           "landcolor": "#E5ECF6",
           "showlakes": true,
           "showland": true,
           "subunitcolor": "white"
          },
          "hoverlabel": {
           "align": "left"
          },
          "hovermode": "closest",
          "mapbox": {
           "style": "light"
          },
          "paper_bgcolor": "white",
          "plot_bgcolor": "#E5ECF6",
          "polar": {
           "angularaxis": {
            "gridcolor": "white",
            "linecolor": "white",
            "ticks": ""
           },
           "bgcolor": "#E5ECF6",
           "radialaxis": {
            "gridcolor": "white",
            "linecolor": "white",
            "ticks": ""
           }
          },
          "scene": {
           "xaxis": {
            "backgroundcolor": "#E5ECF6",
            "gridcolor": "white",
            "gridwidth": 2,
            "linecolor": "white",
            "showbackground": true,
            "ticks": "",
            "zerolinecolor": "white"
           },
           "yaxis": {
            "backgroundcolor": "#E5ECF6",
            "gridcolor": "white",
            "gridwidth": 2,
            "linecolor": "white",
            "showbackground": true,
            "ticks": "",
            "zerolinecolor": "white"
           },
           "zaxis": {
            "backgroundcolor": "#E5ECF6",
            "gridcolor": "white",
            "gridwidth": 2,
            "linecolor": "white",
            "showbackground": true,
            "ticks": "",
            "zerolinecolor": "white"
           }
          },
          "shapedefaults": {
           "line": {
            "color": "#2a3f5f"
           }
          },
          "ternary": {
           "aaxis": {
            "gridcolor": "white",
            "linecolor": "white",
            "ticks": ""
           },
           "baxis": {
            "gridcolor": "white",
            "linecolor": "white",
            "ticks": ""
           },
           "bgcolor": "#E5ECF6",
           "caxis": {
            "gridcolor": "white",
            "linecolor": "white",
            "ticks": ""
           }
          },
          "title": {
           "x": 0.05
          },
          "xaxis": {
           "automargin": true,
           "gridcolor": "white",
           "linecolor": "white",
           "ticks": "",
           "title": {
            "standoff": 15
           },
           "zerolinecolor": "white",
           "zerolinewidth": 2
          },
          "yaxis": {
           "automargin": true,
           "gridcolor": "white",
           "linecolor": "white",
           "ticks": "",
           "title": {
            "standoff": 15
           },
           "zerolinecolor": "white",
           "zerolinewidth": 2
          }
         }
        },
        "title": {
         "text": "tk_value-family strategies cum return"
        },
        "xaxis": {
         "anchor": "y",
         "domain": [
          0,
          1
         ],
         "title": {
          "text": "Date"
         }
        },
        "yaxis": {
         "anchor": "x",
         "domain": [
          0,
          1
         ],
         "title": {
          "text": "Cumulative Return"
         }
        }
       }
      }
     },
     "metadata": {},
     "output_type": "display_data"
    },
    {
     "data": {
      "application/vnd.plotly.v1+json": {
       "config": {
        "plotlyServerURL": "https://plot.ly"
       },
       "data": [
        {
         "hovertemplate": "<extra></extra>",
         "legendgroup": "",
         "line": {
          "color": "#636efa",
          "dash": "solid"
         },
         "marker": {
          "symbol": "circle"
         },
         "mode": "lines",
         "name": "",
         "orientation": "v",
         "showlegend": false,
         "type": "scatter",
         "xaxis": "x",
         "yaxis": "y"
        },
        {
         "mode": "lines",
         "name": "potential_return_10pct_equal_weighted",
         "type": "scatter",
         "x": [
          "2022-11-30T00:00:00",
          "2022-12-31T00:00:00",
          "2023-01-31T00:00:00",
          "2023-02-28T00:00:00",
          "2023-03-31T00:00:00",
          "2023-04-30T00:00:00",
          "2023-05-31T00:00:00",
          "2023-06-30T00:00:00",
          "2023-07-31T00:00:00",
          "2023-08-31T00:00:00",
          "2023-09-30T00:00:00",
          "2023-10-31T00:00:00",
          "2023-11-30T00:00:00",
          "2023-12-31T00:00:00",
          "2024-01-31T00:00:00",
          "2024-02-29T00:00:00",
          "2024-03-31T00:00:00",
          "2024-04-30T00:00:00",
          "2024-05-31T00:00:00",
          "2024-06-30T00:00:00",
          "2024-07-31T00:00:00",
          "2024-08-31T00:00:00",
          "2024-09-30T00:00:00",
          "2024-10-31T00:00:00"
         ],
         "y": [
          0,
          -0.008883061305780982,
          0.08506129290876907,
          0.132551886450319,
          0.09679268970262145,
          0.10433172965763737,
          0.10228933651763561,
          0.0682245693822221,
          0.0942995350087994,
          0.10019933664584668,
          0.17578074287116374,
          0.18982049347789953,
          0.17429699508537655,
          0.19477307924078446,
          0.22148170771960696,
          0.2742348685178062,
          0.2990662340210013,
          0.32135016338624167,
          0.4125949056481977,
          0.40922846766794296,
          0.3938286636454955,
          0.37751618359252803,
          0.40126330537960864,
          0.40875396360278904
         ]
        },
        {
         "mode": "lines",
         "name": "potential_return_10pct_value_weighted",
         "type": "scatter",
         "x": [
          "2022-11-30T00:00:00",
          "2022-12-31T00:00:00",
          "2023-01-31T00:00:00",
          "2023-02-28T00:00:00",
          "2023-03-31T00:00:00",
          "2023-04-30T00:00:00",
          "2023-05-31T00:00:00",
          "2023-06-30T00:00:00",
          "2023-07-31T00:00:00",
          "2023-08-31T00:00:00",
          "2023-09-30T00:00:00",
          "2023-10-31T00:00:00",
          "2023-11-30T00:00:00",
          "2023-12-31T00:00:00",
          "2024-01-31T00:00:00",
          "2024-02-29T00:00:00",
          "2024-03-31T00:00:00",
          "2024-04-30T00:00:00",
          "2024-05-31T00:00:00",
          "2024-06-30T00:00:00",
          "2024-07-31T00:00:00",
          "2024-08-31T00:00:00",
          "2024-09-30T00:00:00",
          "2024-10-31T00:00:00"
         ],
         "y": [
          0,
          -0.012509010270528198,
          0.050318286831602776,
          0.09379622356664474,
          0.0724654125431754,
          0.07026216244237404,
          0.06766917166877162,
          0.03225560448756837,
          0.05398224894115544,
          0.05679060153969395,
          0.13110126637435693,
          0.1420902444300145,
          0.14125173944033564,
          0.15559825461923138,
          0.17936503617221855,
          0.22907964898310573,
          0.22327540444830496,
          0.2333987513561997,
          0.3563721742870021,
          0.365191654589055,
          0.3396372725467207,
          0.3246636144181405,
          0.3356864518698981,
          0.3477363807277547
         ]
        },
        {
         "mode": "lines",
         "name": "potential_return_20pct_equal_weighted",
         "type": "scatter",
         "x": [
          "2022-11-30T00:00:00",
          "2022-12-31T00:00:00",
          "2023-01-31T00:00:00",
          "2023-02-28T00:00:00",
          "2023-03-31T00:00:00",
          "2023-04-30T00:00:00",
          "2023-05-31T00:00:00",
          "2023-06-30T00:00:00",
          "2023-07-31T00:00:00",
          "2023-08-31T00:00:00",
          "2023-09-30T00:00:00",
          "2023-10-31T00:00:00",
          "2023-11-30T00:00:00",
          "2023-12-31T00:00:00",
          "2024-01-31T00:00:00",
          "2024-02-29T00:00:00",
          "2024-03-31T00:00:00",
          "2024-04-30T00:00:00",
          "2024-05-31T00:00:00",
          "2024-06-30T00:00:00",
          "2024-07-31T00:00:00",
          "2024-08-31T00:00:00",
          "2024-09-30T00:00:00",
          "2024-10-31T00:00:00"
         ],
         "y": [
          0,
          -0.0007960196226404204,
          0.06587992877716964,
          0.07231754467923568,
          0.06139263065486489,
          0.06775429292618629,
          0.06587400998053727,
          0.04684005663673796,
          0.06542579375122748,
          0.11063907547540408,
          0.14186717201984544,
          0.1797239304542213,
          0.16834445465242043,
          0.16502116866355743,
          0.1783722626410169,
          0.19079486824695535,
          0.22577989076407934,
          0.22822238270526896,
          0.2655329788570824,
          0.25049886299087887,
          0.22266933805579447,
          0.22701097689722727,
          0.21713675919158848,
          0.2140786357171207
         ]
        },
        {
         "mode": "lines",
         "name": "potential_return_20pct_value_weighted",
         "type": "scatter",
         "x": [
          "2022-11-30T00:00:00",
          "2022-12-31T00:00:00",
          "2023-01-31T00:00:00",
          "2023-02-28T00:00:00",
          "2023-03-31T00:00:00",
          "2023-04-30T00:00:00",
          "2023-05-31T00:00:00",
          "2023-06-30T00:00:00",
          "2023-07-31T00:00:00",
          "2023-08-31T00:00:00",
          "2023-09-30T00:00:00",
          "2023-10-31T00:00:00",
          "2023-11-30T00:00:00",
          "2023-12-31T00:00:00",
          "2024-01-31T00:00:00",
          "2024-02-29T00:00:00",
          "2024-03-31T00:00:00",
          "2024-04-30T00:00:00",
          "2024-05-31T00:00:00",
          "2024-06-30T00:00:00",
          "2024-07-31T00:00:00",
          "2024-08-31T00:00:00",
          "2024-09-30T00:00:00",
          "2024-10-31T00:00:00"
         ],
         "y": [
          0,
          -0.00911931772093666,
          0.05057161826063572,
          0.06354360859220987,
          0.060396874957954205,
          0.06391171340913204,
          0.0633185674982466,
          0.044721898927463366,
          0.06172440765039,
          0.09317864177415891,
          0.1374434958709163,
          0.16898666795881967,
          0.16192764348704292,
          0.1459650085891122,
          0.16390939101259017,
          0.17184004889432347,
          0.1947840690237428,
          0.19082854382360126,
          0.2641410642707913,
          0.25845551012820933,
          0.2210309492570106,
          0.21858202335839838,
          0.20282419735892177,
          0.2016806117653871
         ]
        },
        {
         "mode": "lines",
         "name": "potential_return_30pct_equal_weighted",
         "type": "scatter",
         "x": [
          "2022-11-30T00:00:00",
          "2022-12-31T00:00:00",
          "2023-01-31T00:00:00",
          "2023-02-28T00:00:00",
          "2023-03-31T00:00:00",
          "2023-04-30T00:00:00",
          "2023-05-31T00:00:00",
          "2023-06-30T00:00:00",
          "2023-07-31T00:00:00",
          "2023-08-31T00:00:00",
          "2023-09-30T00:00:00",
          "2023-10-31T00:00:00",
          "2023-11-30T00:00:00",
          "2023-12-31T00:00:00",
          "2024-01-31T00:00:00",
          "2024-02-29T00:00:00",
          "2024-03-31T00:00:00",
          "2024-04-30T00:00:00",
          "2024-05-31T00:00:00",
          "2024-06-30T00:00:00",
          "2024-07-31T00:00:00",
          "2024-08-31T00:00:00",
          "2024-09-30T00:00:00",
          "2024-10-31T00:00:00"
         ],
         "y": [
          0,
          -0.007930904236204572,
          0.03360425883963791,
          0.027409169443992853,
          0.025454623080833905,
          0.028595741763935534,
          0.027895138279247833,
          0.016407948362861635,
          0.03163258850429895,
          0.06594351925039299,
          0.08957664565012591,
          0.10129622109918124,
          0.10429515590915295,
          0.0768728021342282,
          0.08883778200974657,
          0.08904206399121728,
          0.12415830019615814,
          0.14641561996930785,
          0.1753996535488842,
          0.16420487779616355,
          0.1421639506063579,
          0.14250686888525688,
          0.1318599491021364,
          0.13253758746070998
         ]
        },
        {
         "mode": "lines",
         "name": "potential_return_30pct_value_weighted",
         "type": "scatter",
         "x": [
          "2022-11-30T00:00:00",
          "2022-12-31T00:00:00",
          "2023-01-31T00:00:00",
          "2023-02-28T00:00:00",
          "2023-03-31T00:00:00",
          "2023-04-30T00:00:00",
          "2023-05-31T00:00:00",
          "2023-06-30T00:00:00",
          "2023-07-31T00:00:00",
          "2023-08-31T00:00:00",
          "2023-09-30T00:00:00",
          "2023-10-31T00:00:00",
          "2023-11-30T00:00:00",
          "2023-12-31T00:00:00",
          "2024-01-31T00:00:00",
          "2024-02-29T00:00:00",
          "2024-03-31T00:00:00",
          "2024-04-30T00:00:00",
          "2024-05-31T00:00:00",
          "2024-06-30T00:00:00",
          "2024-07-31T00:00:00",
          "2024-08-31T00:00:00",
          "2024-09-30T00:00:00",
          "2024-10-31T00:00:00"
         ],
         "y": [
          0,
          -0.014175507399502463,
          0.020537228731841273,
          0.02178386447317271,
          0.021739423937119584,
          0.02156672812676219,
          0.022729943247331796,
          0.00968118989221467,
          0.02400901618207185,
          0.05432447699036724,
          0.09269190986946874,
          0.09849688452310179,
          0.09706996173230653,
          0.05472612729595294,
          0.06438219030859571,
          0.05847907659443896,
          0.09811006965324376,
          0.10942257994667148,
          0.1684595450608095,
          0.16333578321366393,
          0.13587413008285165,
          0.13331244698769829,
          0.12338011955490247,
          0.12904294460248833
         ]
        }
       ],
       "layout": {
        "legend": {
         "tracegroupgap": 0
        },
        "template": {
         "data": {
          "bar": [
           {
            "error_x": {
             "color": "#2a3f5f"
            },
            "error_y": {
             "color": "#2a3f5f"
            },
            "marker": {
             "line": {
              "color": "#E5ECF6",
              "width": 0.5
             },
             "pattern": {
              "fillmode": "overlay",
              "size": 10,
              "solidity": 0.2
             }
            },
            "type": "bar"
           }
          ],
          "barpolar": [
           {
            "marker": {
             "line": {
              "color": "#E5ECF6",
              "width": 0.5
             },
             "pattern": {
              "fillmode": "overlay",
              "size": 10,
              "solidity": 0.2
             }
            },
            "type": "barpolar"
           }
          ],
          "carpet": [
           {
            "aaxis": {
             "endlinecolor": "#2a3f5f",
             "gridcolor": "white",
             "linecolor": "white",
             "minorgridcolor": "white",
             "startlinecolor": "#2a3f5f"
            },
            "baxis": {
             "endlinecolor": "#2a3f5f",
             "gridcolor": "white",
             "linecolor": "white",
             "minorgridcolor": "white",
             "startlinecolor": "#2a3f5f"
            },
            "type": "carpet"
           }
          ],
          "choropleth": [
           {
            "colorbar": {
             "outlinewidth": 0,
             "ticks": ""
            },
            "type": "choropleth"
           }
          ],
          "contour": [
           {
            "colorbar": {
             "outlinewidth": 0,
             "ticks": ""
            },
            "colorscale": [
             [
              0,
              "#0d0887"
             ],
             [
              0.1111111111111111,
              "#46039f"
             ],
             [
              0.2222222222222222,
              "#7201a8"
             ],
             [
              0.3333333333333333,
              "#9c179e"
             ],
             [
              0.4444444444444444,
              "#bd3786"
             ],
             [
              0.5555555555555556,
              "#d8576b"
             ],
             [
              0.6666666666666666,
              "#ed7953"
             ],
             [
              0.7777777777777778,
              "#fb9f3a"
             ],
             [
              0.8888888888888888,
              "#fdca26"
             ],
             [
              1,
              "#f0f921"
             ]
            ],
            "type": "contour"
           }
          ],
          "contourcarpet": [
           {
            "colorbar": {
             "outlinewidth": 0,
             "ticks": ""
            },
            "type": "contourcarpet"
           }
          ],
          "heatmap": [
           {
            "colorbar": {
             "outlinewidth": 0,
             "ticks": ""
            },
            "colorscale": [
             [
              0,
              "#0d0887"
             ],
             [
              0.1111111111111111,
              "#46039f"
             ],
             [
              0.2222222222222222,
              "#7201a8"
             ],
             [
              0.3333333333333333,
              "#9c179e"
             ],
             [
              0.4444444444444444,
              "#bd3786"
             ],
             [
              0.5555555555555556,
              "#d8576b"
             ],
             [
              0.6666666666666666,
              "#ed7953"
             ],
             [
              0.7777777777777778,
              "#fb9f3a"
             ],
             [
              0.8888888888888888,
              "#fdca26"
             ],
             [
              1,
              "#f0f921"
             ]
            ],
            "type": "heatmap"
           }
          ],
          "heatmapgl": [
           {
            "colorbar": {
             "outlinewidth": 0,
             "ticks": ""
            },
            "colorscale": [
             [
              0,
              "#0d0887"
             ],
             [
              0.1111111111111111,
              "#46039f"
             ],
             [
              0.2222222222222222,
              "#7201a8"
             ],
             [
              0.3333333333333333,
              "#9c179e"
             ],
             [
              0.4444444444444444,
              "#bd3786"
             ],
             [
              0.5555555555555556,
              "#d8576b"
             ],
             [
              0.6666666666666666,
              "#ed7953"
             ],
             [
              0.7777777777777778,
              "#fb9f3a"
             ],
             [
              0.8888888888888888,
              "#fdca26"
             ],
             [
              1,
              "#f0f921"
             ]
            ],
            "type": "heatmapgl"
           }
          ],
          "histogram": [
           {
            "marker": {
             "pattern": {
              "fillmode": "overlay",
              "size": 10,
              "solidity": 0.2
             }
            },
            "type": "histogram"
           }
          ],
          "histogram2d": [
           {
            "colorbar": {
             "outlinewidth": 0,
             "ticks": ""
            },
            "colorscale": [
             [
              0,
              "#0d0887"
             ],
             [
              0.1111111111111111,
              "#46039f"
             ],
             [
              0.2222222222222222,
              "#7201a8"
             ],
             [
              0.3333333333333333,
              "#9c179e"
             ],
             [
              0.4444444444444444,
              "#bd3786"
             ],
             [
              0.5555555555555556,
              "#d8576b"
             ],
             [
              0.6666666666666666,
              "#ed7953"
             ],
             [
              0.7777777777777778,
              "#fb9f3a"
             ],
             [
              0.8888888888888888,
              "#fdca26"
             ],
             [
              1,
              "#f0f921"
             ]
            ],
            "type": "histogram2d"
           }
          ],
          "histogram2dcontour": [
           {
            "colorbar": {
             "outlinewidth": 0,
             "ticks": ""
            },
            "colorscale": [
             [
              0,
              "#0d0887"
             ],
             [
              0.1111111111111111,
              "#46039f"
             ],
             [
              0.2222222222222222,
              "#7201a8"
             ],
             [
              0.3333333333333333,
              "#9c179e"
             ],
             [
              0.4444444444444444,
              "#bd3786"
             ],
             [
              0.5555555555555556,
              "#d8576b"
             ],
             [
              0.6666666666666666,
              "#ed7953"
             ],
             [
              0.7777777777777778,
              "#fb9f3a"
             ],
             [
              0.8888888888888888,
              "#fdca26"
             ],
             [
              1,
              "#f0f921"
             ]
            ],
            "type": "histogram2dcontour"
           }
          ],
          "mesh3d": [
           {
            "colorbar": {
             "outlinewidth": 0,
             "ticks": ""
            },
            "type": "mesh3d"
           }
          ],
          "parcoords": [
           {
            "line": {
             "colorbar": {
              "outlinewidth": 0,
              "ticks": ""
             }
            },
            "type": "parcoords"
           }
          ],
          "pie": [
           {
            "automargin": true,
            "type": "pie"
           }
          ],
          "scatter": [
           {
            "fillpattern": {
             "fillmode": "overlay",
             "size": 10,
             "solidity": 0.2
            },
            "type": "scatter"
           }
          ],
          "scatter3d": [
           {
            "line": {
             "colorbar": {
              "outlinewidth": 0,
              "ticks": ""
             }
            },
            "marker": {
             "colorbar": {
              "outlinewidth": 0,
              "ticks": ""
             }
            },
            "type": "scatter3d"
           }
          ],
          "scattercarpet": [
           {
            "marker": {
             "colorbar": {
              "outlinewidth": 0,
              "ticks": ""
             }
            },
            "type": "scattercarpet"
           }
          ],
          "scattergeo": [
           {
            "marker": {
             "colorbar": {
              "outlinewidth": 0,
              "ticks": ""
             }
            },
            "type": "scattergeo"
           }
          ],
          "scattergl": [
           {
            "marker": {
             "colorbar": {
              "outlinewidth": 0,
              "ticks": ""
             }
            },
            "type": "scattergl"
           }
          ],
          "scattermapbox": [
           {
            "marker": {
             "colorbar": {
              "outlinewidth": 0,
              "ticks": ""
             }
            },
            "type": "scattermapbox"
           }
          ],
          "scatterpolar": [
           {
            "marker": {
             "colorbar": {
              "outlinewidth": 0,
              "ticks": ""
             }
            },
            "type": "scatterpolar"
           }
          ],
          "scatterpolargl": [
           {
            "marker": {
             "colorbar": {
              "outlinewidth": 0,
              "ticks": ""
             }
            },
            "type": "scatterpolargl"
           }
          ],
          "scatterternary": [
           {
            "marker": {
             "colorbar": {
              "outlinewidth": 0,
              "ticks": ""
             }
            },
            "type": "scatterternary"
           }
          ],
          "surface": [
           {
            "colorbar": {
             "outlinewidth": 0,
             "ticks": ""
            },
            "colorscale": [
             [
              0,
              "#0d0887"
             ],
             [
              0.1111111111111111,
              "#46039f"
             ],
             [
              0.2222222222222222,
              "#7201a8"
             ],
             [
              0.3333333333333333,
              "#9c179e"
             ],
             [
              0.4444444444444444,
              "#bd3786"
             ],
             [
              0.5555555555555556,
              "#d8576b"
             ],
             [
              0.6666666666666666,
              "#ed7953"
             ],
             [
              0.7777777777777778,
              "#fb9f3a"
             ],
             [
              0.8888888888888888,
              "#fdca26"
             ],
             [
              1,
              "#f0f921"
             ]
            ],
            "type": "surface"
           }
          ],
          "table": [
           {
            "cells": {
             "fill": {
              "color": "#EBF0F8"
             },
             "line": {
              "color": "white"
             }
            },
            "header": {
             "fill": {
              "color": "#C8D4E3"
             },
             "line": {
              "color": "white"
             }
            },
            "type": "table"
           }
          ]
         },
         "layout": {
          "annotationdefaults": {
           "arrowcolor": "#2a3f5f",
           "arrowhead": 0,
           "arrowwidth": 1
          },
          "autotypenumbers": "strict",
          "coloraxis": {
           "colorbar": {
            "outlinewidth": 0,
            "ticks": ""
           }
          },
          "colorscale": {
           "diverging": [
            [
             0,
             "#8e0152"
            ],
            [
             0.1,
             "#c51b7d"
            ],
            [
             0.2,
             "#de77ae"
            ],
            [
             0.3,
             "#f1b6da"
            ],
            [
             0.4,
             "#fde0ef"
            ],
            [
             0.5,
             "#f7f7f7"
            ],
            [
             0.6,
             "#e6f5d0"
            ],
            [
             0.7,
             "#b8e186"
            ],
            [
             0.8,
             "#7fbc41"
            ],
            [
             0.9,
             "#4d9221"
            ],
            [
             1,
             "#276419"
            ]
           ],
           "sequential": [
            [
             0,
             "#0d0887"
            ],
            [
             0.1111111111111111,
             "#46039f"
            ],
            [
             0.2222222222222222,
             "#7201a8"
            ],
            [
             0.3333333333333333,
             "#9c179e"
            ],
            [
             0.4444444444444444,
             "#bd3786"
            ],
            [
             0.5555555555555556,
             "#d8576b"
            ],
            [
             0.6666666666666666,
             "#ed7953"
            ],
            [
             0.7777777777777778,
             "#fb9f3a"
            ],
            [
             0.8888888888888888,
             "#fdca26"
            ],
            [
             1,
             "#f0f921"
            ]
           ],
           "sequentialminus": [
            [
             0,
             "#0d0887"
            ],
            [
             0.1111111111111111,
             "#46039f"
            ],
            [
             0.2222222222222222,
             "#7201a8"
            ],
            [
             0.3333333333333333,
             "#9c179e"
            ],
            [
             0.4444444444444444,
             "#bd3786"
            ],
            [
             0.5555555555555556,
             "#d8576b"
            ],
            [
             0.6666666666666666,
             "#ed7953"
            ],
            [
             0.7777777777777778,
             "#fb9f3a"
            ],
            [
             0.8888888888888888,
             "#fdca26"
            ],
            [
             1,
             "#f0f921"
            ]
           ]
          },
          "colorway": [
           "#636efa",
           "#EF553B",
           "#00cc96",
           "#ab63fa",
           "#FFA15A",
           "#19d3f3",
           "#FF6692",
           "#B6E880",
           "#FF97FF",
           "#FECB52"
          ],
          "font": {
           "color": "#2a3f5f"
          },
          "geo": {
           "bgcolor": "white",
           "lakecolor": "white",
           "landcolor": "#E5ECF6",
           "showlakes": true,
           "showland": true,
           "subunitcolor": "white"
          },
          "hoverlabel": {
           "align": "left"
          },
          "hovermode": "closest",
          "mapbox": {
           "style": "light"
          },
          "paper_bgcolor": "white",
          "plot_bgcolor": "#E5ECF6",
          "polar": {
           "angularaxis": {
            "gridcolor": "white",
            "linecolor": "white",
            "ticks": ""
           },
           "bgcolor": "#E5ECF6",
           "radialaxis": {
            "gridcolor": "white",
            "linecolor": "white",
            "ticks": ""
           }
          },
          "scene": {
           "xaxis": {
            "backgroundcolor": "#E5ECF6",
            "gridcolor": "white",
            "gridwidth": 2,
            "linecolor": "white",
            "showbackground": true,
            "ticks": "",
            "zerolinecolor": "white"
           },
           "yaxis": {
            "backgroundcolor": "#E5ECF6",
            "gridcolor": "white",
            "gridwidth": 2,
            "linecolor": "white",
            "showbackground": true,
            "ticks": "",
            "zerolinecolor": "white"
           },
           "zaxis": {
            "backgroundcolor": "#E5ECF6",
            "gridcolor": "white",
            "gridwidth": 2,
            "linecolor": "white",
            "showbackground": true,
            "ticks": "",
            "zerolinecolor": "white"
           }
          },
          "shapedefaults": {
           "line": {
            "color": "#2a3f5f"
           }
          },
          "ternary": {
           "aaxis": {
            "gridcolor": "white",
            "linecolor": "white",
            "ticks": ""
           },
           "baxis": {
            "gridcolor": "white",
            "linecolor": "white",
            "ticks": ""
           },
           "bgcolor": "#E5ECF6",
           "caxis": {
            "gridcolor": "white",
            "linecolor": "white",
            "ticks": ""
           }
          },
          "title": {
           "x": 0.05
          },
          "xaxis": {
           "automargin": true,
           "gridcolor": "white",
           "linecolor": "white",
           "ticks": "",
           "title": {
            "standoff": 15
           },
           "zerolinecolor": "white",
           "zerolinewidth": 2
          },
          "yaxis": {
           "automargin": true,
           "gridcolor": "white",
           "linecolor": "white",
           "ticks": "",
           "title": {
            "standoff": 15
           },
           "zerolinecolor": "white",
           "zerolinewidth": 2
          }
         }
        },
        "title": {
         "text": "potential_return-family strategies cum return"
        },
        "xaxis": {
         "anchor": "y",
         "domain": [
          0,
          1
         ],
         "title": {
          "text": "Date"
         }
        },
        "yaxis": {
         "anchor": "x",
         "domain": [
          0,
          1
         ],
         "title": {
          "text": "Cumulative Return"
         }
        }
       }
      }
     },
     "metadata": {},
     "output_type": "display_data"
    },
    {
     "data": {
      "application/vnd.plotly.v1+json": {
       "config": {
        "plotlyServerURL": "https://plot.ly"
       },
       "data": [
        {
         "hovertemplate": "<extra></extra>",
         "legendgroup": "",
         "line": {
          "color": "#636efa",
          "dash": "solid"
         },
         "marker": {
          "symbol": "circle"
         },
         "mode": "lines",
         "name": "",
         "orientation": "v",
         "showlegend": false,
         "type": "scatter",
         "xaxis": "x",
         "yaxis": "y"
        },
        {
         "mode": "lines",
         "name": "max_return_10pct_equal_weighted",
         "type": "scatter",
         "x": [
          "2022-11-30T00:00:00",
          "2022-12-31T00:00:00",
          "2023-01-31T00:00:00",
          "2023-02-28T00:00:00",
          "2023-03-31T00:00:00",
          "2023-04-30T00:00:00",
          "2023-05-31T00:00:00",
          "2023-06-30T00:00:00",
          "2023-07-31T00:00:00",
          "2023-08-31T00:00:00",
          "2023-09-30T00:00:00",
          "2023-10-31T00:00:00",
          "2023-11-30T00:00:00",
          "2023-12-31T00:00:00",
          "2024-01-31T00:00:00",
          "2024-02-29T00:00:00",
          "2024-03-31T00:00:00",
          "2024-04-30T00:00:00",
          "2024-05-31T00:00:00",
          "2024-06-30T00:00:00",
          "2024-07-31T00:00:00",
          "2024-08-31T00:00:00",
          "2024-09-30T00:00:00",
          "2024-10-31T00:00:00"
         ],
         "y": [
          0,
          -0.04278940245792384,
          0.05644951090629502,
          0.02439102863325049,
          -0.0018489098205889398,
          -0.017045912358663706,
          0.014099982740252592,
          0.08947983508068358,
          0.03352968403681644,
          0.007247997873891299,
          0.12289875220809354,
          0.19461768013613412,
          0.2567093662989304,
          0.20799886208422902,
          0.1631685947806003,
          0.1534942745768264,
          0.27558844136123084,
          0.2810648874812205,
          0.30038474251522973,
          0.27375658641137446,
          0.22244192506451843,
          0.2033970788487618,
          0.20632960339442796,
          0.19190031533310004
         ]
        },
        {
         "mode": "lines",
         "name": "max_return_10pct_value_weighted",
         "type": "scatter",
         "x": [
          "2022-11-30T00:00:00",
          "2022-12-31T00:00:00",
          "2023-01-31T00:00:00",
          "2023-02-28T00:00:00",
          "2023-03-31T00:00:00",
          "2023-04-30T00:00:00",
          "2023-05-31T00:00:00",
          "2023-06-30T00:00:00",
          "2023-07-31T00:00:00",
          "2023-08-31T00:00:00",
          "2023-09-30T00:00:00",
          "2023-10-31T00:00:00",
          "2023-11-30T00:00:00",
          "2023-12-31T00:00:00",
          "2024-01-31T00:00:00",
          "2024-02-29T00:00:00",
          "2024-03-31T00:00:00",
          "2024-04-30T00:00:00",
          "2024-05-31T00:00:00",
          "2024-06-30T00:00:00",
          "2024-07-31T00:00:00",
          "2024-08-31T00:00:00",
          "2024-09-30T00:00:00",
          "2024-10-31T00:00:00"
         ],
         "y": [
          0,
          -0.04502714683953324,
          0.03841713293846882,
          0.0045768125039025165,
          -0.016912381658974462,
          -0.03463642643061704,
          0.025921692810264796,
          0.05756587519348755,
          0.0023163534080465897,
          -0.026843874698595727,
          0.14233701600323734,
          0.2573567946989068,
          0.29288321874677137,
          0.23766151266929203,
          0.19492302114400095,
          0.18553910399928442,
          0.2801562273573661,
          0.28610562977309706,
          0.30540911823897554,
          0.28858301622211036,
          0.23401408624961428,
          0.2201825119657328,
          0.22425487553084023,
          0.21256497846646005
         ]
        },
        {
         "mode": "lines",
         "name": "max_return_20pct_equal_weighted",
         "type": "scatter",
         "x": [
          "2022-11-30T00:00:00",
          "2022-12-31T00:00:00",
          "2023-01-31T00:00:00",
          "2023-02-28T00:00:00",
          "2023-03-31T00:00:00",
          "2023-04-30T00:00:00",
          "2023-05-31T00:00:00",
          "2023-06-30T00:00:00",
          "2023-07-31T00:00:00",
          "2023-08-31T00:00:00",
          "2023-09-30T00:00:00",
          "2023-10-31T00:00:00",
          "2023-11-30T00:00:00",
          "2023-12-31T00:00:00",
          "2024-01-31T00:00:00",
          "2024-02-29T00:00:00",
          "2024-03-31T00:00:00",
          "2024-04-30T00:00:00",
          "2024-05-31T00:00:00",
          "2024-06-30T00:00:00",
          "2024-07-31T00:00:00",
          "2024-08-31T00:00:00",
          "2024-09-30T00:00:00",
          "2024-10-31T00:00:00"
         ],
         "y": [
          0,
          -0.023138458873575907,
          0.09771808318506436,
          0.07174971913037109,
          0.06615612420041073,
          0.050861010143006924,
          0.06215638010780333,
          0.10023496340768379,
          0.08628211151012954,
          0.06991206776159031,
          0.12794426038901996,
          0.16250531726330397,
          0.19418681855141373,
          0.15348924789746277,
          0.1267253106529702,
          0.10140283941758343,
          0.18698354651560534,
          0.16929535905079884,
          0.19462085207581903,
          0.17267054890355826,
          0.14415782666816757,
          0.13134160088676072,
          0.15292198699124304,
          0.14321218500821487
         ]
        },
        {
         "mode": "lines",
         "name": "max_return_20pct_value_weighted",
         "type": "scatter",
         "x": [
          "2022-11-30T00:00:00",
          "2022-12-31T00:00:00",
          "2023-01-31T00:00:00",
          "2023-02-28T00:00:00",
          "2023-03-31T00:00:00",
          "2023-04-30T00:00:00",
          "2023-05-31T00:00:00",
          "2023-06-30T00:00:00",
          "2023-07-31T00:00:00",
          "2023-08-31T00:00:00",
          "2023-09-30T00:00:00",
          "2023-10-31T00:00:00",
          "2023-11-30T00:00:00",
          "2023-12-31T00:00:00",
          "2024-01-31T00:00:00",
          "2024-02-29T00:00:00",
          "2024-03-31T00:00:00",
          "2024-04-30T00:00:00",
          "2024-05-31T00:00:00",
          "2024-06-30T00:00:00",
          "2024-07-31T00:00:00",
          "2024-08-31T00:00:00",
          "2024-09-30T00:00:00",
          "2024-10-31T00:00:00"
         ],
         "y": [
          0,
          -0.02971616161255297,
          0.07745275571439447,
          0.04843832177464291,
          0.0468756320242274,
          0.02926245154023821,
          0.0725943916575309,
          0.0896228094701308,
          0.06872783112662595,
          0.05060135441512248,
          0.17278202127992826,
          0.25350061727964124,
          0.27616619021411903,
          0.21821184268650518,
          0.19306402964103642,
          0.1622204254383468,
          0.2447735679969092,
          0.2286984624714301,
          0.25358516969909006,
          0.24117502522117307,
          0.20367792918938266,
          0.1930624143639179,
          0.20989461346239024,
          0.20437698296364792
         ]
        },
        {
         "mode": "lines",
         "name": "max_return_30pct_equal_weighted",
         "type": "scatter",
         "x": [
          "2022-11-30T00:00:00",
          "2022-12-31T00:00:00",
          "2023-01-31T00:00:00",
          "2023-02-28T00:00:00",
          "2023-03-31T00:00:00",
          "2023-04-30T00:00:00",
          "2023-05-31T00:00:00",
          "2023-06-30T00:00:00",
          "2023-07-31T00:00:00",
          "2023-08-31T00:00:00",
          "2023-09-30T00:00:00",
          "2023-10-31T00:00:00",
          "2023-11-30T00:00:00",
          "2023-12-31T00:00:00",
          "2024-01-31T00:00:00",
          "2024-02-29T00:00:00",
          "2024-03-31T00:00:00",
          "2024-04-30T00:00:00",
          "2024-05-31T00:00:00",
          "2024-06-30T00:00:00",
          "2024-07-31T00:00:00",
          "2024-08-31T00:00:00",
          "2024-09-30T00:00:00",
          "2024-10-31T00:00:00"
         ],
         "y": [
          0,
          -0.01946369171251705,
          0.059222070131883076,
          0.04384967206366608,
          0.04101006337081681,
          0.03054557568254035,
          0.035787598362896356,
          0.06181950089672239,
          0.056349795927136404,
          0.04425675970965237,
          0.08475796834990357,
          0.11635886591240063,
          0.13962083559204386,
          0.12086141446877074,
          0.10709461025018019,
          0.09787533402781734,
          0.1762662482359323,
          0.17098445368425197,
          0.18474016146295313,
          0.16849697994657697,
          0.14470535283784947,
          0.13312051364247313,
          0.15247504901986253,
          0.14386718117065955
         ]
        },
        {
         "mode": "lines",
         "name": "max_return_30pct_value_weighted",
         "type": "scatter",
         "x": [
          "2022-11-30T00:00:00",
          "2022-12-31T00:00:00",
          "2023-01-31T00:00:00",
          "2023-02-28T00:00:00",
          "2023-03-31T00:00:00",
          "2023-04-30T00:00:00",
          "2023-05-31T00:00:00",
          "2023-06-30T00:00:00",
          "2023-07-31T00:00:00",
          "2023-08-31T00:00:00",
          "2023-09-30T00:00:00",
          "2023-10-31T00:00:00",
          "2023-11-30T00:00:00",
          "2023-12-31T00:00:00",
          "2024-01-31T00:00:00",
          "2024-02-29T00:00:00",
          "2024-03-31T00:00:00",
          "2024-04-30T00:00:00",
          "2024-05-31T00:00:00",
          "2024-06-30T00:00:00",
          "2024-07-31T00:00:00",
          "2024-08-31T00:00:00",
          "2024-09-30T00:00:00",
          "2024-10-31T00:00:00"
         ],
         "y": [
          0,
          -0.02400838815979689,
          0.05019111044397251,
          0.031144427449749212,
          0.032208802966313455,
          0.020188058681698928,
          0.05265416983398019,
          0.06709546260062615,
          0.05284787525592871,
          0.03819128969754604,
          0.14022227218144967,
          0.21348638637744166,
          0.23612873487371355,
          0.1943598946450007,
          0.1817467739622829,
          0.16431914717427554,
          0.2398407067010253,
          0.2370252976555811,
          0.24790998690828947,
          0.2417200115158189,
          0.2146210439228149,
          0.20379861258108978,
          0.21938752382616622,
          0.21187051253155453
         ]
        }
       ],
       "layout": {
        "legend": {
         "tracegroupgap": 0
        },
        "template": {
         "data": {
          "bar": [
           {
            "error_x": {
             "color": "#2a3f5f"
            },
            "error_y": {
             "color": "#2a3f5f"
            },
            "marker": {
             "line": {
              "color": "#E5ECF6",
              "width": 0.5
             },
             "pattern": {
              "fillmode": "overlay",
              "size": 10,
              "solidity": 0.2
             }
            },
            "type": "bar"
           }
          ],
          "barpolar": [
           {
            "marker": {
             "line": {
              "color": "#E5ECF6",
              "width": 0.5
             },
             "pattern": {
              "fillmode": "overlay",
              "size": 10,
              "solidity": 0.2
             }
            },
            "type": "barpolar"
           }
          ],
          "carpet": [
           {
            "aaxis": {
             "endlinecolor": "#2a3f5f",
             "gridcolor": "white",
             "linecolor": "white",
             "minorgridcolor": "white",
             "startlinecolor": "#2a3f5f"
            },
            "baxis": {
             "endlinecolor": "#2a3f5f",
             "gridcolor": "white",
             "linecolor": "white",
             "minorgridcolor": "white",
             "startlinecolor": "#2a3f5f"
            },
            "type": "carpet"
           }
          ],
          "choropleth": [
           {
            "colorbar": {
             "outlinewidth": 0,
             "ticks": ""
            },
            "type": "choropleth"
           }
          ],
          "contour": [
           {
            "colorbar": {
             "outlinewidth": 0,
             "ticks": ""
            },
            "colorscale": [
             [
              0,
              "#0d0887"
             ],
             [
              0.1111111111111111,
              "#46039f"
             ],
             [
              0.2222222222222222,
              "#7201a8"
             ],
             [
              0.3333333333333333,
              "#9c179e"
             ],
             [
              0.4444444444444444,
              "#bd3786"
             ],
             [
              0.5555555555555556,
              "#d8576b"
             ],
             [
              0.6666666666666666,
              "#ed7953"
             ],
             [
              0.7777777777777778,
              "#fb9f3a"
             ],
             [
              0.8888888888888888,
              "#fdca26"
             ],
             [
              1,
              "#f0f921"
             ]
            ],
            "type": "contour"
           }
          ],
          "contourcarpet": [
           {
            "colorbar": {
             "outlinewidth": 0,
             "ticks": ""
            },
            "type": "contourcarpet"
           }
          ],
          "heatmap": [
           {
            "colorbar": {
             "outlinewidth": 0,
             "ticks": ""
            },
            "colorscale": [
             [
              0,
              "#0d0887"
             ],
             [
              0.1111111111111111,
              "#46039f"
             ],
             [
              0.2222222222222222,
              "#7201a8"
             ],
             [
              0.3333333333333333,
              "#9c179e"
             ],
             [
              0.4444444444444444,
              "#bd3786"
             ],
             [
              0.5555555555555556,
              "#d8576b"
             ],
             [
              0.6666666666666666,
              "#ed7953"
             ],
             [
              0.7777777777777778,
              "#fb9f3a"
             ],
             [
              0.8888888888888888,
              "#fdca26"
             ],
             [
              1,
              "#f0f921"
             ]
            ],
            "type": "heatmap"
           }
          ],
          "heatmapgl": [
           {
            "colorbar": {
             "outlinewidth": 0,
             "ticks": ""
            },
            "colorscale": [
             [
              0,
              "#0d0887"
             ],
             [
              0.1111111111111111,
              "#46039f"
             ],
             [
              0.2222222222222222,
              "#7201a8"
             ],
             [
              0.3333333333333333,
              "#9c179e"
             ],
             [
              0.4444444444444444,
              "#bd3786"
             ],
             [
              0.5555555555555556,
              "#d8576b"
             ],
             [
              0.6666666666666666,
              "#ed7953"
             ],
             [
              0.7777777777777778,
              "#fb9f3a"
             ],
             [
              0.8888888888888888,
              "#fdca26"
             ],
             [
              1,
              "#f0f921"
             ]
            ],
            "type": "heatmapgl"
           }
          ],
          "histogram": [
           {
            "marker": {
             "pattern": {
              "fillmode": "overlay",
              "size": 10,
              "solidity": 0.2
             }
            },
            "type": "histogram"
           }
          ],
          "histogram2d": [
           {
            "colorbar": {
             "outlinewidth": 0,
             "ticks": ""
            },
            "colorscale": [
             [
              0,
              "#0d0887"
             ],
             [
              0.1111111111111111,
              "#46039f"
             ],
             [
              0.2222222222222222,
              "#7201a8"
             ],
             [
              0.3333333333333333,
              "#9c179e"
             ],
             [
              0.4444444444444444,
              "#bd3786"
             ],
             [
              0.5555555555555556,
              "#d8576b"
             ],
             [
              0.6666666666666666,
              "#ed7953"
             ],
             [
              0.7777777777777778,
              "#fb9f3a"
             ],
             [
              0.8888888888888888,
              "#fdca26"
             ],
             [
              1,
              "#f0f921"
             ]
            ],
            "type": "histogram2d"
           }
          ],
          "histogram2dcontour": [
           {
            "colorbar": {
             "outlinewidth": 0,
             "ticks": ""
            },
            "colorscale": [
             [
              0,
              "#0d0887"
             ],
             [
              0.1111111111111111,
              "#46039f"
             ],
             [
              0.2222222222222222,
              "#7201a8"
             ],
             [
              0.3333333333333333,
              "#9c179e"
             ],
             [
              0.4444444444444444,
              "#bd3786"
             ],
             [
              0.5555555555555556,
              "#d8576b"
             ],
             [
              0.6666666666666666,
              "#ed7953"
             ],
             [
              0.7777777777777778,
              "#fb9f3a"
             ],
             [
              0.8888888888888888,
              "#fdca26"
             ],
             [
              1,
              "#f0f921"
             ]
            ],
            "type": "histogram2dcontour"
           }
          ],
          "mesh3d": [
           {
            "colorbar": {
             "outlinewidth": 0,
             "ticks": ""
            },
            "type": "mesh3d"
           }
          ],
          "parcoords": [
           {
            "line": {
             "colorbar": {
              "outlinewidth": 0,
              "ticks": ""
             }
            },
            "type": "parcoords"
           }
          ],
          "pie": [
           {
            "automargin": true,
            "type": "pie"
           }
          ],
          "scatter": [
           {
            "fillpattern": {
             "fillmode": "overlay",
             "size": 10,
             "solidity": 0.2
            },
            "type": "scatter"
           }
          ],
          "scatter3d": [
           {
            "line": {
             "colorbar": {
              "outlinewidth": 0,
              "ticks": ""
             }
            },
            "marker": {
             "colorbar": {
              "outlinewidth": 0,
              "ticks": ""
             }
            },
            "type": "scatter3d"
           }
          ],
          "scattercarpet": [
           {
            "marker": {
             "colorbar": {
              "outlinewidth": 0,
              "ticks": ""
             }
            },
            "type": "scattercarpet"
           }
          ],
          "scattergeo": [
           {
            "marker": {
             "colorbar": {
              "outlinewidth": 0,
              "ticks": ""
             }
            },
            "type": "scattergeo"
           }
          ],
          "scattergl": [
           {
            "marker": {
             "colorbar": {
              "outlinewidth": 0,
              "ticks": ""
             }
            },
            "type": "scattergl"
           }
          ],
          "scattermapbox": [
           {
            "marker": {
             "colorbar": {
              "outlinewidth": 0,
              "ticks": ""
             }
            },
            "type": "scattermapbox"
           }
          ],
          "scatterpolar": [
           {
            "marker": {
             "colorbar": {
              "outlinewidth": 0,
              "ticks": ""
             }
            },
            "type": "scatterpolar"
           }
          ],
          "scatterpolargl": [
           {
            "marker": {
             "colorbar": {
              "outlinewidth": 0,
              "ticks": ""
             }
            },
            "type": "scatterpolargl"
           }
          ],
          "scatterternary": [
           {
            "marker": {
             "colorbar": {
              "outlinewidth": 0,
              "ticks": ""
             }
            },
            "type": "scatterternary"
           }
          ],
          "surface": [
           {
            "colorbar": {
             "outlinewidth": 0,
             "ticks": ""
            },
            "colorscale": [
             [
              0,
              "#0d0887"
             ],
             [
              0.1111111111111111,
              "#46039f"
             ],
             [
              0.2222222222222222,
              "#7201a8"
             ],
             [
              0.3333333333333333,
              "#9c179e"
             ],
             [
              0.4444444444444444,
              "#bd3786"
             ],
             [
              0.5555555555555556,
              "#d8576b"
             ],
             [
              0.6666666666666666,
              "#ed7953"
             ],
             [
              0.7777777777777778,
              "#fb9f3a"
             ],
             [
              0.8888888888888888,
              "#fdca26"
             ],
             [
              1,
              "#f0f921"
             ]
            ],
            "type": "surface"
           }
          ],
          "table": [
           {
            "cells": {
             "fill": {
              "color": "#EBF0F8"
             },
             "line": {
              "color": "white"
             }
            },
            "header": {
             "fill": {
              "color": "#C8D4E3"
             },
             "line": {
              "color": "white"
             }
            },
            "type": "table"
           }
          ]
         },
         "layout": {
          "annotationdefaults": {
           "arrowcolor": "#2a3f5f",
           "arrowhead": 0,
           "arrowwidth": 1
          },
          "autotypenumbers": "strict",
          "coloraxis": {
           "colorbar": {
            "outlinewidth": 0,
            "ticks": ""
           }
          },
          "colorscale": {
           "diverging": [
            [
             0,
             "#8e0152"
            ],
            [
             0.1,
             "#c51b7d"
            ],
            [
             0.2,
             "#de77ae"
            ],
            [
             0.3,
             "#f1b6da"
            ],
            [
             0.4,
             "#fde0ef"
            ],
            [
             0.5,
             "#f7f7f7"
            ],
            [
             0.6,
             "#e6f5d0"
            ],
            [
             0.7,
             "#b8e186"
            ],
            [
             0.8,
             "#7fbc41"
            ],
            [
             0.9,
             "#4d9221"
            ],
            [
             1,
             "#276419"
            ]
           ],
           "sequential": [
            [
             0,
             "#0d0887"
            ],
            [
             0.1111111111111111,
             "#46039f"
            ],
            [
             0.2222222222222222,
             "#7201a8"
            ],
            [
             0.3333333333333333,
             "#9c179e"
            ],
            [
             0.4444444444444444,
             "#bd3786"
            ],
            [
             0.5555555555555556,
             "#d8576b"
            ],
            [
             0.6666666666666666,
             "#ed7953"
            ],
            [
             0.7777777777777778,
             "#fb9f3a"
            ],
            [
             0.8888888888888888,
             "#fdca26"
            ],
            [
             1,
             "#f0f921"
            ]
           ],
           "sequentialminus": [
            [
             0,
             "#0d0887"
            ],
            [
             0.1111111111111111,
             "#46039f"
            ],
            [
             0.2222222222222222,
             "#7201a8"
            ],
            [
             0.3333333333333333,
             "#9c179e"
            ],
            [
             0.4444444444444444,
             "#bd3786"
            ],
            [
             0.5555555555555556,
             "#d8576b"
            ],
            [
             0.6666666666666666,
             "#ed7953"
            ],
            [
             0.7777777777777778,
             "#fb9f3a"
            ],
            [
             0.8888888888888888,
             "#fdca26"
            ],
            [
             1,
             "#f0f921"
            ]
           ]
          },
          "colorway": [
           "#636efa",
           "#EF553B",
           "#00cc96",
           "#ab63fa",
           "#FFA15A",
           "#19d3f3",
           "#FF6692",
           "#B6E880",
           "#FF97FF",
           "#FECB52"
          ],
          "font": {
           "color": "#2a3f5f"
          },
          "geo": {
           "bgcolor": "white",
           "lakecolor": "white",
           "landcolor": "#E5ECF6",
           "showlakes": true,
           "showland": true,
           "subunitcolor": "white"
          },
          "hoverlabel": {
           "align": "left"
          },
          "hovermode": "closest",
          "mapbox": {
           "style": "light"
          },
          "paper_bgcolor": "white",
          "plot_bgcolor": "#E5ECF6",
          "polar": {
           "angularaxis": {
            "gridcolor": "white",
            "linecolor": "white",
            "ticks": ""
           },
           "bgcolor": "#E5ECF6",
           "radialaxis": {
            "gridcolor": "white",
            "linecolor": "white",
            "ticks": ""
           }
          },
          "scene": {
           "xaxis": {
            "backgroundcolor": "#E5ECF6",
            "gridcolor": "white",
            "gridwidth": 2,
            "linecolor": "white",
            "showbackground": true,
            "ticks": "",
            "zerolinecolor": "white"
           },
           "yaxis": {
            "backgroundcolor": "#E5ECF6",
            "gridcolor": "white",
            "gridwidth": 2,
            "linecolor": "white",
            "showbackground": true,
            "ticks": "",
            "zerolinecolor": "white"
           },
           "zaxis": {
            "backgroundcolor": "#E5ECF6",
            "gridcolor": "white",
            "gridwidth": 2,
            "linecolor": "white",
            "showbackground": true,
            "ticks": "",
            "zerolinecolor": "white"
           }
          },
          "shapedefaults": {
           "line": {
            "color": "#2a3f5f"
           }
          },
          "ternary": {
           "aaxis": {
            "gridcolor": "white",
            "linecolor": "white",
            "ticks": ""
           },
           "baxis": {
            "gridcolor": "white",
            "linecolor": "white",
            "ticks": ""
           },
           "bgcolor": "#E5ECF6",
           "caxis": {
            "gridcolor": "white",
            "linecolor": "white",
            "ticks": ""
           }
          },
          "title": {
           "x": 0.05
          },
          "xaxis": {
           "automargin": true,
           "gridcolor": "white",
           "linecolor": "white",
           "ticks": "",
           "title": {
            "standoff": 15
           },
           "zerolinecolor": "white",
           "zerolinewidth": 2
          },
          "yaxis": {
           "automargin": true,
           "gridcolor": "white",
           "linecolor": "white",
           "ticks": "",
           "title": {
            "standoff": 15
           },
           "zerolinecolor": "white",
           "zerolinewidth": 2
          }
         }
        },
        "title": {
         "text": "max_return-family strategies cum return"
        },
        "xaxis": {
         "anchor": "y",
         "domain": [
          0,
          1
         ],
         "title": {
          "text": "Date"
         }
        },
        "yaxis": {
         "anchor": "x",
         "domain": [
          0,
          1
         ],
         "title": {
          "text": "Cumulative Return"
         }
        }
       }
      }
     },
     "metadata": {},
     "output_type": "display_data"
    },
    {
     "data": {
      "application/vnd.plotly.v1+json": {
       "config": {
        "plotlyServerURL": "https://plot.ly"
       },
       "data": [
        {
         "hovertemplate": "<extra></extra>",
         "legendgroup": "",
         "line": {
          "color": "#636efa",
          "dash": "solid"
         },
         "marker": {
          "symbol": "circle"
         },
         "mode": "lines",
         "name": "",
         "orientation": "v",
         "showlegend": false,
         "type": "scatter",
         "xaxis": "x",
         "yaxis": "y"
        },
        {
         "mode": "lines",
         "name": "salience_10pct_equal_weighted",
         "type": "scatter",
         "x": [
          "2022-11-30T00:00:00",
          "2022-12-31T00:00:00",
          "2023-01-31T00:00:00",
          "2023-02-28T00:00:00",
          "2023-03-31T00:00:00",
          "2023-04-30T00:00:00",
          "2023-05-31T00:00:00",
          "2023-06-30T00:00:00",
          "2023-07-31T00:00:00",
          "2023-08-31T00:00:00",
          "2023-09-30T00:00:00",
          "2023-10-31T00:00:00",
          "2023-11-30T00:00:00",
          "2023-12-31T00:00:00",
          "2024-01-31T00:00:00",
          "2024-02-29T00:00:00",
          "2024-03-31T00:00:00",
          "2024-04-30T00:00:00",
          "2024-05-31T00:00:00",
          "2024-06-30T00:00:00",
          "2024-07-31T00:00:00",
          "2024-08-31T00:00:00",
          "2024-09-30T00:00:00",
          "2024-10-31T00:00:00"
         ],
         "y": [
          0,
          -0.02697234247060154,
          -0.114515041365441,
          -0.1328309950957164,
          -0.12783712780055712,
          -0.11716503693829305,
          -0.07499299238641477,
          -0.0103117383755027,
          0.000850591893794439,
          0.12042023583505279,
          0.25875463176115,
          0.25126729925154834,
          0.26455600430134374,
          0.23271623855961576,
          0.19738665379890508,
          0.19735371842020522,
          0.13376051639775888,
          0.16699897107920436,
          0.14614567648706056,
          0.17090695940551703,
          0.1890509104397391,
          0.20973912895718239,
          0.21517508057885926,
          0.21169413472994658
         ]
        },
        {
         "mode": "lines",
         "name": "salience_10pct_value_weighted",
         "type": "scatter",
         "x": [
          "2022-11-30T00:00:00",
          "2022-12-31T00:00:00",
          "2023-01-31T00:00:00",
          "2023-02-28T00:00:00",
          "2023-03-31T00:00:00",
          "2023-04-30T00:00:00",
          "2023-05-31T00:00:00",
          "2023-06-30T00:00:00",
          "2023-07-31T00:00:00",
          "2023-08-31T00:00:00",
          "2023-09-30T00:00:00",
          "2023-10-31T00:00:00",
          "2023-11-30T00:00:00",
          "2023-12-31T00:00:00",
          "2024-01-31T00:00:00",
          "2024-02-29T00:00:00",
          "2024-03-31T00:00:00",
          "2024-04-30T00:00:00",
          "2024-05-31T00:00:00",
          "2024-06-30T00:00:00",
          "2024-07-31T00:00:00",
          "2024-08-31T00:00:00",
          "2024-09-30T00:00:00",
          "2024-10-31T00:00:00"
         ],
         "y": [
          0,
          -0.021162695442972,
          -0.07678182048266646,
          -0.10094995343420021,
          -0.09755271714388825,
          -0.08472426944720013,
          -0.057737370043496994,
          0.0028097891035381295,
          -0.004119965990577734,
          0.1073175205568131,
          0.2536249557108958,
          0.2397273778678155,
          0.2525819342809392,
          0.20128521157555102,
          0.1680268187641316,
          0.16707053073558487,
          0.09304754119919023,
          0.11987979061699372,
          0.09278003700270188,
          0.10974585475143961,
          0.12516032577759129,
          0.14684097295127785,
          0.1444276001462821,
          0.13981762958235056
         ]
        },
        {
         "mode": "lines",
         "name": "salience_20pct_equal_weighted",
         "type": "scatter",
         "x": [
          "2022-11-30T00:00:00",
          "2022-12-31T00:00:00",
          "2023-01-31T00:00:00",
          "2023-02-28T00:00:00",
          "2023-03-31T00:00:00",
          "2023-04-30T00:00:00",
          "2023-05-31T00:00:00",
          "2023-06-30T00:00:00",
          "2023-07-31T00:00:00",
          "2023-08-31T00:00:00",
          "2023-09-30T00:00:00",
          "2023-10-31T00:00:00",
          "2023-11-30T00:00:00",
          "2023-12-31T00:00:00",
          "2024-01-31T00:00:00",
          "2024-02-29T00:00:00",
          "2024-03-31T00:00:00",
          "2024-04-30T00:00:00",
          "2024-05-31T00:00:00",
          "2024-06-30T00:00:00",
          "2024-07-31T00:00:00",
          "2024-08-31T00:00:00",
          "2024-09-30T00:00:00",
          "2024-10-31T00:00:00"
         ],
         "y": [
          0,
          -0.016251419115695387,
          -0.05735178519995543,
          -0.07116620167222165,
          -0.05249377174097469,
          -0.04802657948317479,
          -0.020642617399106666,
          0.009091382814057747,
          -0.0032434442973499067,
          0.06474274270654745,
          0.14030571815127368,
          0.10441887457780541,
          0.08678241778564422,
          0.0544745176485244,
          0.045039561681828655,
          0.03219610053390398,
          -0.003361679202532053,
          0.013541840945087591,
          0.02661758445823481,
          0.04661452716876813,
          0.053403444252188015,
          0.07541839236696113,
          0.06458521872396417,
          0.06804106878590321
         ]
        },
        {
         "mode": "lines",
         "name": "salience_20pct_value_weighted",
         "type": "scatter",
         "x": [
          "2022-11-30T00:00:00",
          "2022-12-31T00:00:00",
          "2023-01-31T00:00:00",
          "2023-02-28T00:00:00",
          "2023-03-31T00:00:00",
          "2023-04-30T00:00:00",
          "2023-05-31T00:00:00",
          "2023-06-30T00:00:00",
          "2023-07-31T00:00:00",
          "2023-08-31T00:00:00",
          "2023-09-30T00:00:00",
          "2023-10-31T00:00:00",
          "2023-11-30T00:00:00",
          "2023-12-31T00:00:00",
          "2024-01-31T00:00:00",
          "2024-02-29T00:00:00",
          "2024-03-31T00:00:00",
          "2024-04-30T00:00:00",
          "2024-05-31T00:00:00",
          "2024-06-30T00:00:00",
          "2024-07-31T00:00:00",
          "2024-08-31T00:00:00",
          "2024-09-30T00:00:00",
          "2024-10-31T00:00:00"
         ],
         "y": [
          0,
          -0.01228367096327776,
          -0.036847149461392115,
          -0.05248432506499223,
          -0.035684380468530064,
          -0.027821877215924884,
          -0.001830208665219546,
          0.03408403042661878,
          0.02411777548863725,
          0.09166192277518137,
          0.2017570891339313,
          0.15662108393482588,
          0.1257417245639223,
          0.09002793800608977,
          0.08748295236257819,
          0.07494826117859477,
          0.047164219655005946,
          0.06644430075482055,
          0.051375821779799935,
          0.07178685261935658,
          0.07920686213954786,
          0.10521872726524872,
          0.08618431824877204,
          0.092569343677668
         ]
        },
        {
         "mode": "lines",
         "name": "salience_30pct_equal_weighted",
         "type": "scatter",
         "x": [
          "2022-11-30T00:00:00",
          "2022-12-31T00:00:00",
          "2023-01-31T00:00:00",
          "2023-02-28T00:00:00",
          "2023-03-31T00:00:00",
          "2023-04-30T00:00:00",
          "2023-05-31T00:00:00",
          "2023-06-30T00:00:00",
          "2023-07-31T00:00:00",
          "2023-08-31T00:00:00",
          "2023-09-30T00:00:00",
          "2023-10-31T00:00:00",
          "2023-11-30T00:00:00",
          "2023-12-31T00:00:00",
          "2024-01-31T00:00:00",
          "2024-02-29T00:00:00",
          "2024-03-31T00:00:00",
          "2024-04-30T00:00:00",
          "2024-05-31T00:00:00",
          "2024-06-30T00:00:00",
          "2024-07-31T00:00:00",
          "2024-08-31T00:00:00",
          "2024-09-30T00:00:00",
          "2024-10-31T00:00:00"
         ],
         "y": [
          0,
          -0.001194619778019601,
          -0.06991899663024248,
          -0.08589782232735343,
          -0.054820487154756514,
          -0.049362302652911194,
          -0.027587250289836107,
          0.0005512065684454281,
          -0.014745823758213872,
          0.04063258521966495,
          0.09237766827503835,
          0.07481131220895088,
          0.09973290202559593,
          0.09675215092058864,
          0.07872192623223162,
          0.06128044301141777,
          0.035374995945519405,
          0.04318324354867631,
          0.06051786836120865,
          0.07452774939354212,
          0.0815702643955516,
          0.08889989013196242,
          0.07644145705786465,
          0.08168051824747757
         ]
        },
        {
         "mode": "lines",
         "name": "salience_30pct_value_weighted",
         "type": "scatter",
         "x": [
          "2022-11-30T00:00:00",
          "2022-12-31T00:00:00",
          "2023-01-31T00:00:00",
          "2023-02-28T00:00:00",
          "2023-03-31T00:00:00",
          "2023-04-30T00:00:00",
          "2023-05-31T00:00:00",
          "2023-06-30T00:00:00",
          "2023-07-31T00:00:00",
          "2023-08-31T00:00:00",
          "2023-09-30T00:00:00",
          "2023-10-31T00:00:00",
          "2023-11-30T00:00:00",
          "2023-12-31T00:00:00",
          "2024-01-31T00:00:00",
          "2024-02-29T00:00:00",
          "2024-03-31T00:00:00",
          "2024-04-30T00:00:00",
          "2024-05-31T00:00:00",
          "2024-06-30T00:00:00",
          "2024-07-31T00:00:00",
          "2024-08-31T00:00:00",
          "2024-09-30T00:00:00",
          "2024-10-31T00:00:00"
         ],
         "y": [
          0,
          0.0002611898989524075,
          -0.06184911220864553,
          -0.0793948041666348,
          -0.05583543148192083,
          -0.047406549882659466,
          -0.023538532433602044,
          0.010074500982579782,
          -0.0002761463519206364,
          0.05674458674240035,
          0.13819100348283264,
          0.12086498337820695,
          0.14015260809470997,
          0.1463165574081291,
          0.1339787071648484,
          0.112991179995515,
          0.10021942289606156,
          0.10713213263373977,
          0.10214932386300779,
          0.1173097765363118,
          0.13402473315932184,
          0.14716576155516847,
          0.12884287105092196,
          0.1293288109758668
         ]
        }
       ],
       "layout": {
        "legend": {
         "tracegroupgap": 0
        },
        "template": {
         "data": {
          "bar": [
           {
            "error_x": {
             "color": "#2a3f5f"
            },
            "error_y": {
             "color": "#2a3f5f"
            },
            "marker": {
             "line": {
              "color": "#E5ECF6",
              "width": 0.5
             },
             "pattern": {
              "fillmode": "overlay",
              "size": 10,
              "solidity": 0.2
             }
            },
            "type": "bar"
           }
          ],
          "barpolar": [
           {
            "marker": {
             "line": {
              "color": "#E5ECF6",
              "width": 0.5
             },
             "pattern": {
              "fillmode": "overlay",
              "size": 10,
              "solidity": 0.2
             }
            },
            "type": "barpolar"
           }
          ],
          "carpet": [
           {
            "aaxis": {
             "endlinecolor": "#2a3f5f",
             "gridcolor": "white",
             "linecolor": "white",
             "minorgridcolor": "white",
             "startlinecolor": "#2a3f5f"
            },
            "baxis": {
             "endlinecolor": "#2a3f5f",
             "gridcolor": "white",
             "linecolor": "white",
             "minorgridcolor": "white",
             "startlinecolor": "#2a3f5f"
            },
            "type": "carpet"
           }
          ],
          "choropleth": [
           {
            "colorbar": {
             "outlinewidth": 0,
             "ticks": ""
            },
            "type": "choropleth"
           }
          ],
          "contour": [
           {
            "colorbar": {
             "outlinewidth": 0,
             "ticks": ""
            },
            "colorscale": [
             [
              0,
              "#0d0887"
             ],
             [
              0.1111111111111111,
              "#46039f"
             ],
             [
              0.2222222222222222,
              "#7201a8"
             ],
             [
              0.3333333333333333,
              "#9c179e"
             ],
             [
              0.4444444444444444,
              "#bd3786"
             ],
             [
              0.5555555555555556,
              "#d8576b"
             ],
             [
              0.6666666666666666,
              "#ed7953"
             ],
             [
              0.7777777777777778,
              "#fb9f3a"
             ],
             [
              0.8888888888888888,
              "#fdca26"
             ],
             [
              1,
              "#f0f921"
             ]
            ],
            "type": "contour"
           }
          ],
          "contourcarpet": [
           {
            "colorbar": {
             "outlinewidth": 0,
             "ticks": ""
            },
            "type": "contourcarpet"
           }
          ],
          "heatmap": [
           {
            "colorbar": {
             "outlinewidth": 0,
             "ticks": ""
            },
            "colorscale": [
             [
              0,
              "#0d0887"
             ],
             [
              0.1111111111111111,
              "#46039f"
             ],
             [
              0.2222222222222222,
              "#7201a8"
             ],
             [
              0.3333333333333333,
              "#9c179e"
             ],
             [
              0.4444444444444444,
              "#bd3786"
             ],
             [
              0.5555555555555556,
              "#d8576b"
             ],
             [
              0.6666666666666666,
              "#ed7953"
             ],
             [
              0.7777777777777778,
              "#fb9f3a"
             ],
             [
              0.8888888888888888,
              "#fdca26"
             ],
             [
              1,
              "#f0f921"
             ]
            ],
            "type": "heatmap"
           }
          ],
          "heatmapgl": [
           {
            "colorbar": {
             "outlinewidth": 0,
             "ticks": ""
            },
            "colorscale": [
             [
              0,
              "#0d0887"
             ],
             [
              0.1111111111111111,
              "#46039f"
             ],
             [
              0.2222222222222222,
              "#7201a8"
             ],
             [
              0.3333333333333333,
              "#9c179e"
             ],
             [
              0.4444444444444444,
              "#bd3786"
             ],
             [
              0.5555555555555556,
              "#d8576b"
             ],
             [
              0.6666666666666666,
              "#ed7953"
             ],
             [
              0.7777777777777778,
              "#fb9f3a"
             ],
             [
              0.8888888888888888,
              "#fdca26"
             ],
             [
              1,
              "#f0f921"
             ]
            ],
            "type": "heatmapgl"
           }
          ],
          "histogram": [
           {
            "marker": {
             "pattern": {
              "fillmode": "overlay",
              "size": 10,
              "solidity": 0.2
             }
            },
            "type": "histogram"
           }
          ],
          "histogram2d": [
           {
            "colorbar": {
             "outlinewidth": 0,
             "ticks": ""
            },
            "colorscale": [
             [
              0,
              "#0d0887"
             ],
             [
              0.1111111111111111,
              "#46039f"
             ],
             [
              0.2222222222222222,
              "#7201a8"
             ],
             [
              0.3333333333333333,
              "#9c179e"
             ],
             [
              0.4444444444444444,
              "#bd3786"
             ],
             [
              0.5555555555555556,
              "#d8576b"
             ],
             [
              0.6666666666666666,
              "#ed7953"
             ],
             [
              0.7777777777777778,
              "#fb9f3a"
             ],
             [
              0.8888888888888888,
              "#fdca26"
             ],
             [
              1,
              "#f0f921"
             ]
            ],
            "type": "histogram2d"
           }
          ],
          "histogram2dcontour": [
           {
            "colorbar": {
             "outlinewidth": 0,
             "ticks": ""
            },
            "colorscale": [
             [
              0,
              "#0d0887"
             ],
             [
              0.1111111111111111,
              "#46039f"
             ],
             [
              0.2222222222222222,
              "#7201a8"
             ],
             [
              0.3333333333333333,
              "#9c179e"
             ],
             [
              0.4444444444444444,
              "#bd3786"
             ],
             [
              0.5555555555555556,
              "#d8576b"
             ],
             [
              0.6666666666666666,
              "#ed7953"
             ],
             [
              0.7777777777777778,
              "#fb9f3a"
             ],
             [
              0.8888888888888888,
              "#fdca26"
             ],
             [
              1,
              "#f0f921"
             ]
            ],
            "type": "histogram2dcontour"
           }
          ],
          "mesh3d": [
           {
            "colorbar": {
             "outlinewidth": 0,
             "ticks": ""
            },
            "type": "mesh3d"
           }
          ],
          "parcoords": [
           {
            "line": {
             "colorbar": {
              "outlinewidth": 0,
              "ticks": ""
             }
            },
            "type": "parcoords"
           }
          ],
          "pie": [
           {
            "automargin": true,
            "type": "pie"
           }
          ],
          "scatter": [
           {
            "fillpattern": {
             "fillmode": "overlay",
             "size": 10,
             "solidity": 0.2
            },
            "type": "scatter"
           }
          ],
          "scatter3d": [
           {
            "line": {
             "colorbar": {
              "outlinewidth": 0,
              "ticks": ""
             }
            },
            "marker": {
             "colorbar": {
              "outlinewidth": 0,
              "ticks": ""
             }
            },
            "type": "scatter3d"
           }
          ],
          "scattercarpet": [
           {
            "marker": {
             "colorbar": {
              "outlinewidth": 0,
              "ticks": ""
             }
            },
            "type": "scattercarpet"
           }
          ],
          "scattergeo": [
           {
            "marker": {
             "colorbar": {
              "outlinewidth": 0,
              "ticks": ""
             }
            },
            "type": "scattergeo"
           }
          ],
          "scattergl": [
           {
            "marker": {
             "colorbar": {
              "outlinewidth": 0,
              "ticks": ""
             }
            },
            "type": "scattergl"
           }
          ],
          "scattermapbox": [
           {
            "marker": {
             "colorbar": {
              "outlinewidth": 0,
              "ticks": ""
             }
            },
            "type": "scattermapbox"
           }
          ],
          "scatterpolar": [
           {
            "marker": {
             "colorbar": {
              "outlinewidth": 0,
              "ticks": ""
             }
            },
            "type": "scatterpolar"
           }
          ],
          "scatterpolargl": [
           {
            "marker": {
             "colorbar": {
              "outlinewidth": 0,
              "ticks": ""
             }
            },
            "type": "scatterpolargl"
           }
          ],
          "scatterternary": [
           {
            "marker": {
             "colorbar": {
              "outlinewidth": 0,
              "ticks": ""
             }
            },
            "type": "scatterternary"
           }
          ],
          "surface": [
           {
            "colorbar": {
             "outlinewidth": 0,
             "ticks": ""
            },
            "colorscale": [
             [
              0,
              "#0d0887"
             ],
             [
              0.1111111111111111,
              "#46039f"
             ],
             [
              0.2222222222222222,
              "#7201a8"
             ],
             [
              0.3333333333333333,
              "#9c179e"
             ],
             [
              0.4444444444444444,
              "#bd3786"
             ],
             [
              0.5555555555555556,
              "#d8576b"
             ],
             [
              0.6666666666666666,
              "#ed7953"
             ],
             [
              0.7777777777777778,
              "#fb9f3a"
             ],
             [
              0.8888888888888888,
              "#fdca26"
             ],
             [
              1,
              "#f0f921"
             ]
            ],
            "type": "surface"
           }
          ],
          "table": [
           {
            "cells": {
             "fill": {
              "color": "#EBF0F8"
             },
             "line": {
              "color": "white"
             }
            },
            "header": {
             "fill": {
              "color": "#C8D4E3"
             },
             "line": {
              "color": "white"
             }
            },
            "type": "table"
           }
          ]
         },
         "layout": {
          "annotationdefaults": {
           "arrowcolor": "#2a3f5f",
           "arrowhead": 0,
           "arrowwidth": 1
          },
          "autotypenumbers": "strict",
          "coloraxis": {
           "colorbar": {
            "outlinewidth": 0,
            "ticks": ""
           }
          },
          "colorscale": {
           "diverging": [
            [
             0,
             "#8e0152"
            ],
            [
             0.1,
             "#c51b7d"
            ],
            [
             0.2,
             "#de77ae"
            ],
            [
             0.3,
             "#f1b6da"
            ],
            [
             0.4,
             "#fde0ef"
            ],
            [
             0.5,
             "#f7f7f7"
            ],
            [
             0.6,
             "#e6f5d0"
            ],
            [
             0.7,
             "#b8e186"
            ],
            [
             0.8,
             "#7fbc41"
            ],
            [
             0.9,
             "#4d9221"
            ],
            [
             1,
             "#276419"
            ]
           ],
           "sequential": [
            [
             0,
             "#0d0887"
            ],
            [
             0.1111111111111111,
             "#46039f"
            ],
            [
             0.2222222222222222,
             "#7201a8"
            ],
            [
             0.3333333333333333,
             "#9c179e"
            ],
            [
             0.4444444444444444,
             "#bd3786"
            ],
            [
             0.5555555555555556,
             "#d8576b"
            ],
            [
             0.6666666666666666,
             "#ed7953"
            ],
            [
             0.7777777777777778,
             "#fb9f3a"
            ],
            [
             0.8888888888888888,
             "#fdca26"
            ],
            [
             1,
             "#f0f921"
            ]
           ],
           "sequentialminus": [
            [
             0,
             "#0d0887"
            ],
            [
             0.1111111111111111,
             "#46039f"
            ],
            [
             0.2222222222222222,
             "#7201a8"
            ],
            [
             0.3333333333333333,
             "#9c179e"
            ],
            [
             0.4444444444444444,
             "#bd3786"
            ],
            [
             0.5555555555555556,
             "#d8576b"
            ],
            [
             0.6666666666666666,
             "#ed7953"
            ],
            [
             0.7777777777777778,
             "#fb9f3a"
            ],
            [
             0.8888888888888888,
             "#fdca26"
            ],
            [
             1,
             "#f0f921"
            ]
           ]
          },
          "colorway": [
           "#636efa",
           "#EF553B",
           "#00cc96",
           "#ab63fa",
           "#FFA15A",
           "#19d3f3",
           "#FF6692",
           "#B6E880",
           "#FF97FF",
           "#FECB52"
          ],
          "font": {
           "color": "#2a3f5f"
          },
          "geo": {
           "bgcolor": "white",
           "lakecolor": "white",
           "landcolor": "#E5ECF6",
           "showlakes": true,
           "showland": true,
           "subunitcolor": "white"
          },
          "hoverlabel": {
           "align": "left"
          },
          "hovermode": "closest",
          "mapbox": {
           "style": "light"
          },
          "paper_bgcolor": "white",
          "plot_bgcolor": "#E5ECF6",
          "polar": {
           "angularaxis": {
            "gridcolor": "white",
            "linecolor": "white",
            "ticks": ""
           },
           "bgcolor": "#E5ECF6",
           "radialaxis": {
            "gridcolor": "white",
            "linecolor": "white",
            "ticks": ""
           }
          },
          "scene": {
           "xaxis": {
            "backgroundcolor": "#E5ECF6",
            "gridcolor": "white",
            "gridwidth": 2,
            "linecolor": "white",
            "showbackground": true,
            "ticks": "",
            "zerolinecolor": "white"
           },
           "yaxis": {
            "backgroundcolor": "#E5ECF6",
            "gridcolor": "white",
            "gridwidth": 2,
            "linecolor": "white",
            "showbackground": true,
            "ticks": "",
            "zerolinecolor": "white"
           },
           "zaxis": {
            "backgroundcolor": "#E5ECF6",
            "gridcolor": "white",
            "gridwidth": 2,
            "linecolor": "white",
            "showbackground": true,
            "ticks": "",
            "zerolinecolor": "white"
           }
          },
          "shapedefaults": {
           "line": {
            "color": "#2a3f5f"
           }
          },
          "ternary": {
           "aaxis": {
            "gridcolor": "white",
            "linecolor": "white",
            "ticks": ""
           },
           "baxis": {
            "gridcolor": "white",
            "linecolor": "white",
            "ticks": ""
           },
           "bgcolor": "#E5ECF6",
           "caxis": {
            "gridcolor": "white",
            "linecolor": "white",
            "ticks": ""
           }
          },
          "title": {
           "x": 0.05
          },
          "xaxis": {
           "automargin": true,
           "gridcolor": "white",
           "linecolor": "white",
           "ticks": "",
           "title": {
            "standoff": 15
           },
           "zerolinecolor": "white",
           "zerolinewidth": 2
          },
          "yaxis": {
           "automargin": true,
           "gridcolor": "white",
           "linecolor": "white",
           "ticks": "",
           "title": {
            "standoff": 15
           },
           "zerolinecolor": "white",
           "zerolinewidth": 2
          }
         }
        },
        "title": {
         "text": "salience-family strategies cum return"
        },
        "xaxis": {
         "anchor": "y",
         "domain": [
          0,
          1
         ],
         "title": {
          "text": "Date"
         }
        },
        "yaxis": {
         "anchor": "x",
         "domain": [
          0,
          1
         ],
         "title": {
          "text": "Cumulative Return"
         }
        }
       }
      }
     },
     "metadata": {},
     "output_type": "display_data"
    }
   ],
   "source": [
    "\n",
    "# ---------------------------\n",
    "# 6. 백테스트 결과 시각화 (Plotly Express 사용)\n",
    "# ---------------------------\n",
    "\n",
    "# 누적 포트폴리오 수익률 그래프\n",
    "\n",
    "\n",
    "strategy_families = [\n",
    "    'ts_momentum_directional',\n",
    "    'momentum_entry',\n",
    "    'ts_momentum',\n",
    "\n",
    "    'momentum',\n",
    "\n",
    "    'ratio_to_high',\n",
    "    'tk_value',\n",
    "    'potential_return',\n",
    "    'max_return',\n",
    "    'salience'\n",
    "]\n",
    "\n",
    "strategy_to_family = {}\n",
    "for family in strategy_families:\n",
    "    for strategy in performance_results.keys():\n",
    "        if family in strategy and strategy not in strategy_to_family:\n",
    "            strategy_to_family[strategy] = family\n",
    "\n",
    "family_to_strategies = {}\n",
    "for strategy, family in strategy_to_family.items():\n",
    "    if family not in family_to_strategies:\n",
    "        family_to_strategies[family] = []\n",
    "    family_to_strategies[family].append(strategy)\n",
    "\n",
    "for family, strategies in family_to_strategies.items():\n",
    "    fig = px.line(title=f'{family}-family strategies cum return')\n",
    "    for strategy in strategies:\n",
    "        perf = performance_results[strategy]\n",
    "        cumulative_return = (1 + perf['Portfolio_Return']).cumprod() - 1\n",
    "        fig.add_scatter(x=cumulative_return.index, y=cumulative_return.values, mode='lines', name=strategy)\n",
    "\n",
    "    \n",
    "    fig.update_layout(xaxis_title='Date', yaxis_title='Cumulative Return')\n",
    "    fig.show()\n",
    "\n",
    "# # 개별 전략의 월별 수익률 비교\n",
    "# for strategy, perf in performance_results.items():\n",
    "#     fig = px.line(title=f'Monthly Returns: {strategy}')\n",
    "#     fig.add_scatter(x=perf.index, y=perf['Portfolio_Return'], mode='lines', name='Portfolio Return')\n",
    "#     fig.add_scatter(x=perf.index, y=benchmark_returns.loc[perf.index], mode='lines', name='Benchmark Return', line=dict(dash='dash'))\n",
    "#     fig.update_layout(xaxis_title='Date', yaxis_title='Return')\n",
    "#     fig.show()\n"
   ]
  },
  {
   "cell_type": "code",
   "execution_count": 58,
   "id": "29e2ac75",
   "metadata": {},
   "outputs": [
    {
     "data": {
      "text/plain": [
       "dict_keys(['momentum_10pct_equal_weighted', 'momentum_10pct_value_weighted', 'momentum_20pct_equal_weighted', 'momentum_20pct_value_weighted', 'momentum_30pct_equal_weighted', 'momentum_30pct_value_weighted', 'ts_momentum_10pct_equal_weighted', 'ts_momentum_10pct_value_weighted', 'ts_momentum_20pct_equal_weighted', 'ts_momentum_20pct_value_weighted', 'ts_momentum_30pct_equal_weighted', 'ts_momentum_30pct_value_weighted', 'ratio_to_high_10pct_equal_weighted', 'ratio_to_high_10pct_value_weighted', 'ratio_to_high_20pct_equal_weighted', 'ratio_to_high_20pct_value_weighted', 'ratio_to_high_30pct_equal_weighted', 'ratio_to_high_30pct_value_weighted', 'tk_value_10pct_equal_weighted', 'tk_value_10pct_value_weighted', 'tk_value_20pct_equal_weighted', 'tk_value_20pct_value_weighted', 'tk_value_30pct_equal_weighted', 'tk_value_30pct_value_weighted', 'potential_return_10pct_equal_weighted', 'potential_return_10pct_value_weighted', 'potential_return_20pct_equal_weighted', 'potential_return_20pct_value_weighted', 'potential_return_30pct_equal_weighted', 'potential_return_30pct_value_weighted', 'max_return_10pct_equal_weighted', 'max_return_10pct_value_weighted', 'max_return_20pct_equal_weighted', 'max_return_20pct_value_weighted', 'max_return_30pct_equal_weighted', 'max_return_30pct_value_weighted', 'salience_10pct_equal_weighted', 'salience_10pct_value_weighted', 'salience_20pct_equal_weighted', 'salience_20pct_value_weighted', 'salience_30pct_equal_weighted', 'salience_30pct_value_weighted', 'momentum_entry10pct_retain20pct_equal_weighted', 'momentum_entry10pct_retain20pct_value_weighted', 'momentum_entry10pct_no_retain_equal_weighted', 'momentum_entry10pct_no_retain_value_weighted', 'ts_momentum_directional_10pct_equal_weighted', 'ts_momentum_directional_10pct_value_weighted', 'ts_momentum_directional_20pct_equal_weighted', 'ts_momentum_directional_20pct_value_weighted'])"
      ]
     },
     "execution_count": 58,
     "metadata": {},
     "output_type": "execute_result"
    }
   ],
   "source": [
    "performance_results.keys()"
   ]
  },
  {
   "cell_type": "code",
   "execution_count": 59,
   "id": "431e6e18",
   "metadata": {},
   "outputs": [
    {
     "data": {
      "text/html": [
       "<div>\n",
       "<style scoped>\n",
       "    .dataframe tbody tr th:only-of-type {\n",
       "        vertical-align: middle;\n",
       "    }\n",
       "\n",
       "    .dataframe tbody tr th {\n",
       "        vertical-align: top;\n",
       "    }\n",
       "\n",
       "    .dataframe thead th {\n",
       "        text-align: right;\n",
       "    }\n",
       "</style>\n",
       "<table border=\"1\" class=\"dataframe\">\n",
       "  <thead>\n",
       "    <tr style=\"text-align: right;\">\n",
       "      <th></th>\n",
       "      <th>Portfolio_Return</th>\n",
       "      <th>Excess_Return</th>\n",
       "    </tr>\n",
       "    <tr>\n",
       "      <th>timestamp</th>\n",
       "      <th></th>\n",
       "      <th></th>\n",
       "    </tr>\n",
       "  </thead>\n",
       "  <tbody>\n",
       "    <tr>\n",
       "      <th>2022-11-30</th>\n",
       "      <td>0.000000</td>\n",
       "      <td>0.141824</td>\n",
       "    </tr>\n",
       "    <tr>\n",
       "      <th>2022-12-31</th>\n",
       "      <td>0.022166</td>\n",
       "      <td>0.243810</td>\n",
       "    </tr>\n",
       "    <tr>\n",
       "      <th>2023-01-31</th>\n",
       "      <td>-0.197430</td>\n",
       "      <td>-0.852927</td>\n",
       "    </tr>\n",
       "    <tr>\n",
       "      <th>2023-02-28</th>\n",
       "      <td>0.036993</td>\n",
       "      <td>0.050460</td>\n",
       "    </tr>\n",
       "    <tr>\n",
       "      <th>2023-03-31</th>\n",
       "      <td>0.028720</td>\n",
       "      <td>0.028737</td>\n",
       "    </tr>\n",
       "    <tr>\n",
       "      <th>2023-04-30</th>\n",
       "      <td>0.016217</td>\n",
       "      <td>0.062319</td>\n",
       "    </tr>\n",
       "    <tr>\n",
       "      <th>2023-05-31</th>\n",
       "      <td>0.017902</td>\n",
       "      <td>0.104898</td>\n",
       "    </tr>\n",
       "    <tr>\n",
       "      <th>2023-06-30</th>\n",
       "      <td>0.015740</td>\n",
       "      <td>0.060369</td>\n",
       "    </tr>\n",
       "    <tr>\n",
       "      <th>2023-07-31</th>\n",
       "      <td>-0.005141</td>\n",
       "      <td>-0.012828</td>\n",
       "    </tr>\n",
       "    <tr>\n",
       "      <th>2023-08-31</th>\n",
       "      <td>-0.006924</td>\n",
       "      <td>0.112106</td>\n",
       "    </tr>\n",
       "    <tr>\n",
       "      <th>2023-09-30</th>\n",
       "      <td>0.005364</td>\n",
       "      <td>-0.114137</td>\n",
       "    </tr>\n",
       "    <tr>\n",
       "      <th>2023-10-31</th>\n",
       "      <td>-0.008663</td>\n",
       "      <td>-0.188603</td>\n",
       "    </tr>\n",
       "    <tr>\n",
       "      <th>2023-11-30</th>\n",
       "      <td>-0.056214</td>\n",
       "      <td>-0.297280</td>\n",
       "    </tr>\n",
       "    <tr>\n",
       "      <th>2023-12-31</th>\n",
       "      <td>0.044207</td>\n",
       "      <td>-0.220395</td>\n",
       "    </tr>\n",
       "    <tr>\n",
       "      <th>2024-01-31</th>\n",
       "      <td>-0.021011</td>\n",
       "      <td>0.126186</td>\n",
       "    </tr>\n",
       "    <tr>\n",
       "      <th>2024-02-29</th>\n",
       "      <td>-0.067170</td>\n",
       "      <td>-0.427803</td>\n",
       "    </tr>\n",
       "    <tr>\n",
       "      <th>2024-03-31</th>\n",
       "      <td>-0.016995</td>\n",
       "      <td>-0.343779</td>\n",
       "    </tr>\n",
       "    <tr>\n",
       "      <th>2024-04-30</th>\n",
       "      <td>-0.003342</td>\n",
       "      <td>0.338437</td>\n",
       "    </tr>\n",
       "    <tr>\n",
       "      <th>2024-05-31</th>\n",
       "      <td>0.073564</td>\n",
       "      <td>-0.086521</td>\n",
       "    </tr>\n",
       "    <tr>\n",
       "      <th>2024-06-30</th>\n",
       "      <td>0.016308</td>\n",
       "      <td>0.214269</td>\n",
       "    </tr>\n",
       "    <tr>\n",
       "      <th>2024-07-31</th>\n",
       "      <td>0.018321</td>\n",
       "      <td>0.089042</td>\n",
       "    </tr>\n",
       "    <tr>\n",
       "      <th>2024-08-31</th>\n",
       "      <td>-0.009716</td>\n",
       "      <td>0.120495</td>\n",
       "    </tr>\n",
       "    <tr>\n",
       "      <th>2024-09-30</th>\n",
       "      <td>0.023503</td>\n",
       "      <td>-0.112192</td>\n",
       "    </tr>\n",
       "    <tr>\n",
       "      <th>2024-10-31</th>\n",
       "      <td>0.018603</td>\n",
       "      <td>0.025075</td>\n",
       "    </tr>\n",
       "  </tbody>\n",
       "</table>\n",
       "</div>"
      ],
      "text/plain": [
       "            Portfolio_Return  Excess_Return\n",
       "timestamp                                  \n",
       "2022-11-30          0.000000       0.141824\n",
       "2022-12-31          0.022166       0.243810\n",
       "2023-01-31         -0.197430      -0.852927\n",
       "2023-02-28          0.036993       0.050460\n",
       "2023-03-31          0.028720       0.028737\n",
       "2023-04-30          0.016217       0.062319\n",
       "2023-05-31          0.017902       0.104898\n",
       "2023-06-30          0.015740       0.060369\n",
       "2023-07-31         -0.005141      -0.012828\n",
       "2023-08-31         -0.006924       0.112106\n",
       "2023-09-30          0.005364      -0.114137\n",
       "2023-10-31         -0.008663      -0.188603\n",
       "2023-11-30         -0.056214      -0.297280\n",
       "2023-12-31          0.044207      -0.220395\n",
       "2024-01-31         -0.021011       0.126186\n",
       "2024-02-29         -0.067170      -0.427803\n",
       "2024-03-31         -0.016995      -0.343779\n",
       "2024-04-30         -0.003342       0.338437\n",
       "2024-05-31          0.073564      -0.086521\n",
       "2024-06-30          0.016308       0.214269\n",
       "2024-07-31          0.018321       0.089042\n",
       "2024-08-31         -0.009716       0.120495\n",
       "2024-09-30          0.023503      -0.112192\n",
       "2024-10-31          0.018603       0.025075"
      ]
     },
     "execution_count": 59,
     "metadata": {},
     "output_type": "execute_result"
    }
   ],
   "source": [
    "performance_results['momentum_10pct_equal_weighted']"
   ]
  },
  {
   "cell_type": "code",
   "execution_count": 60,
   "id": "98f01509",
   "metadata": {},
   "outputs": [],
   "source": [
    "\n",
    "# ---------------------------\n",
    "# 7. 성과 지표 추가 (누적 수익률, MDD, Sharpe Ratio)\n",
    "# ---------------------------\n",
    "\n",
    "# summary = pd.DataFrame(columns=['Strategy', 'Total Return', 'MDD', 'Sharpe Ratio'])\n",
    "summary = pd.DataFrame(columns=['Strategy', 'Total Return', 'MDD',])\n",
    "\n",
    "for strategy, perf in performance_results.items():\n",
    "    # 누적 수익률 계산\n",
    "    perf['Cumulative_Return'] = (1 + perf['Portfolio_Return']).cumprod() - 1\n",
    "    \n",
    "    # 최대 낙폭(MDD) 계산\n",
    "    running_max = (1 + perf['Cumulative_Return']).cummax()\n",
    "    drawdown = (1 + perf['Cumulative_Return']) / running_max - 1\n",
    "    mdd = drawdown.min()\n",
    "    \n",
    "    # 샤프 비율 계산 (월 단위) \n",
    "    # (재필) --> 전기간 샤프를 계산하고 있음. 앞 부분 return 0인 경우도 있던데 그런 부분 고려해줘야 할듯.\n",
    "    # 그리고 sharpe를 쓰기엔... risk free란게 크립토에 없어서 좀 애매한거 같음. 그냥 return-to-vol ratio로 쓰는게 나을듯.\n",
    "    # 소르티노 비율로 생각하면 target return이 0인 것임. \n",
    "\n",
    "    # sharpe_ratio = (perf['Excess_Return'].mean() / perf['Excess_Return'].std()) * np.sqrt(12) if perf['Excess_Return'].std() != 0 else np.nan\n",
    "    perf['rolling_rtv'] = perf['Portfolio_Return'].rolling(12).mean() / perf['Portfolio_Return'].rolling(12).std()\n",
    "    \n",
    "    # 성과 요약 추가\n",
    "    summary = pd.concat([summary, pd.DataFrame([{\n",
    "        'Strategy': strategy,\n",
    "        'Total Return': perf['Cumulative_Return'].iloc[-1],\n",
    "        'MDD': mdd,\n",
    "        # 'Sharpe Ratio': perf['rolling_rtv'].iloc[-1]\n",
    "        '1y_return-to-vol': perf['rolling_rtv'].iloc[-1] # 지난 1년간의 샤프만 계산\n",
    "        # 'mean_return-to-vol': perf['rolling_rtv'].mean() # 또는 기간 동안의 평균 샤프 계산\n",
    "    }])], ignore_index=True)\n"
   ]
  },
  {
   "cell_type": "code",
   "execution_count": 61,
   "id": "0979480d",
   "metadata": {},
   "outputs": [
    {
     "name": "stdout",
     "output_type": "stream",
     "text": [
      "Performance Summary:\n"
     ]
    },
    {
     "data": {
      "text/html": [
       "<div>\n",
       "<style scoped>\n",
       "    .dataframe tbody tr th:only-of-type {\n",
       "        vertical-align: middle;\n",
       "    }\n",
       "\n",
       "    .dataframe tbody tr th {\n",
       "        vertical-align: top;\n",
       "    }\n",
       "\n",
       "    .dataframe thead th {\n",
       "        text-align: right;\n",
       "    }\n",
       "</style>\n",
       "<table border=\"1\" class=\"dataframe\">\n",
       "  <thead>\n",
       "    <tr style=\"text-align: right;\">\n",
       "      <th></th>\n",
       "      <th>Strategy</th>\n",
       "      <th>Total Return</th>\n",
       "      <th>MDD</th>\n",
       "      <th>1y_return-to-vol</th>\n",
       "    </tr>\n",
       "  </thead>\n",
       "  <tbody>\n",
       "    <tr>\n",
       "      <th>24</th>\n",
       "      <td>potential_return_10pct_equal_weighted</td>\n",
       "      <td>0.408754</td>\n",
       "      <td>-0.056799</td>\n",
       "      <td>0.599789</td>\n",
       "    </tr>\n",
       "    <tr>\n",
       "      <th>13</th>\n",
       "      <td>ratio_to_high_10pct_value_weighted</td>\n",
       "      <td>0.042722</td>\n",
       "      <td>-0.200320</td>\n",
       "      <td>0.525920</td>\n",
       "    </tr>\n",
       "    <tr>\n",
       "      <th>25</th>\n",
       "      <td>potential_return_10pct_value_weighted</td>\n",
       "      <td>0.347736</td>\n",
       "      <td>-0.056263</td>\n",
       "      <td>0.461102</td>\n",
       "    </tr>\n",
       "    <tr>\n",
       "      <th>12</th>\n",
       "      <td>ratio_to_high_10pct_equal_weighted</td>\n",
       "      <td>0.000760</td>\n",
       "      <td>-0.211988</td>\n",
       "      <td>0.368386</td>\n",
       "    </tr>\n",
       "    <tr>\n",
       "      <th>8</th>\n",
       "      <td>ts_momentum_20pct_equal_weighted</td>\n",
       "      <td>-0.131517</td>\n",
       "      <td>-0.221176</td>\n",
       "      <td>0.253039</td>\n",
       "    </tr>\n",
       "    <tr>\n",
       "      <th>9</th>\n",
       "      <td>ts_momentum_20pct_value_weighted</td>\n",
       "      <td>-0.132914</td>\n",
       "      <td>-0.225244</td>\n",
       "      <td>0.251338</td>\n",
       "    </tr>\n",
       "    <tr>\n",
       "      <th>6</th>\n",
       "      <td>ts_momentum_10pct_equal_weighted</td>\n",
       "      <td>-0.063943</td>\n",
       "      <td>-0.201490</td>\n",
       "      <td>0.188735</td>\n",
       "    </tr>\n",
       "    <tr>\n",
       "      <th>7</th>\n",
       "      <td>ts_momentum_10pct_value_weighted</td>\n",
       "      <td>-0.070112</td>\n",
       "      <td>-0.224000</td>\n",
       "      <td>0.185200</td>\n",
       "    </tr>\n",
       "    <tr>\n",
       "      <th>42</th>\n",
       "      <td>momentum_entry10pct_retain20pct_equal_weighted</td>\n",
       "      <td>-0.060993</td>\n",
       "      <td>-0.218179</td>\n",
       "      <td>0.167963</td>\n",
       "    </tr>\n",
       "    <tr>\n",
       "      <th>26</th>\n",
       "      <td>potential_return_20pct_equal_weighted</td>\n",
       "      <td>0.214079</td>\n",
       "      <td>-0.040658</td>\n",
       "      <td>0.157935</td>\n",
       "    </tr>\n",
       "    <tr>\n",
       "      <th>11</th>\n",
       "      <td>ts_momentum_30pct_value_weighted</td>\n",
       "      <td>-0.105859</td>\n",
       "      <td>-0.195335</td>\n",
       "      <td>0.152009</td>\n",
       "    </tr>\n",
       "    <tr>\n",
       "      <th>43</th>\n",
       "      <td>momentum_entry10pct_retain20pct_value_weighted</td>\n",
       "      <td>-0.061861</td>\n",
       "      <td>-0.225038</td>\n",
       "      <td>0.144860</td>\n",
       "    </tr>\n",
       "    <tr>\n",
       "      <th>28</th>\n",
       "      <td>potential_return_30pct_equal_weighted</td>\n",
       "      <td>0.132538</td>\n",
       "      <td>-0.037042</td>\n",
       "      <td>0.142998</td>\n",
       "    </tr>\n",
       "    <tr>\n",
       "      <th>1</th>\n",
       "      <td>momentum_10pct_value_weighted</td>\n",
       "      <td>-0.002357</td>\n",
       "      <td>-0.195296</td>\n",
       "      <td>0.121083</td>\n",
       "    </tr>\n",
       "    <tr>\n",
       "      <th>45</th>\n",
       "      <td>momentum_entry10pct_no_retain_value_weighted</td>\n",
       "      <td>-0.002357</td>\n",
       "      <td>-0.195296</td>\n",
       "      <td>0.121083</td>\n",
       "    </tr>\n",
       "    <tr>\n",
       "      <th>27</th>\n",
       "      <td>potential_return_20pct_value_weighted</td>\n",
       "      <td>0.201681</td>\n",
       "      <td>-0.049409</td>\n",
       "      <td>0.111298</td>\n",
       "    </tr>\n",
       "    <tr>\n",
       "      <th>2</th>\n",
       "      <td>momentum_20pct_equal_weighted</td>\n",
       "      <td>-0.098893</td>\n",
       "      <td>-0.188721</td>\n",
       "      <td>0.106025</td>\n",
       "    </tr>\n",
       "    <tr>\n",
       "      <th>29</th>\n",
       "      <td>potential_return_30pct_value_weighted</td>\n",
       "      <td>0.129043</td>\n",
       "      <td>-0.039846</td>\n",
       "      <td>0.104837</td>\n",
       "    </tr>\n",
       "    <tr>\n",
       "      <th>10</th>\n",
       "      <td>ts_momentum_30pct_equal_weighted</td>\n",
       "      <td>-0.073915</td>\n",
       "      <td>-0.163820</td>\n",
       "      <td>0.103808</td>\n",
       "    </tr>\n",
       "    <tr>\n",
       "      <th>14</th>\n",
       "      <td>ratio_to_high_20pct_equal_weighted</td>\n",
       "      <td>0.058229</td>\n",
       "      <td>-0.165496</td>\n",
       "      <td>0.098512</td>\n",
       "    </tr>\n",
       "    <tr>\n",
       "      <th>15</th>\n",
       "      <td>ratio_to_high_20pct_value_weighted</td>\n",
       "      <td>0.062421</td>\n",
       "      <td>-0.156902</td>\n",
       "      <td>0.096194</td>\n",
       "    </tr>\n",
       "    <tr>\n",
       "      <th>34</th>\n",
       "      <td>max_return_30pct_equal_weighted</td>\n",
       "      <td>0.143867</td>\n",
       "      <td>-0.043570</td>\n",
       "      <td>0.090892</td>\n",
       "    </tr>\n",
       "    <tr>\n",
       "      <th>22</th>\n",
       "      <td>tk_value_30pct_equal_weighted</td>\n",
       "      <td>-0.111468</td>\n",
       "      <td>-0.174959</td>\n",
       "      <td>0.086923</td>\n",
       "    </tr>\n",
       "    <tr>\n",
       "      <th>47</th>\n",
       "      <td>ts_momentum_directional_10pct_value_weighted</td>\n",
       "      <td>-0.122311</td>\n",
       "      <td>-0.210917</td>\n",
       "      <td>0.074248</td>\n",
       "    </tr>\n",
       "    <tr>\n",
       "      <th>49</th>\n",
       "      <td>ts_momentum_directional_20pct_value_weighted</td>\n",
       "      <td>-0.122311</td>\n",
       "      <td>-0.210917</td>\n",
       "      <td>0.074248</td>\n",
       "    </tr>\n",
       "    <tr>\n",
       "      <th>23</th>\n",
       "      <td>tk_value_30pct_value_weighted</td>\n",
       "      <td>-0.103610</td>\n",
       "      <td>-0.168387</td>\n",
       "      <td>0.057025</td>\n",
       "    </tr>\n",
       "    <tr>\n",
       "      <th>41</th>\n",
       "      <td>salience_30pct_value_weighted</td>\n",
       "      <td>0.129329</td>\n",
       "      <td>-0.079635</td>\n",
       "      <td>0.055233</td>\n",
       "    </tr>\n",
       "    <tr>\n",
       "      <th>3</th>\n",
       "      <td>momentum_20pct_value_weighted</td>\n",
       "      <td>-0.139244</td>\n",
       "      <td>-0.231914</td>\n",
       "      <td>0.048256</td>\n",
       "    </tr>\n",
       "    <tr>\n",
       "      <th>40</th>\n",
       "      <td>salience_30pct_equal_weighted</td>\n",
       "      <td>0.081681</td>\n",
       "      <td>-0.085898</td>\n",
       "      <td>0.042622</td>\n",
       "    </tr>\n",
       "    <tr>\n",
       "      <th>44</th>\n",
       "      <td>momentum_entry10pct_no_retain_equal_weighted</td>\n",
       "      <td>-0.084253</td>\n",
       "      <td>-0.218981</td>\n",
       "      <td>0.042101</td>\n",
       "    </tr>\n",
       "    <tr>\n",
       "      <th>0</th>\n",
       "      <td>momentum_10pct_equal_weighted</td>\n",
       "      <td>-0.084253</td>\n",
       "      <td>-0.218981</td>\n",
       "      <td>0.042101</td>\n",
       "    </tr>\n",
       "    <tr>\n",
       "      <th>46</th>\n",
       "      <td>ts_momentum_directional_10pct_equal_weighted</td>\n",
       "      <td>-0.110478</td>\n",
       "      <td>-0.186463</td>\n",
       "      <td>0.028086</td>\n",
       "    </tr>\n",
       "    <tr>\n",
       "      <th>48</th>\n",
       "      <td>ts_momentum_directional_20pct_equal_weighted</td>\n",
       "      <td>-0.110478</td>\n",
       "      <td>-0.186463</td>\n",
       "      <td>0.028086</td>\n",
       "    </tr>\n",
       "    <tr>\n",
       "      <th>4</th>\n",
       "      <td>momentum_30pct_equal_weighted</td>\n",
       "      <td>-0.161533</td>\n",
       "      <td>-0.242316</td>\n",
       "      <td>0.019177</td>\n",
       "    </tr>\n",
       "    <tr>\n",
       "      <th>30</th>\n",
       "      <td>max_return_10pct_equal_weighted</td>\n",
       "      <td>0.191900</td>\n",
       "      <td>-0.083425</td>\n",
       "      <td>0.014125</td>\n",
       "    </tr>\n",
       "    <tr>\n",
       "      <th>35</th>\n",
       "      <td>max_return_30pct_value_weighted</td>\n",
       "      <td>0.211871</td>\n",
       "      <td>-0.058092</td>\n",
       "      <td>0.006802</td>\n",
       "    </tr>\n",
       "    <tr>\n",
       "      <th>5</th>\n",
       "      <td>momentum_30pct_value_weighted</td>\n",
       "      <td>-0.230560</td>\n",
       "      <td>-0.332980</td>\n",
       "      <td>0.004713</td>\n",
       "    </tr>\n",
       "    <tr>\n",
       "      <th>16</th>\n",
       "      <td>ratio_to_high_30pct_equal_weighted</td>\n",
       "      <td>0.005712</td>\n",
       "      <td>-0.141157</td>\n",
       "      <td>-0.010130</td>\n",
       "    </tr>\n",
       "    <tr>\n",
       "      <th>18</th>\n",
       "      <td>tk_value_10pct_equal_weighted</td>\n",
       "      <td>-0.249067</td>\n",
       "      <td>-0.321961</td>\n",
       "      <td>-0.023550</td>\n",
       "    </tr>\n",
       "    <tr>\n",
       "      <th>32</th>\n",
       "      <td>max_return_20pct_equal_weighted</td>\n",
       "      <td>0.143212</td>\n",
       "      <td>-0.077696</td>\n",
       "      <td>-0.029525</td>\n",
       "    </tr>\n",
       "    <tr>\n",
       "      <th>17</th>\n",
       "      <td>ratio_to_high_30pct_value_weighted</td>\n",
       "      <td>-0.001278</td>\n",
       "      <td>-0.138139</td>\n",
       "      <td>-0.031220</td>\n",
       "    </tr>\n",
       "    <tr>\n",
       "      <th>31</th>\n",
       "      <td>max_return_10pct_value_weighted</td>\n",
       "      <td>0.212565</td>\n",
       "      <td>-0.083027</td>\n",
       "      <td>-0.073933</td>\n",
       "    </tr>\n",
       "    <tr>\n",
       "      <th>33</th>\n",
       "      <td>max_return_20pct_value_weighted</td>\n",
       "      <td>0.204377</td>\n",
       "      <td>-0.089288</td>\n",
       "      <td>-0.094812</td>\n",
       "    </tr>\n",
       "    <tr>\n",
       "      <th>20</th>\n",
       "      <td>tk_value_20pct_equal_weighted</td>\n",
       "      <td>-0.137477</td>\n",
       "      <td>-0.204433</td>\n",
       "      <td>-0.094989</td>\n",
       "    </tr>\n",
       "    <tr>\n",
       "      <th>36</th>\n",
       "      <td>salience_10pct_equal_weighted</td>\n",
       "      <td>0.211694</td>\n",
       "      <td>-0.132831</td>\n",
       "      <td>-0.098391</td>\n",
       "    </tr>\n",
       "    <tr>\n",
       "      <th>38</th>\n",
       "      <td>salience_20pct_equal_weighted</td>\n",
       "      <td>0.068041</td>\n",
       "      <td>-0.125990</td>\n",
       "      <td>-0.139373</td>\n",
       "    </tr>\n",
       "    <tr>\n",
       "      <th>21</th>\n",
       "      <td>tk_value_20pct_value_weighted</td>\n",
       "      <td>-0.155000</td>\n",
       "      <td>-0.224503</td>\n",
       "      <td>-0.142748</td>\n",
       "    </tr>\n",
       "    <tr>\n",
       "      <th>19</th>\n",
       "      <td>tk_value_10pct_value_weighted</td>\n",
       "      <td>-0.296025</td>\n",
       "      <td>-0.365709</td>\n",
       "      <td>-0.155985</td>\n",
       "    </tr>\n",
       "    <tr>\n",
       "      <th>39</th>\n",
       "      <td>salience_20pct_value_weighted</td>\n",
       "      <td>0.092569</td>\n",
       "      <td>-0.128639</td>\n",
       "      <td>-0.234871</td>\n",
       "    </tr>\n",
       "    <tr>\n",
       "      <th>37</th>\n",
       "      <td>salience_10pct_value_weighted</td>\n",
       "      <td>0.139818</td>\n",
       "      <td>-0.128304</td>\n",
       "      <td>-0.245085</td>\n",
       "    </tr>\n",
       "  </tbody>\n",
       "</table>\n",
       "</div>"
      ],
      "text/plain": [
       "                                          Strategy  Total Return       MDD  \\\n",
       "24           potential_return_10pct_equal_weighted      0.408754 -0.056799   \n",
       "13              ratio_to_high_10pct_value_weighted      0.042722 -0.200320   \n",
       "25           potential_return_10pct_value_weighted      0.347736 -0.056263   \n",
       "12              ratio_to_high_10pct_equal_weighted      0.000760 -0.211988   \n",
       "8                 ts_momentum_20pct_equal_weighted     -0.131517 -0.221176   \n",
       "9                 ts_momentum_20pct_value_weighted     -0.132914 -0.225244   \n",
       "6                 ts_momentum_10pct_equal_weighted     -0.063943 -0.201490   \n",
       "7                 ts_momentum_10pct_value_weighted     -0.070112 -0.224000   \n",
       "42  momentum_entry10pct_retain20pct_equal_weighted     -0.060993 -0.218179   \n",
       "26           potential_return_20pct_equal_weighted      0.214079 -0.040658   \n",
       "11                ts_momentum_30pct_value_weighted     -0.105859 -0.195335   \n",
       "43  momentum_entry10pct_retain20pct_value_weighted     -0.061861 -0.225038   \n",
       "28           potential_return_30pct_equal_weighted      0.132538 -0.037042   \n",
       "1                    momentum_10pct_value_weighted     -0.002357 -0.195296   \n",
       "45    momentum_entry10pct_no_retain_value_weighted     -0.002357 -0.195296   \n",
       "27           potential_return_20pct_value_weighted      0.201681 -0.049409   \n",
       "2                    momentum_20pct_equal_weighted     -0.098893 -0.188721   \n",
       "29           potential_return_30pct_value_weighted      0.129043 -0.039846   \n",
       "10                ts_momentum_30pct_equal_weighted     -0.073915 -0.163820   \n",
       "14              ratio_to_high_20pct_equal_weighted      0.058229 -0.165496   \n",
       "15              ratio_to_high_20pct_value_weighted      0.062421 -0.156902   \n",
       "34                 max_return_30pct_equal_weighted      0.143867 -0.043570   \n",
       "22                   tk_value_30pct_equal_weighted     -0.111468 -0.174959   \n",
       "47    ts_momentum_directional_10pct_value_weighted     -0.122311 -0.210917   \n",
       "49    ts_momentum_directional_20pct_value_weighted     -0.122311 -0.210917   \n",
       "23                   tk_value_30pct_value_weighted     -0.103610 -0.168387   \n",
       "41                   salience_30pct_value_weighted      0.129329 -0.079635   \n",
       "3                    momentum_20pct_value_weighted     -0.139244 -0.231914   \n",
       "40                   salience_30pct_equal_weighted      0.081681 -0.085898   \n",
       "44    momentum_entry10pct_no_retain_equal_weighted     -0.084253 -0.218981   \n",
       "0                    momentum_10pct_equal_weighted     -0.084253 -0.218981   \n",
       "46    ts_momentum_directional_10pct_equal_weighted     -0.110478 -0.186463   \n",
       "48    ts_momentum_directional_20pct_equal_weighted     -0.110478 -0.186463   \n",
       "4                    momentum_30pct_equal_weighted     -0.161533 -0.242316   \n",
       "30                 max_return_10pct_equal_weighted      0.191900 -0.083425   \n",
       "35                 max_return_30pct_value_weighted      0.211871 -0.058092   \n",
       "5                    momentum_30pct_value_weighted     -0.230560 -0.332980   \n",
       "16              ratio_to_high_30pct_equal_weighted      0.005712 -0.141157   \n",
       "18                   tk_value_10pct_equal_weighted     -0.249067 -0.321961   \n",
       "32                 max_return_20pct_equal_weighted      0.143212 -0.077696   \n",
       "17              ratio_to_high_30pct_value_weighted     -0.001278 -0.138139   \n",
       "31                 max_return_10pct_value_weighted      0.212565 -0.083027   \n",
       "33                 max_return_20pct_value_weighted      0.204377 -0.089288   \n",
       "20                   tk_value_20pct_equal_weighted     -0.137477 -0.204433   \n",
       "36                   salience_10pct_equal_weighted      0.211694 -0.132831   \n",
       "38                   salience_20pct_equal_weighted      0.068041 -0.125990   \n",
       "21                   tk_value_20pct_value_weighted     -0.155000 -0.224503   \n",
       "19                   tk_value_10pct_value_weighted     -0.296025 -0.365709   \n",
       "39                   salience_20pct_value_weighted      0.092569 -0.128639   \n",
       "37                   salience_10pct_value_weighted      0.139818 -0.128304   \n",
       "\n",
       "    1y_return-to-vol  \n",
       "24          0.599789  \n",
       "13          0.525920  \n",
       "25          0.461102  \n",
       "12          0.368386  \n",
       "8           0.253039  \n",
       "9           0.251338  \n",
       "6           0.188735  \n",
       "7           0.185200  \n",
       "42          0.167963  \n",
       "26          0.157935  \n",
       "11          0.152009  \n",
       "43          0.144860  \n",
       "28          0.142998  \n",
       "1           0.121083  \n",
       "45          0.121083  \n",
       "27          0.111298  \n",
       "2           0.106025  \n",
       "29          0.104837  \n",
       "10          0.103808  \n",
       "14          0.098512  \n",
       "15          0.096194  \n",
       "34          0.090892  \n",
       "22          0.086923  \n",
       "47          0.074248  \n",
       "49          0.074248  \n",
       "23          0.057025  \n",
       "41          0.055233  \n",
       "3           0.048256  \n",
       "40          0.042622  \n",
       "44          0.042101  \n",
       "0           0.042101  \n",
       "46          0.028086  \n",
       "48          0.028086  \n",
       "4           0.019177  \n",
       "30          0.014125  \n",
       "35          0.006802  \n",
       "5           0.004713  \n",
       "16         -0.010130  \n",
       "18         -0.023550  \n",
       "32         -0.029525  \n",
       "17         -0.031220  \n",
       "31         -0.073933  \n",
       "33         -0.094812  \n",
       "20         -0.094989  \n",
       "36         -0.098391  \n",
       "38         -0.139373  \n",
       "21         -0.142748  \n",
       "19         -0.155985  \n",
       "39         -0.234871  \n",
       "37         -0.245085  "
      ]
     },
     "metadata": {},
     "output_type": "display_data"
    }
   ],
   "source": [
    "\n",
    "# ---------------------------\n",
    "# 8. 최종 성과 요약 출력\n",
    "# ---------------------------\n",
    "\n",
    "print(\"Performance Summary:\")\n",
    "\n",
    "# (재필) 1y-rtv로 정렬\n",
    "summary = summary.sort_values(by='1y_return-to-vol', ascending=False)\n",
    "\n",
    "display(summary)\n",
    "\n",
    "# ---------------------------\n",
    "# 9. 추가적인 디버깅: 각 전략과 날짜별 롱/숏 종목 수와 수익률 출력 및 CSV 파일 저장\n",
    "# ---------------------------\n",
    "\n",
    "# 결과를 저장할 디렉토리 설정\n",
    "output_dir = 'backtest_results'\n",
    "os.makedirs(output_dir, exist_ok=True)\n",
    "\n",
    "# 모든 전략의 로그를 순회하여 CSV 파일로 저장\n",
    "# for strategy, log_df in strategy_logs.items():\n",
    "#     # 파일명 생성: 전략명과 세부 설정을 포함\n",
    "#     filename = f\"{strategy}.csv\"\n",
    "#     filepath = os.path.join(output_dir, filename)\n",
    "    \n",
    "#     # CSV 파일로 저장\n",
    "#     log_df.to_csv(filepath, index=False)\n",
    "    \n",
    "#     print(f\"Saved {filepath}\")"
   ]
  },
  {
   "cell_type": "markdown",
   "id": "729ae78b-8f47-4091-9022-e098871cf151",
   "metadata": {},
   "source": [
    "## 위의 백테스팅 결과 해석"
   ]
  },
  {
   "cell_type": "markdown",
   "id": "23ed3799-27e6-49f3-abdc-a1e901e577f8",
   "metadata": {},
   "source": [
    "1. 왜인진 모르겠다만 potential_return(=Capital gain overhang)과 max_return(=maxing out) 팩터가 개좋다.\n",
    "2. 너 얘전에 했을때는 모멘텀이 사기라며? 에 대한 해명 : 그때랑 데이터 수집방식 다름+모멘텀 선경편향있었음+그때보다 위 두개 팩터 더 정교하게 짬(그때는 대충 턴오버+감쇄 논리로 capital gain overhang짰는데 이번에는 좀 날카롭게 짜여짐)\n",
    "3. 그럼 합성을 어떻게 할 껀가요? GSCORE 팩터의 논리를 따와서 zscore(capital gain overhang)+zscore(maxing out)시켜서 하겠습니다.\n",
    "4. 그리고 내가 지금 눈깔 맛탱이가기 1분전이라 수익률 로그파일 만들어놨으니 이걸로 샤프 MDD 전부 뽑아줘 엑셀로 자동저장될꺼임\n",
    "5. 종목 적다고 10%가 아니라 더 늘리려고 수작부리니깐 귀신같이 수익률 \"정상화\"당함"
   ]
  },
  {
   "cell_type": "markdown",
   "id": "cee0740a-27a9-449c-8799-229f75ef30e9",
   "metadata": {},
   "source": [
    "# 팩터보다 좋은건 더 많은 팩터"
   ]
  },
  {
   "cell_type": "markdown",
   "id": "e4953ab7-4dd4-4b16-b42c-186b760ff053",
   "metadata": {},
   "source": [
    "자~ 어린이 여러분, 저희는 위 백테스트 결과에서 두 개의 좋은 팩터세팅이 있다는걸 찾았어요우\n",
    "\n",
    "maxing out 10pct EW가 하나고, 다른 하나는 capital gain overhang 10pct EW에요우.\n",
    "\n",
    "그렇다면 이 두개를 합성한다면? rEwArD로 aWeSoMe한 전?략이 탄?생 할거 같아요우"
   ]
  },
  {
   "cell_type": "code",
   "execution_count": 62,
   "id": "69ca8add-7f05-48a2-9e08-a9a17581c282",
   "metadata": {},
   "outputs": [
    {
     "name": "stdout",
     "output_type": "stream",
     "text": [
      "Benchmark Returns:\n",
      "timestamp\n",
      "2021-10-31    0.215302\n",
      "2021-11-30    0.283248\n",
      "2021-12-31   -0.183973\n",
      "2022-01-31   -0.318677\n",
      "2022-02-28   -0.001011\n",
      "Freq: ME, dtype: float64\n"
     ]
    }
   ],
   "source": [
    "import numpy as np\n",
    "import pandas as pd\n",
    "import plotly.express as px\n",
    "import os\n",
    "from scipy.stats import zscore\n",
    "\n",
    "# ---------------------------\n",
    "# 1. 데이터 준비\n",
    "# ---------------------------\n",
    "\n",
    "# daily_df와 factor_df는 이미 계산되어 있다고 가정합니다.\n",
    "# daily_df: MultiIndex 컬럼 구조 (symbol, attribute), 예: ('BTC/USDT', 'close')\n",
    "# factor_df: MultiIndex 컬럼 구조 (symbol, factor), 예: ('BTC/USDT', 'momentum')\n",
    "\n",
    "# ---------------------------\n",
    "# 2. 멀티 인덱스 컬럼 설정\n",
    "# ---------------------------\n",
    "\n",
    "# factor_df 컬럼이 튜플 형태로 되어있는지 확인하고, 멀티 인덱스로 변환\n",
    "if not isinstance(factor_df.columns, pd.MultiIndex):\n",
    "    try:\n",
    "        factor_df.columns = pd.MultiIndex.from_tuples(factor_df.columns)\n",
    "    except Exception as e:\n",
    "        print(\"factor_df.columns을 MultiIndex로 변환하는 중 오류 발생:\", e)\n",
    "\n",
    "# daily_df 컬럼이 튜플 형태로 되어있는지 확인하고, 멀티 인덱스로 변환\n",
    "if not isinstance(daily_df.columns, pd.MultiIndex):\n",
    "    try:\n",
    "        daily_df.columns = pd.MultiIndex.from_tuples(daily_df.columns)\n",
    "    except Exception as e:\n",
    "        print(\"daily_df.columns을 MultiIndex로 변환하는 중 오류 발생:\", e)\n",
    "\n",
    "# ---------------------------\n",
    "# 2.1. 'potential_return'과 'max_return'의 z-score 합산하여 새로운 팩터 생성\n",
    "# ---------------------------\n",
    "\n",
    "# 기존 'combined_factor'가 존재하면 제거\n",
    "if 'combined_factor' in factor_df.columns.get_level_values(1):\n",
    "    # **수정된 부분 시작**\n",
    "    factor_df = factor_df.drop(columns='combined_factor', level=1)\n",
    "    # **수정된 부분 끝**\n",
    "\n",
    "# 'potential_return'과 'max_return' 데이터 추출\n",
    "try:\n",
    "    potential_return_df = factor_df.xs('potential_return', level=1, axis=1)\n",
    "    max_return_df = factor_df.xs('max_return', level=1, axis=1)\n",
    "except KeyError as e:\n",
    "    print(f\"KeyError: {e}. Ensure 'potential_return' and 'max_return' are in factor_df.\")\n",
    "\n",
    "# 횡단면적 z-score 계산\n",
    "potential_return_zscore = potential_return_df.apply(lambda x: zscore(x, nan_policy='omit'), axis=1)\n",
    "max_return_zscore = max_return_df.apply(lambda x: zscore(x, nan_policy='omit'), axis=1)\n",
    "\n",
    "# z-score 합산하여 새로운 팩터 생성\n",
    "combined_zscore = potential_return_zscore + max_return_zscore\n",
    "\n",
    "# 새로운 팩터를 factor_df에 추가\n",
    "new_factor_columns = pd.MultiIndex.from_tuples([(symbol, 'combined_factor') for symbol in combined_zscore.columns])\n",
    "combined_factor_df = pd.DataFrame(combined_zscore.values, index=combined_zscore.index, columns=new_factor_columns)\n",
    "factor_df = pd.concat([factor_df, combined_factor_df], axis=1)\n",
    "\n",
    "# 메모리 정리 (선택사항)\n",
    "del potential_return_df, max_return_df, potential_return_zscore, max_return_zscore, combined_zscore\n",
    "\n",
    "# ---------------------------\n",
    "# 3. 벤치마크 수익률 계산\n",
    "# ---------------------------\n",
    "\n",
    "# 일별 수익률이 이미 'returns' 열에 계산되어 있다고 가정\n",
    "# 월별 누적 수익률 계산: (1 + 일별 수익률).resample('M').apply(np.prod) - 1\n",
    "monthly_returns = (1 + daily_df.xs('returns', level=1, axis=1)).resample('M').apply(np.prod) - 1\n",
    "\n",
    "# 벤치마크: 모든 종목의 월별 누적 수익률의 평균 (동일가중)\n",
    "benchmark_returns = monthly_returns.mean(axis=1)\n",
    "\n",
    "# 벤치마크 수익률 확인\n",
    "print(\"Benchmark Returns:\")\n",
    "print(benchmark_returns.head())\n",
    "\n",
    "# ---------------------------\n",
    "# 4. 백테스팅 전략 설정 및 수행\n",
    "# ---------------------------\n",
    "\n",
    "# 전략 설정\n",
    "factors = ['combined_factor']\n",
    "percentiles = [10, 20, 30, 40]  # 추가된 40% 퍼센타일\n",
    "weighting_methods = ['equal_weighted', 'value_weighted']\n",
    "\n",
    "# 백테스트 결과를 저장할 딕셔너리 초기화\n",
    "performance_results = {}\n",
    "\n",
    "# 백테스트 로그를 저장할 딕셔너리 초기화\n",
    "strategy_logs = {f\"{factor}_{percentile}pct_{weight}\": pd.DataFrame(columns=['Date', 'Longs', 'Shorts', 'Return'])\n",
    "                for factor in factors for percentile in percentiles for weight in weighting_methods}\n",
    "\n",
    "# 월말 기준으로 팩터 데이터 리샘플링\n",
    "monthly_factors = factor_df.resample('M').last()\n",
    "\n",
    "# 투자 비율 설정 (100%)\n",
    "investment_rate = 0.2  # 20%로 설정\n",
    "\n",
    "# 전체 종목 리스트\n",
    "symbols = factor_df.columns.levels[0]\n",
    "\n",
    "# ---------------------------\n",
    "# 4.1. 일반적인 퍼센타일 기반 포트폴리오 구성\n",
    "# ---------------------------\n",
    "\n",
    "for factor in factors:\n",
    "    for percentile in percentiles:\n",
    "        for weight in weighting_methods:\n",
    "            # 전략 식별자 생성\n",
    "            strategy_id = f\"{factor}_{percentile}pct_{weight}\"\n",
    "            \n",
    "            # 현재 팩터의 값 추출\n",
    "            try:\n",
    "                factor_values = factor_df.xs(factor, level=1, axis=1)\n",
    "            except KeyError:\n",
    "                print(f\"팩터 '{factor}'가 factor_df에 존재하지 않습니다.\")\n",
    "                continue\n",
    "\n",
    "            # 중복된 컬럼 제거 (중요)\n",
    "            factor_values = factor_values.loc[:, ~factor_values.columns.duplicated()]\n",
    "\n",
    "            # 상위 및 하위 퍼센타일 기준 임계값 계산\n",
    "            top_threshold = factor_values.quantile(1 - percentile / 100, axis=1)\n",
    "            bottom_threshold = factor_values.quantile(percentile / 100, axis=1)\n",
    "\n",
    "            # 포트폴리오 가중치 초기화\n",
    "            portfolios = pd.DataFrame(0, index=monthly_factors.index, columns=factor_values.columns)\n",
    "\n",
    "            # 각 월별로 상위/하위 종목 선택 및 가중치 할당\n",
    "            for date in monthly_factors.index:\n",
    "                if date not in factor_values.index:\n",
    "                    continue\n",
    "                current_factors = factor_values.loc[date]\n",
    "\n",
    "                # 상위 퍼센타일 종목\n",
    "                longs = current_factors[current_factors >= top_threshold.loc[date]].index.tolist()\n",
    "                # 하위 퍼센타일 종목\n",
    "                shorts = current_factors[current_factors <= bottom_threshold.loc[date]].index.tolist()\n",
    "\n",
    "                # 중복된 심볼 제거\n",
    "                longs = list(set(longs))\n",
    "                shorts = list(set(shorts))\n",
    "\n",
    "                # 1개월 후의 수익률 계산\n",
    "                try:\n",
    "                    current_pos = monthly_returns.index.get_loc(date)\n",
    "                    next_month = monthly_returns.index[current_pos + 1]\n",
    "                    # 롱 포지션 수익률: 각 롱 종목의 다음 달 수익률 평균\n",
    "                    long_return = monthly_returns.loc[next_month, longs].mean() if len(longs) > 0 else 0\n",
    "                    # 숏 포지션 수익률: 각 숏 종목의 다음 달 수익률 평균\n",
    "                    short_return = monthly_returns.loc[next_month, shorts].mean() if len(shorts) > 0 else 0\n",
    "                    # 전체 포트폴리오 수익률: 롱 수익률 - 숏 수익률\n",
    "                    portfolio_return = long_return - short_return\n",
    "                except (IndexError, KeyError):\n",
    "                    # 다음 달 데이터가 없는 경우 NaN으로 설정\n",
    "                    portfolio_return = np.nan\n",
    "\n",
    "                # 포트폴리오 수익률 로그 저장\n",
    "                new_log = pd.DataFrame([{\n",
    "                    'Date': date,\n",
    "                    'Longs': ','.join(longs),    # 롱 종목을 쉼표로 구분한 문자열로 저장\n",
    "                    'Shorts': ','.join(shorts),  # 숏 종목을 쉼표로 구분한 문자열로 저장\n",
    "                    'Return': portfolio_return\n",
    "                }])\n",
    "                strategy_logs[strategy_id] = pd.concat([strategy_logs[strategy_id], new_log], ignore_index=True)\n",
    "\n",
    "                # 가중치 할당\n",
    "                if weight == 'equal_weighted':\n",
    "                    if len(longs) > 0:\n",
    "                        portfolios.loc[date, longs] += 1 / len(longs)\n",
    "                    if len(shorts) > 0:\n",
    "                        portfolios.loc[date, shorts] -= 1 / len(shorts)\n",
    "                elif weight == 'value_weighted':\n",
    "                    if len(longs) > 0:\n",
    "                        # 중복된 심볼 제거\n",
    "                        longs = list(set(longs))\n",
    "                        try:\n",
    "                            # 팩터 값을 기준으로 가중치 할당\n",
    "                            long_factors = current_factors.loc[longs]\n",
    "                            long_weights = long_factors / long_factors.abs().sum()\n",
    "                            portfolios.loc[date, longs] += long_weights\n",
    "                        except KeyError:\n",
    "                            print(f\"롱 포지션 종목의 팩터 데이터가 없습니다: {longs}\")\n",
    "                    if len(shorts) > 0:\n",
    "                        # 중복된 심볼 제거\n",
    "                        shorts = list(set(shorts))\n",
    "                        try:\n",
    "                            # 팩터 값을 기준으로 가중치 할당\n",
    "                            short_factors = current_factors.loc[shorts]\n",
    "                            short_weights = short_factors / short_factors.abs().sum()\n",
    "                            portfolios.loc[date, shorts] -= short_weights\n",
    "                        except KeyError:\n",
    "                            print(f\"숏 포지션 종목의 팩터 데이터가 없습니다: {shorts}\")\n",
    "\n",
    "            # 투자 비율 제한 (20%)\n",
    "            portfolios = portfolios * investment_rate\n",
    "\n",
    "            # 포트폴리오 수익률 계산\n",
    "            aligned_weights = portfolios.shift(1).reindex(monthly_returns.index).fillna(0)\n",
    "            portfolio_monthly_returns = (aligned_weights * monthly_returns).sum(axis=1)\n",
    "\n",
    "            # 초과 수익률 계산 (포트폴리오 수익률 - 벤치마크 수익률)\n",
    "            excess_returns = portfolio_monthly_returns - benchmark_returns\n",
    "\n",
    "            # 백테스트 결과 저장\n",
    "            performance_results[strategy_id] = pd.DataFrame({\n",
    "                'Portfolio_Return': portfolio_monthly_returns,\n",
    "                'Excess_Return': excess_returns\n",
    "            })\n"
   ]
  },
  {
   "cell_type": "code",
   "execution_count": 63,
   "id": "e7d08a8a",
   "metadata": {},
   "outputs": [],
   "source": [
    "# (재필) 일부 ts 전략의 경우 12 month lookback 때문에 1년 이후부터 결과가 나오므로, 공정한 비교를 위해 1년 이후 데이터만 사용\n",
    "START = '2022-11-30'\n",
    "\n",
    "performance_results = {k: v.loc[START:] for k, v in performance_results.items()}\n",
    "\n",
    "# 수익률 첫 날은 모두 0에서 시작하도록 0번째 index는 다 0으로 설정\n",
    "for k, v in performance_results.items():\n",
    "    v['Portfolio_Return'].iloc[0] = 0"
   ]
  },
  {
   "cell_type": "code",
   "execution_count": 64,
   "id": "319e7451",
   "metadata": {},
   "outputs": [
    {
     "name": "stdout",
     "output_type": "stream",
     "text": [
      "Strategy: combined_factor_10pct_equal_weighted\n"
     ]
    },
    {
     "data": {
      "text/html": [
       "<div>\n",
       "<style scoped>\n",
       "    .dataframe tbody tr th:only-of-type {\n",
       "        vertical-align: middle;\n",
       "    }\n",
       "\n",
       "    .dataframe tbody tr th {\n",
       "        vertical-align: top;\n",
       "    }\n",
       "\n",
       "    .dataframe thead th {\n",
       "        text-align: right;\n",
       "    }\n",
       "</style>\n",
       "<table border=\"1\" class=\"dataframe\">\n",
       "  <thead>\n",
       "    <tr style=\"text-align: right;\">\n",
       "      <th></th>\n",
       "      <th>Portfolio_Return</th>\n",
       "      <th>Excess_Return</th>\n",
       "    </tr>\n",
       "    <tr>\n",
       "      <th>timestamp</th>\n",
       "      <th></th>\n",
       "      <th></th>\n",
       "    </tr>\n",
       "  </thead>\n",
       "  <tbody>\n",
       "    <tr>\n",
       "      <th>2022-11-30</th>\n",
       "      <td>0.000000</td>\n",
       "      <td>0.187033</td>\n",
       "    </tr>\n",
       "    <tr>\n",
       "      <th>2022-12-31</th>\n",
       "      <td>-0.034560</td>\n",
       "      <td>0.187083</td>\n",
       "    </tr>\n",
       "    <tr>\n",
       "      <th>2023-01-31</th>\n",
       "      <td>0.050804</td>\n",
       "      <td>-0.604693</td>\n",
       "    </tr>\n",
       "    <tr>\n",
       "      <th>2023-02-28</th>\n",
       "      <td>-0.019342</td>\n",
       "      <td>-0.005876</td>\n",
       "    </tr>\n",
       "    <tr>\n",
       "      <th>2023-03-31</th>\n",
       "      <td>-0.000847</td>\n",
       "      <td>-0.000829</td>\n",
       "    </tr>\n",
       "  </tbody>\n",
       "</table>\n",
       "</div>"
      ],
      "text/plain": [
       "            Portfolio_Return  Excess_Return\n",
       "timestamp                                  \n",
       "2022-11-30          0.000000       0.187033\n",
       "2022-12-31         -0.034560       0.187083\n",
       "2023-01-31          0.050804      -0.604693\n",
       "2023-02-28         -0.019342      -0.005876\n",
       "2023-03-31         -0.000847      -0.000829"
      ]
     },
     "metadata": {},
     "output_type": "display_data"
    },
    {
     "name": "stdout",
     "output_type": "stream",
     "text": [
      "\n",
      "\n",
      "Strategy: combined_factor_10pct_value_weighted\n"
     ]
    },
    {
     "data": {
      "text/html": [
       "<div>\n",
       "<style scoped>\n",
       "    .dataframe tbody tr th:only-of-type {\n",
       "        vertical-align: middle;\n",
       "    }\n",
       "\n",
       "    .dataframe tbody tr th {\n",
       "        vertical-align: top;\n",
       "    }\n",
       "\n",
       "    .dataframe thead th {\n",
       "        text-align: right;\n",
       "    }\n",
       "</style>\n",
       "<table border=\"1\" class=\"dataframe\">\n",
       "  <thead>\n",
       "    <tr style=\"text-align: right;\">\n",
       "      <th></th>\n",
       "      <th>Portfolio_Return</th>\n",
       "      <th>Excess_Return</th>\n",
       "    </tr>\n",
       "    <tr>\n",
       "      <th>timestamp</th>\n",
       "      <th></th>\n",
       "      <th></th>\n",
       "    </tr>\n",
       "  </thead>\n",
       "  <tbody>\n",
       "    <tr>\n",
       "      <th>2022-11-30</th>\n",
       "      <td>0.000000</td>\n",
       "      <td>0.142513</td>\n",
       "    </tr>\n",
       "    <tr>\n",
       "      <th>2022-12-31</th>\n",
       "      <td>-0.107698</td>\n",
       "      <td>0.113945</td>\n",
       "    </tr>\n",
       "    <tr>\n",
       "      <th>2023-01-31</th>\n",
       "      <td>0.216941</td>\n",
       "      <td>-0.438556</td>\n",
       "    </tr>\n",
       "    <tr>\n",
       "      <th>2023-02-28</th>\n",
       "      <td>-0.008858</td>\n",
       "      <td>0.004608</td>\n",
       "    </tr>\n",
       "    <tr>\n",
       "      <th>2023-03-31</th>\n",
       "      <td>0.035993</td>\n",
       "      <td>0.036011</td>\n",
       "    </tr>\n",
       "  </tbody>\n",
       "</table>\n",
       "</div>"
      ],
      "text/plain": [
       "            Portfolio_Return  Excess_Return\n",
       "timestamp                                  \n",
       "2022-11-30          0.000000       0.142513\n",
       "2022-12-31         -0.107698       0.113945\n",
       "2023-01-31          0.216941      -0.438556\n",
       "2023-02-28         -0.008858       0.004608\n",
       "2023-03-31          0.035993       0.036011"
      ]
     },
     "metadata": {},
     "output_type": "display_data"
    },
    {
     "name": "stdout",
     "output_type": "stream",
     "text": [
      "\n",
      "\n",
      "Strategy: combined_factor_20pct_equal_weighted\n"
     ]
    },
    {
     "data": {
      "text/html": [
       "<div>\n",
       "<style scoped>\n",
       "    .dataframe tbody tr th:only-of-type {\n",
       "        vertical-align: middle;\n",
       "    }\n",
       "\n",
       "    .dataframe tbody tr th {\n",
       "        vertical-align: top;\n",
       "    }\n",
       "\n",
       "    .dataframe thead th {\n",
       "        text-align: right;\n",
       "    }\n",
       "</style>\n",
       "<table border=\"1\" class=\"dataframe\">\n",
       "  <thead>\n",
       "    <tr style=\"text-align: right;\">\n",
       "      <th></th>\n",
       "      <th>Portfolio_Return</th>\n",
       "      <th>Excess_Return</th>\n",
       "    </tr>\n",
       "    <tr>\n",
       "      <th>timestamp</th>\n",
       "      <th></th>\n",
       "      <th></th>\n",
       "    </tr>\n",
       "  </thead>\n",
       "  <tbody>\n",
       "    <tr>\n",
       "      <th>2022-11-30</th>\n",
       "      <td>0.000000</td>\n",
       "      <td>0.169804</td>\n",
       "    </tr>\n",
       "    <tr>\n",
       "      <th>2022-12-31</th>\n",
       "      <td>-0.024880</td>\n",
       "      <td>0.196763</td>\n",
       "    </tr>\n",
       "    <tr>\n",
       "      <th>2023-01-31</th>\n",
       "      <td>0.076777</td>\n",
       "      <td>-0.578720</td>\n",
       "    </tr>\n",
       "    <tr>\n",
       "      <th>2023-02-28</th>\n",
       "      <td>-0.013957</td>\n",
       "      <td>-0.000490</td>\n",
       "    </tr>\n",
       "    <tr>\n",
       "      <th>2023-03-31</th>\n",
       "      <td>0.001875</td>\n",
       "      <td>0.001893</td>\n",
       "    </tr>\n",
       "  </tbody>\n",
       "</table>\n",
       "</div>"
      ],
      "text/plain": [
       "            Portfolio_Return  Excess_Return\n",
       "timestamp                                  \n",
       "2022-11-30          0.000000       0.169804\n",
       "2022-12-31         -0.024880       0.196763\n",
       "2023-01-31          0.076777      -0.578720\n",
       "2023-02-28         -0.013957      -0.000490\n",
       "2023-03-31          0.001875       0.001893"
      ]
     },
     "metadata": {},
     "output_type": "display_data"
    },
    {
     "name": "stdout",
     "output_type": "stream",
     "text": [
      "\n",
      "\n",
      "Strategy: combined_factor_20pct_value_weighted\n"
     ]
    },
    {
     "data": {
      "text/html": [
       "<div>\n",
       "<style scoped>\n",
       "    .dataframe tbody tr th:only-of-type {\n",
       "        vertical-align: middle;\n",
       "    }\n",
       "\n",
       "    .dataframe tbody tr th {\n",
       "        vertical-align: top;\n",
       "    }\n",
       "\n",
       "    .dataframe thead th {\n",
       "        text-align: right;\n",
       "    }\n",
       "</style>\n",
       "<table border=\"1\" class=\"dataframe\">\n",
       "  <thead>\n",
       "    <tr style=\"text-align: right;\">\n",
       "      <th></th>\n",
       "      <th>Portfolio_Return</th>\n",
       "      <th>Excess_Return</th>\n",
       "    </tr>\n",
       "    <tr>\n",
       "      <th>timestamp</th>\n",
       "      <th></th>\n",
       "      <th></th>\n",
       "    </tr>\n",
       "  </thead>\n",
       "  <tbody>\n",
       "    <tr>\n",
       "      <th>2022-11-30</th>\n",
       "      <td>0.000000</td>\n",
       "      <td>0.123945</td>\n",
       "    </tr>\n",
       "    <tr>\n",
       "      <th>2022-12-31</th>\n",
       "      <td>-0.106366</td>\n",
       "      <td>0.115277</td>\n",
       "    </tr>\n",
       "    <tr>\n",
       "      <th>2023-01-31</th>\n",
       "      <td>0.223007</td>\n",
       "      <td>-0.432491</td>\n",
       "    </tr>\n",
       "    <tr>\n",
       "      <th>2023-02-28</th>\n",
       "      <td>-0.016018</td>\n",
       "      <td>-0.002551</td>\n",
       "    </tr>\n",
       "    <tr>\n",
       "      <th>2023-03-31</th>\n",
       "      <td>0.025545</td>\n",
       "      <td>0.025562</td>\n",
       "    </tr>\n",
       "  </tbody>\n",
       "</table>\n",
       "</div>"
      ],
      "text/plain": [
       "            Portfolio_Return  Excess_Return\n",
       "timestamp                                  \n",
       "2022-11-30          0.000000       0.123945\n",
       "2022-12-31         -0.106366       0.115277\n",
       "2023-01-31          0.223007      -0.432491\n",
       "2023-02-28         -0.016018      -0.002551\n",
       "2023-03-31          0.025545       0.025562"
      ]
     },
     "metadata": {},
     "output_type": "display_data"
    },
    {
     "name": "stdout",
     "output_type": "stream",
     "text": [
      "\n",
      "\n",
      "Strategy: combined_factor_30pct_equal_weighted\n"
     ]
    },
    {
     "data": {
      "text/html": [
       "<div>\n",
       "<style scoped>\n",
       "    .dataframe tbody tr th:only-of-type {\n",
       "        vertical-align: middle;\n",
       "    }\n",
       "\n",
       "    .dataframe tbody tr th {\n",
       "        vertical-align: top;\n",
       "    }\n",
       "\n",
       "    .dataframe thead th {\n",
       "        text-align: right;\n",
       "    }\n",
       "</style>\n",
       "<table border=\"1\" class=\"dataframe\">\n",
       "  <thead>\n",
       "    <tr style=\"text-align: right;\">\n",
       "      <th></th>\n",
       "      <th>Portfolio_Return</th>\n",
       "      <th>Excess_Return</th>\n",
       "    </tr>\n",
       "    <tr>\n",
       "      <th>timestamp</th>\n",
       "      <th></th>\n",
       "      <th></th>\n",
       "    </tr>\n",
       "  </thead>\n",
       "  <tbody>\n",
       "    <tr>\n",
       "      <th>2022-11-30</th>\n",
       "      <td>0.000000</td>\n",
       "      <td>0.173341</td>\n",
       "    </tr>\n",
       "    <tr>\n",
       "      <th>2022-12-31</th>\n",
       "      <td>-0.020828</td>\n",
       "      <td>0.200815</td>\n",
       "    </tr>\n",
       "    <tr>\n",
       "      <th>2023-01-31</th>\n",
       "      <td>0.098947</td>\n",
       "      <td>-0.556551</td>\n",
       "    </tr>\n",
       "    <tr>\n",
       "      <th>2023-02-28</th>\n",
       "      <td>-0.003538</td>\n",
       "      <td>0.009929</td>\n",
       "    </tr>\n",
       "    <tr>\n",
       "      <th>2023-03-31</th>\n",
       "      <td>-0.000347</td>\n",
       "      <td>-0.000330</td>\n",
       "    </tr>\n",
       "  </tbody>\n",
       "</table>\n",
       "</div>"
      ],
      "text/plain": [
       "            Portfolio_Return  Excess_Return\n",
       "timestamp                                  \n",
       "2022-11-30          0.000000       0.173341\n",
       "2022-12-31         -0.020828       0.200815\n",
       "2023-01-31          0.098947      -0.556551\n",
       "2023-02-28         -0.003538       0.009929\n",
       "2023-03-31         -0.000347      -0.000330"
      ]
     },
     "metadata": {},
     "output_type": "display_data"
    },
    {
     "name": "stdout",
     "output_type": "stream",
     "text": [
      "\n",
      "\n"
     ]
    }
   ],
   "source": [
    "\n",
    "# ---------------------------\n",
    "# 5. 백테스트 결과 확인\n",
    "# ---------------------------\n",
    "\n",
    "# 백테스트 결과 확인 (일부 전략만 출력)\n",
    "for strategy, perf in list(performance_results.items())[:5]:  # 상위 5개 전략만 예시로 출력\n",
    "    print(f\"Strategy: {strategy}\")\n",
    "    display(perf.head())\n",
    "    print(\"\\n\")\n"
   ]
  },
  {
   "cell_type": "code",
   "execution_count": 66,
   "id": "78159987",
   "metadata": {},
   "outputs": [
    {
     "data": {
      "application/vnd.plotly.v1+json": {
       "config": {
        "plotlyServerURL": "https://plot.ly"
       },
       "data": [
        {
         "hovertemplate": "<extra></extra>",
         "legendgroup": "",
         "line": {
          "color": "#636efa",
          "dash": "solid"
         },
         "marker": {
          "symbol": "circle"
         },
         "mode": "lines",
         "name": "",
         "orientation": "v",
         "showlegend": false,
         "type": "scatter",
         "xaxis": "x",
         "yaxis": "y"
        },
        {
         "mode": "lines",
         "name": "combined_factor_10pct_equal_weighted",
         "type": "scatter",
         "x": [
          "2022-11-30T00:00:00",
          "2022-12-31T00:00:00",
          "2023-01-31T00:00:00",
          "2023-02-28T00:00:00",
          "2023-03-31T00:00:00",
          "2023-04-30T00:00:00",
          "2023-05-31T00:00:00",
          "2023-06-30T00:00:00",
          "2023-07-31T00:00:00",
          "2023-08-31T00:00:00",
          "2023-09-30T00:00:00",
          "2023-10-31T00:00:00",
          "2023-11-30T00:00:00",
          "2023-12-31T00:00:00",
          "2024-01-31T00:00:00",
          "2024-02-29T00:00:00",
          "2024-03-31T00:00:00",
          "2024-04-30T00:00:00",
          "2024-05-31T00:00:00",
          "2024-06-30T00:00:00",
          "2024-07-31T00:00:00",
          "2024-08-31T00:00:00",
          "2024-09-30T00:00:00",
          "2024-10-31T00:00:00"
         ],
         "y": [
          0,
          -0.03455991545472148,
          0.014488302991616075,
          -0.005134161936567683,
          -0.005976425815934383,
          -0.033270637279390614,
          0.008717590668421593,
          -0.03520596967512801,
          -0.046084896991464674,
          -0.04938019918735026,
          0.01765450733038998,
          0.08280899627271654,
          0.06167562187721276,
          0.03502370761313811,
          0.038554717349368106,
          0.0613374202729946,
          0.16144903456939286,
          0.1743829901842444,
          0.2750294924987773,
          0.2609612138613697,
          0.21045069009393336,
          0.19951995300794678,
          0.22596917926364957,
          0.22336710893191136
         ]
        },
        {
         "mode": "lines",
         "name": "combined_factor_10pct_value_weighted",
         "type": "scatter",
         "x": [
          "2022-11-30T00:00:00",
          "2022-12-31T00:00:00",
          "2023-01-31T00:00:00",
          "2023-02-28T00:00:00",
          "2023-03-31T00:00:00",
          "2023-04-30T00:00:00",
          "2023-05-31T00:00:00",
          "2023-06-30T00:00:00",
          "2023-07-31T00:00:00",
          "2023-08-31T00:00:00",
          "2023-09-30T00:00:00",
          "2023-10-31T00:00:00",
          "2023-11-30T00:00:00",
          "2023-12-31T00:00:00",
          "2024-01-31T00:00:00",
          "2024-02-29T00:00:00",
          "2024-03-31T00:00:00",
          "2024-04-30T00:00:00",
          "2024-05-31T00:00:00",
          "2024-06-30T00:00:00",
          "2024-07-31T00:00:00",
          "2024-08-31T00:00:00",
          "2024-09-30T00:00:00",
          "2024-10-31T00:00:00"
         ],
         "y": [
          0,
          -0.10769827944339971,
          0.08587883423023768,
          0.07625971066604476,
          0.11499803056352942,
          0.09852553855698898,
          0.1391811855857823,
          0.08315730524305431,
          0.05670285041387735,
          -0.03656814312553869,
          0.24778201232053787,
          0.390399024210617,
          0.4626352558465374,
          0.4930793810926921,
          0.38991023473406616,
          0.5695896249271861,
          0.6729644703235222,
          0.40370231766960396,
          0.5780138334489691,
          0.5268239468153433,
          0.45232365388243245,
          0.34496145530927214,
          0.38524085794358043,
          0.41030557069297235
         ]
        },
        {
         "mode": "lines",
         "name": "combined_factor_20pct_equal_weighted",
         "type": "scatter",
         "x": [
          "2022-11-30T00:00:00",
          "2022-12-31T00:00:00",
          "2023-01-31T00:00:00",
          "2023-02-28T00:00:00",
          "2023-03-31T00:00:00",
          "2023-04-30T00:00:00",
          "2023-05-31T00:00:00",
          "2023-06-30T00:00:00",
          "2023-07-31T00:00:00",
          "2023-08-31T00:00:00",
          "2023-09-30T00:00:00",
          "2023-10-31T00:00:00",
          "2023-11-30T00:00:00",
          "2023-12-31T00:00:00",
          "2024-01-31T00:00:00",
          "2024-02-29T00:00:00",
          "2024-03-31T00:00:00",
          "2024-04-30T00:00:00",
          "2024-05-31T00:00:00",
          "2024-06-30T00:00:00",
          "2024-07-31T00:00:00",
          "2024-08-31T00:00:00",
          "2024-09-30T00:00:00",
          "2024-10-31T00:00:00"
         ],
         "y": [
          0,
          -0.02488030768657601,
          0.04998686161699273,
          0.03533251670849635,
          0.03727405948468676,
          0.024968801201106228,
          0.0414617374331081,
          0.054982981033409484,
          0.05683214642453538,
          0.04349481200786687,
          0.07611673271606123,
          0.11666513987955951,
          0.144637929836416,
          0.07268795159351482,
          0.056621888905089346,
          0.04546109407732568,
          0.09478592202183589,
          0.10047870294856587,
          0.14042304951146334,
          0.12434066203388361,
          0.08980490983283085,
          0.08009079216794968,
          0.08901233411565346,
          0.08797109017624849
         ]
        },
        {
         "mode": "lines",
         "name": "combined_factor_20pct_value_weighted",
         "type": "scatter",
         "x": [
          "2022-11-30T00:00:00",
          "2022-12-31T00:00:00",
          "2023-01-31T00:00:00",
          "2023-02-28T00:00:00",
          "2023-03-31T00:00:00",
          "2023-04-30T00:00:00",
          "2023-05-31T00:00:00",
          "2023-06-30T00:00:00",
          "2023-07-31T00:00:00",
          "2023-08-31T00:00:00",
          "2023-09-30T00:00:00",
          "2023-10-31T00:00:00",
          "2023-11-30T00:00:00",
          "2023-12-31T00:00:00",
          "2024-01-31T00:00:00",
          "2024-02-29T00:00:00",
          "2024-03-31T00:00:00",
          "2024-04-30T00:00:00",
          "2024-05-31T00:00:00",
          "2024-06-30T00:00:00",
          "2024-07-31T00:00:00",
          "2024-08-31T00:00:00",
          "2024-09-30T00:00:00",
          "2024-10-31T00:00:00"
         ],
         "y": [
          0,
          -0.10636629897061478,
          0.09292022547831835,
          0.07541404194820567,
          0.10288526451445801,
          0.08681936573086158,
          0.09783679819374713,
          0.057568015750964596,
          0.040781849744240706,
          -0.036898941683905284,
          0.1636509458894917,
          0.2826387596628943,
          0.37394680383793877,
          0.4178577078509209,
          0.3214136177754685,
          0.5053904729359273,
          0.6421334310495062,
          0.4032404034267092,
          0.5471887677948548,
          0.482999825001865,
          0.42625781086184134,
          0.3414423188051674,
          0.3938421345736822,
          0.4160297027319795
         ]
        },
        {
         "mode": "lines",
         "name": "combined_factor_30pct_equal_weighted",
         "type": "scatter",
         "x": [
          "2022-11-30T00:00:00",
          "2022-12-31T00:00:00",
          "2023-01-31T00:00:00",
          "2023-02-28T00:00:00",
          "2023-03-31T00:00:00",
          "2023-04-30T00:00:00",
          "2023-05-31T00:00:00",
          "2023-06-30T00:00:00",
          "2023-07-31T00:00:00",
          "2023-08-31T00:00:00",
          "2023-09-30T00:00:00",
          "2023-10-31T00:00:00",
          "2023-11-30T00:00:00",
          "2023-12-31T00:00:00",
          "2024-01-31T00:00:00",
          "2024-02-29T00:00:00",
          "2024-03-31T00:00:00",
          "2024-04-30T00:00:00",
          "2024-05-31T00:00:00",
          "2024-06-30T00:00:00",
          "2024-07-31T00:00:00",
          "2024-08-31T00:00:00",
          "2024-09-30T00:00:00",
          "2024-10-31T00:00:00"
         ],
         "y": [
          0,
          -0.020827959262961326,
          0.07605786963709504,
          0.07225129541214548,
          0.07187932159714827,
          0.06569148782679579,
          0.07566595415393484,
          0.09172507076743419,
          0.1010957990589838,
          0.11655385068683244,
          0.1436918712581141,
          0.1808806857001004,
          0.20645098858516175,
          0.14560662735936591,
          0.12652813824379328,
          0.11720459515614712,
          0.19024463061321328,
          0.19606782311710025,
          0.23771080921144727,
          0.2209485915741638,
          0.19499672061347284,
          0.18591782441824756,
          0.1968838816088454,
          0.18586827528025984
         ]
        },
        {
         "mode": "lines",
         "name": "combined_factor_30pct_value_weighted",
         "type": "scatter",
         "x": [
          "2022-11-30T00:00:00",
          "2022-12-31T00:00:00",
          "2023-01-31T00:00:00",
          "2023-02-28T00:00:00",
          "2023-03-31T00:00:00",
          "2023-04-30T00:00:00",
          "2023-05-31T00:00:00",
          "2023-06-30T00:00:00",
          "2023-07-31T00:00:00",
          "2023-08-31T00:00:00",
          "2023-09-30T00:00:00",
          "2023-10-31T00:00:00",
          "2023-11-30T00:00:00",
          "2023-12-31T00:00:00",
          "2024-01-31T00:00:00",
          "2024-02-29T00:00:00",
          "2024-03-31T00:00:00",
          "2024-04-30T00:00:00",
          "2024-05-31T00:00:00",
          "2024-06-30T00:00:00",
          "2024-07-31T00:00:00",
          "2024-08-31T00:00:00",
          "2024-09-30T00:00:00",
          "2024-10-31T00:00:00"
         ],
         "y": [
          0,
          -0.10486358425281495,
          0.10084692369591663,
          0.08937496691657021,
          0.10915332084221752,
          0.09073262279768168,
          0.09262420190392251,
          0.05385105681209379,
          0.044413323846506536,
          -0.02756964731540157,
          0.1497332955033701,
          0.2650887255243446,
          0.3624117556139246,
          0.43672240068771107,
          0.34255064033325877,
          0.5324061229514987,
          0.6838418090766856,
          0.4388557341933781,
          0.5756913362195226,
          0.4978969182874964,
          0.43351986134349185,
          0.3477416956973438,
          0.40094713828469564,
          0.41850337282838823
         ]
        },
        {
         "mode": "lines",
         "name": "combined_factor_40pct_equal_weighted",
         "type": "scatter",
         "x": [
          "2022-11-30T00:00:00",
          "2022-12-31T00:00:00",
          "2023-01-31T00:00:00",
          "2023-02-28T00:00:00",
          "2023-03-31T00:00:00",
          "2023-04-30T00:00:00",
          "2023-05-31T00:00:00",
          "2023-06-30T00:00:00",
          "2023-07-31T00:00:00",
          "2023-08-31T00:00:00",
          "2023-09-30T00:00:00",
          "2023-10-31T00:00:00",
          "2023-11-30T00:00:00",
          "2023-12-31T00:00:00",
          "2024-01-31T00:00:00",
          "2024-02-29T00:00:00",
          "2024-03-31T00:00:00",
          "2024-04-30T00:00:00",
          "2024-05-31T00:00:00",
          "2024-06-30T00:00:00",
          "2024-07-31T00:00:00",
          "2024-08-31T00:00:00",
          "2024-09-30T00:00:00",
          "2024-10-31T00:00:00"
         ],
         "y": [
          0,
          -0.016882715828658523,
          0.05168898158888857,
          0.04867485581037667,
          0.043660816820870085,
          0.03764678037375857,
          0.04080924454285206,
          0.051556984354493185,
          0.06866607790229384,
          0.08387500541590209,
          0.09887043360361125,
          0.1161617330501894,
          0.13489322333437137,
          0.10993617297295932,
          0.10600528982516066,
          0.09337359958560354,
          0.15851048553302816,
          0.1622685130819841,
          0.19220140289541776,
          0.17792870190098653,
          0.15493158704050192,
          0.14763846525486546,
          0.16476121459470217,
          0.15737757711500922
         ]
        },
        {
         "mode": "lines",
         "name": "combined_factor_40pct_value_weighted",
         "type": "scatter",
         "x": [
          "2022-11-30T00:00:00",
          "2022-12-31T00:00:00",
          "2023-01-31T00:00:00",
          "2023-02-28T00:00:00",
          "2023-03-31T00:00:00",
          "2023-04-30T00:00:00",
          "2023-05-31T00:00:00",
          "2023-06-30T00:00:00",
          "2023-07-31T00:00:00",
          "2023-08-31T00:00:00",
          "2023-09-30T00:00:00",
          "2023-10-31T00:00:00",
          "2023-11-30T00:00:00",
          "2023-12-31T00:00:00",
          "2024-01-31T00:00:00",
          "2024-02-29T00:00:00",
          "2024-03-31T00:00:00",
          "2024-04-30T00:00:00",
          "2024-05-31T00:00:00",
          "2024-06-30T00:00:00",
          "2024-07-31T00:00:00",
          "2024-08-31T00:00:00",
          "2024-09-30T00:00:00",
          "2024-10-31T00:00:00"
         ],
         "y": [
          0,
          -0.10077325157484462,
          0.11405862197748351,
          0.10458933913296908,
          0.12259026835420372,
          0.1032313813752308,
          0.10465980787351725,
          0.06470659803260603,
          0.05528369383879195,
          -0.013818061296196116,
          0.16052165662311046,
          0.28429636816402537,
          0.3814212025637538,
          0.4547022500653837,
          0.36270263571583006,
          0.5540651993803112,
          0.7096685893523058,
          0.46819958217254776,
          0.6082018939932161,
          0.525599649729598,
          0.46059362683455674,
          0.3722095026795136,
          0.4260642161926169,
          0.4419455146232609
         ]
        }
       ],
       "layout": {
        "legend": {
         "tracegroupgap": 0
        },
        "template": {
         "data": {
          "bar": [
           {
            "error_x": {
             "color": "#2a3f5f"
            },
            "error_y": {
             "color": "#2a3f5f"
            },
            "marker": {
             "line": {
              "color": "#E5ECF6",
              "width": 0.5
             },
             "pattern": {
              "fillmode": "overlay",
              "size": 10,
              "solidity": 0.2
             }
            },
            "type": "bar"
           }
          ],
          "barpolar": [
           {
            "marker": {
             "line": {
              "color": "#E5ECF6",
              "width": 0.5
             },
             "pattern": {
              "fillmode": "overlay",
              "size": 10,
              "solidity": 0.2
             }
            },
            "type": "barpolar"
           }
          ],
          "carpet": [
           {
            "aaxis": {
             "endlinecolor": "#2a3f5f",
             "gridcolor": "white",
             "linecolor": "white",
             "minorgridcolor": "white",
             "startlinecolor": "#2a3f5f"
            },
            "baxis": {
             "endlinecolor": "#2a3f5f",
             "gridcolor": "white",
             "linecolor": "white",
             "minorgridcolor": "white",
             "startlinecolor": "#2a3f5f"
            },
            "type": "carpet"
           }
          ],
          "choropleth": [
           {
            "colorbar": {
             "outlinewidth": 0,
             "ticks": ""
            },
            "type": "choropleth"
           }
          ],
          "contour": [
           {
            "colorbar": {
             "outlinewidth": 0,
             "ticks": ""
            },
            "colorscale": [
             [
              0,
              "#0d0887"
             ],
             [
              0.1111111111111111,
              "#46039f"
             ],
             [
              0.2222222222222222,
              "#7201a8"
             ],
             [
              0.3333333333333333,
              "#9c179e"
             ],
             [
              0.4444444444444444,
              "#bd3786"
             ],
             [
              0.5555555555555556,
              "#d8576b"
             ],
             [
              0.6666666666666666,
              "#ed7953"
             ],
             [
              0.7777777777777778,
              "#fb9f3a"
             ],
             [
              0.8888888888888888,
              "#fdca26"
             ],
             [
              1,
              "#f0f921"
             ]
            ],
            "type": "contour"
           }
          ],
          "contourcarpet": [
           {
            "colorbar": {
             "outlinewidth": 0,
             "ticks": ""
            },
            "type": "contourcarpet"
           }
          ],
          "heatmap": [
           {
            "colorbar": {
             "outlinewidth": 0,
             "ticks": ""
            },
            "colorscale": [
             [
              0,
              "#0d0887"
             ],
             [
              0.1111111111111111,
              "#46039f"
             ],
             [
              0.2222222222222222,
              "#7201a8"
             ],
             [
              0.3333333333333333,
              "#9c179e"
             ],
             [
              0.4444444444444444,
              "#bd3786"
             ],
             [
              0.5555555555555556,
              "#d8576b"
             ],
             [
              0.6666666666666666,
              "#ed7953"
             ],
             [
              0.7777777777777778,
              "#fb9f3a"
             ],
             [
              0.8888888888888888,
              "#fdca26"
             ],
             [
              1,
              "#f0f921"
             ]
            ],
            "type": "heatmap"
           }
          ],
          "heatmapgl": [
           {
            "colorbar": {
             "outlinewidth": 0,
             "ticks": ""
            },
            "colorscale": [
             [
              0,
              "#0d0887"
             ],
             [
              0.1111111111111111,
              "#46039f"
             ],
             [
              0.2222222222222222,
              "#7201a8"
             ],
             [
              0.3333333333333333,
              "#9c179e"
             ],
             [
              0.4444444444444444,
              "#bd3786"
             ],
             [
              0.5555555555555556,
              "#d8576b"
             ],
             [
              0.6666666666666666,
              "#ed7953"
             ],
             [
              0.7777777777777778,
              "#fb9f3a"
             ],
             [
              0.8888888888888888,
              "#fdca26"
             ],
             [
              1,
              "#f0f921"
             ]
            ],
            "type": "heatmapgl"
           }
          ],
          "histogram": [
           {
            "marker": {
             "pattern": {
              "fillmode": "overlay",
              "size": 10,
              "solidity": 0.2
             }
            },
            "type": "histogram"
           }
          ],
          "histogram2d": [
           {
            "colorbar": {
             "outlinewidth": 0,
             "ticks": ""
            },
            "colorscale": [
             [
              0,
              "#0d0887"
             ],
             [
              0.1111111111111111,
              "#46039f"
             ],
             [
              0.2222222222222222,
              "#7201a8"
             ],
             [
              0.3333333333333333,
              "#9c179e"
             ],
             [
              0.4444444444444444,
              "#bd3786"
             ],
             [
              0.5555555555555556,
              "#d8576b"
             ],
             [
              0.6666666666666666,
              "#ed7953"
             ],
             [
              0.7777777777777778,
              "#fb9f3a"
             ],
             [
              0.8888888888888888,
              "#fdca26"
             ],
             [
              1,
              "#f0f921"
             ]
            ],
            "type": "histogram2d"
           }
          ],
          "histogram2dcontour": [
           {
            "colorbar": {
             "outlinewidth": 0,
             "ticks": ""
            },
            "colorscale": [
             [
              0,
              "#0d0887"
             ],
             [
              0.1111111111111111,
              "#46039f"
             ],
             [
              0.2222222222222222,
              "#7201a8"
             ],
             [
              0.3333333333333333,
              "#9c179e"
             ],
             [
              0.4444444444444444,
              "#bd3786"
             ],
             [
              0.5555555555555556,
              "#d8576b"
             ],
             [
              0.6666666666666666,
              "#ed7953"
             ],
             [
              0.7777777777777778,
              "#fb9f3a"
             ],
             [
              0.8888888888888888,
              "#fdca26"
             ],
             [
              1,
              "#f0f921"
             ]
            ],
            "type": "histogram2dcontour"
           }
          ],
          "mesh3d": [
           {
            "colorbar": {
             "outlinewidth": 0,
             "ticks": ""
            },
            "type": "mesh3d"
           }
          ],
          "parcoords": [
           {
            "line": {
             "colorbar": {
              "outlinewidth": 0,
              "ticks": ""
             }
            },
            "type": "parcoords"
           }
          ],
          "pie": [
           {
            "automargin": true,
            "type": "pie"
           }
          ],
          "scatter": [
           {
            "fillpattern": {
             "fillmode": "overlay",
             "size": 10,
             "solidity": 0.2
            },
            "type": "scatter"
           }
          ],
          "scatter3d": [
           {
            "line": {
             "colorbar": {
              "outlinewidth": 0,
              "ticks": ""
             }
            },
            "marker": {
             "colorbar": {
              "outlinewidth": 0,
              "ticks": ""
             }
            },
            "type": "scatter3d"
           }
          ],
          "scattercarpet": [
           {
            "marker": {
             "colorbar": {
              "outlinewidth": 0,
              "ticks": ""
             }
            },
            "type": "scattercarpet"
           }
          ],
          "scattergeo": [
           {
            "marker": {
             "colorbar": {
              "outlinewidth": 0,
              "ticks": ""
             }
            },
            "type": "scattergeo"
           }
          ],
          "scattergl": [
           {
            "marker": {
             "colorbar": {
              "outlinewidth": 0,
              "ticks": ""
             }
            },
            "type": "scattergl"
           }
          ],
          "scattermapbox": [
           {
            "marker": {
             "colorbar": {
              "outlinewidth": 0,
              "ticks": ""
             }
            },
            "type": "scattermapbox"
           }
          ],
          "scatterpolar": [
           {
            "marker": {
             "colorbar": {
              "outlinewidth": 0,
              "ticks": ""
             }
            },
            "type": "scatterpolar"
           }
          ],
          "scatterpolargl": [
           {
            "marker": {
             "colorbar": {
              "outlinewidth": 0,
              "ticks": ""
             }
            },
            "type": "scatterpolargl"
           }
          ],
          "scatterternary": [
           {
            "marker": {
             "colorbar": {
              "outlinewidth": 0,
              "ticks": ""
             }
            },
            "type": "scatterternary"
           }
          ],
          "surface": [
           {
            "colorbar": {
             "outlinewidth": 0,
             "ticks": ""
            },
            "colorscale": [
             [
              0,
              "#0d0887"
             ],
             [
              0.1111111111111111,
              "#46039f"
             ],
             [
              0.2222222222222222,
              "#7201a8"
             ],
             [
              0.3333333333333333,
              "#9c179e"
             ],
             [
              0.4444444444444444,
              "#bd3786"
             ],
             [
              0.5555555555555556,
              "#d8576b"
             ],
             [
              0.6666666666666666,
              "#ed7953"
             ],
             [
              0.7777777777777778,
              "#fb9f3a"
             ],
             [
              0.8888888888888888,
              "#fdca26"
             ],
             [
              1,
              "#f0f921"
             ]
            ],
            "type": "surface"
           }
          ],
          "table": [
           {
            "cells": {
             "fill": {
              "color": "#EBF0F8"
             },
             "line": {
              "color": "white"
             }
            },
            "header": {
             "fill": {
              "color": "#C8D4E3"
             },
             "line": {
              "color": "white"
             }
            },
            "type": "table"
           }
          ]
         },
         "layout": {
          "annotationdefaults": {
           "arrowcolor": "#2a3f5f",
           "arrowhead": 0,
           "arrowwidth": 1
          },
          "autotypenumbers": "strict",
          "coloraxis": {
           "colorbar": {
            "outlinewidth": 0,
            "ticks": ""
           }
          },
          "colorscale": {
           "diverging": [
            [
             0,
             "#8e0152"
            ],
            [
             0.1,
             "#c51b7d"
            ],
            [
             0.2,
             "#de77ae"
            ],
            [
             0.3,
             "#f1b6da"
            ],
            [
             0.4,
             "#fde0ef"
            ],
            [
             0.5,
             "#f7f7f7"
            ],
            [
             0.6,
             "#e6f5d0"
            ],
            [
             0.7,
             "#b8e186"
            ],
            [
             0.8,
             "#7fbc41"
            ],
            [
             0.9,
             "#4d9221"
            ],
            [
             1,
             "#276419"
            ]
           ],
           "sequential": [
            [
             0,
             "#0d0887"
            ],
            [
             0.1111111111111111,
             "#46039f"
            ],
            [
             0.2222222222222222,
             "#7201a8"
            ],
            [
             0.3333333333333333,
             "#9c179e"
            ],
            [
             0.4444444444444444,
             "#bd3786"
            ],
            [
             0.5555555555555556,
             "#d8576b"
            ],
            [
             0.6666666666666666,
             "#ed7953"
            ],
            [
             0.7777777777777778,
             "#fb9f3a"
            ],
            [
             0.8888888888888888,
             "#fdca26"
            ],
            [
             1,
             "#f0f921"
            ]
           ],
           "sequentialminus": [
            [
             0,
             "#0d0887"
            ],
            [
             0.1111111111111111,
             "#46039f"
            ],
            [
             0.2222222222222222,
             "#7201a8"
            ],
            [
             0.3333333333333333,
             "#9c179e"
            ],
            [
             0.4444444444444444,
             "#bd3786"
            ],
            [
             0.5555555555555556,
             "#d8576b"
            ],
            [
             0.6666666666666666,
             "#ed7953"
            ],
            [
             0.7777777777777778,
             "#fb9f3a"
            ],
            [
             0.8888888888888888,
             "#fdca26"
            ],
            [
             1,
             "#f0f921"
            ]
           ]
          },
          "colorway": [
           "#636efa",
           "#EF553B",
           "#00cc96",
           "#ab63fa",
           "#FFA15A",
           "#19d3f3",
           "#FF6692",
           "#B6E880",
           "#FF97FF",
           "#FECB52"
          ],
          "font": {
           "color": "#2a3f5f"
          },
          "geo": {
           "bgcolor": "white",
           "lakecolor": "white",
           "landcolor": "#E5ECF6",
           "showlakes": true,
           "showland": true,
           "subunitcolor": "white"
          },
          "hoverlabel": {
           "align": "left"
          },
          "hovermode": "closest",
          "mapbox": {
           "style": "light"
          },
          "paper_bgcolor": "white",
          "plot_bgcolor": "#E5ECF6",
          "polar": {
           "angularaxis": {
            "gridcolor": "white",
            "linecolor": "white",
            "ticks": ""
           },
           "bgcolor": "#E5ECF6",
           "radialaxis": {
            "gridcolor": "white",
            "linecolor": "white",
            "ticks": ""
           }
          },
          "scene": {
           "xaxis": {
            "backgroundcolor": "#E5ECF6",
            "gridcolor": "white",
            "gridwidth": 2,
            "linecolor": "white",
            "showbackground": true,
            "ticks": "",
            "zerolinecolor": "white"
           },
           "yaxis": {
            "backgroundcolor": "#E5ECF6",
            "gridcolor": "white",
            "gridwidth": 2,
            "linecolor": "white",
            "showbackground": true,
            "ticks": "",
            "zerolinecolor": "white"
           },
           "zaxis": {
            "backgroundcolor": "#E5ECF6",
            "gridcolor": "white",
            "gridwidth": 2,
            "linecolor": "white",
            "showbackground": true,
            "ticks": "",
            "zerolinecolor": "white"
           }
          },
          "shapedefaults": {
           "line": {
            "color": "#2a3f5f"
           }
          },
          "ternary": {
           "aaxis": {
            "gridcolor": "white",
            "linecolor": "white",
            "ticks": ""
           },
           "baxis": {
            "gridcolor": "white",
            "linecolor": "white",
            "ticks": ""
           },
           "bgcolor": "#E5ECF6",
           "caxis": {
            "gridcolor": "white",
            "linecolor": "white",
            "ticks": ""
           }
          },
          "title": {
           "x": 0.05
          },
          "xaxis": {
           "automargin": true,
           "gridcolor": "white",
           "linecolor": "white",
           "ticks": "",
           "title": {
            "standoff": 15
           },
           "zerolinecolor": "white",
           "zerolinewidth": 2
          },
          "yaxis": {
           "automargin": true,
           "gridcolor": "white",
           "linecolor": "white",
           "ticks": "",
           "title": {
            "standoff": 15
           },
           "zerolinecolor": "white",
           "zerolinewidth": 2
          }
         }
        },
        "title": {
         "text": "Cumulative Portfolio Returns of Strategies"
        },
        "xaxis": {
         "anchor": "y",
         "domain": [
          0,
          1
         ],
         "title": {
          "text": "Date"
         }
        },
        "yaxis": {
         "anchor": "x",
         "domain": [
          0,
          1
         ],
         "title": {
          "text": "Cumulative Portfolio Return"
         }
        }
       }
      }
     },
     "metadata": {},
     "output_type": "display_data"
    },
    {
     "name": "stdout",
     "output_type": "stream",
     "text": [
      "Performance Summary:\n"
     ]
    },
    {
     "data": {
      "text/html": [
       "<div>\n",
       "<style scoped>\n",
       "    .dataframe tbody tr th:only-of-type {\n",
       "        vertical-align: middle;\n",
       "    }\n",
       "\n",
       "    .dataframe tbody tr th {\n",
       "        vertical-align: top;\n",
       "    }\n",
       "\n",
       "    .dataframe thead th {\n",
       "        text-align: right;\n",
       "    }\n",
       "</style>\n",
       "<table border=\"1\" class=\"dataframe\">\n",
       "  <thead>\n",
       "    <tr style=\"text-align: right;\">\n",
       "      <th></th>\n",
       "      <th>Strategy</th>\n",
       "      <th>Total Return</th>\n",
       "      <th>MDD</th>\n",
       "      <th>Sharpe Ratio</th>\n",
       "      <th>1y_return-to-vol</th>\n",
       "    </tr>\n",
       "  </thead>\n",
       "  <tbody>\n",
       "    <tr>\n",
       "      <th>0</th>\n",
       "      <td>combined_factor_10pct_equal_weighted</td>\n",
       "      <td>0.223367</td>\n",
       "      <td>-0.062956</td>\n",
       "      <td>NaN</td>\n",
       "      <td>0.266012</td>\n",
       "    </tr>\n",
       "    <tr>\n",
       "      <th>1</th>\n",
       "      <td>combined_factor_10pct_value_weighted</td>\n",
       "      <td>0.410306</td>\n",
       "      <td>-0.196061</td>\n",
       "      <td>NaN</td>\n",
       "      <td>0.053615</td>\n",
       "    </tr>\n",
       "    <tr>\n",
       "      <th>2</th>\n",
       "      <td>combined_factor_20pct_equal_weighted</td>\n",
       "      <td>0.087971</td>\n",
       "      <td>-0.086645</td>\n",
       "      <td>NaN</td>\n",
       "      <td>-0.059092</td>\n",
       "    </tr>\n",
       "    <tr>\n",
       "      <th>3</th>\n",
       "      <td>combined_factor_20pct_value_weighted</td>\n",
       "      <td>0.416030</td>\n",
       "      <td>-0.183110</td>\n",
       "      <td>NaN</td>\n",
       "      <td>0.137554</td>\n",
       "    </tr>\n",
       "    <tr>\n",
       "      <th>4</th>\n",
       "      <td>combined_factor_30pct_equal_weighted</td>\n",
       "      <td>0.185868</td>\n",
       "      <td>-0.073974</td>\n",
       "      <td>NaN</td>\n",
       "      <td>0.025294</td>\n",
       "    </tr>\n",
       "    <tr>\n",
       "      <th>5</th>\n",
       "      <td>combined_factor_30pct_value_weighted</td>\n",
       "      <td>0.418503</td>\n",
       "      <td>-0.199603</td>\n",
       "      <td>NaN</td>\n",
       "      <td>0.151353</td>\n",
       "    </tr>\n",
       "    <tr>\n",
       "      <th>6</th>\n",
       "      <td>combined_factor_40pct_equal_weighted</td>\n",
       "      <td>0.157378</td>\n",
       "      <td>-0.037379</td>\n",
       "      <td>NaN</td>\n",
       "      <td>0.141788</td>\n",
       "    </tr>\n",
       "    <tr>\n",
       "      <th>7</th>\n",
       "      <td>combined_factor_40pct_value_weighted</td>\n",
       "      <td>0.441946</td>\n",
       "      <td>-0.197383</td>\n",
       "      <td>NaN</td>\n",
       "      <td>0.153333</td>\n",
       "    </tr>\n",
       "  </tbody>\n",
       "</table>\n",
       "</div>"
      ],
      "text/plain": [
       "                               Strategy  Total Return       MDD Sharpe Ratio  \\\n",
       "0  combined_factor_10pct_equal_weighted      0.223367 -0.062956          NaN   \n",
       "1  combined_factor_10pct_value_weighted      0.410306 -0.196061          NaN   \n",
       "2  combined_factor_20pct_equal_weighted      0.087971 -0.086645          NaN   \n",
       "3  combined_factor_20pct_value_weighted      0.416030 -0.183110          NaN   \n",
       "4  combined_factor_30pct_equal_weighted      0.185868 -0.073974          NaN   \n",
       "5  combined_factor_30pct_value_weighted      0.418503 -0.199603          NaN   \n",
       "6  combined_factor_40pct_equal_weighted      0.157378 -0.037379          NaN   \n",
       "7  combined_factor_40pct_value_weighted      0.441946 -0.197383          NaN   \n",
       "\n",
       "   1y_return-to-vol  \n",
       "0          0.266012  \n",
       "1          0.053615  \n",
       "2         -0.059092  \n",
       "3          0.137554  \n",
       "4          0.025294  \n",
       "5          0.151353  \n",
       "6          0.141788  \n",
       "7          0.153333  "
      ]
     },
     "metadata": {},
     "output_type": "display_data"
    }
   ],
   "source": [
    "\n",
    "# ---------------------------\n",
    "# 6. 백테스트 결과 시각화 (Plotly Express 사용)\n",
    "# ---------------------------\n",
    "\n",
    "# 누적 포트폴리오 수익률 그래프\n",
    "fig = px.line(title='Cumulative Portfolio Returns of Strategies')\n",
    "\n",
    "for strategy, perf in performance_results.items():\n",
    "    cumulative_return = (1 + perf['Portfolio_Return']).cumprod() - 1\n",
    "    fig.add_scatter(x=cumulative_return.index, y=cumulative_return.values, mode='lines', name=strategy)\n",
    "\n",
    "fig.update_layout(xaxis_title='Date', yaxis_title='Cumulative Portfolio Return')\n",
    "fig.show()\n",
    "\n",
    "# ---------------------------\n",
    "# 7. 성과 지표 추가 (누적 수익률, MDD, Sharpe Ratio)\n",
    "# ---------------------------\n",
    "\n",
    "summary = pd.DataFrame(columns=['Strategy', 'Total Return', 'MDD', 'Sharpe Ratio'])\n",
    "\n",
    "for strategy, perf in performance_results.items():\n",
    "    # 누적 수익률 계산\n",
    "    perf['Cumulative_Return'] = (1 + perf['Portfolio_Return']).cumprod() - 1\n",
    "\n",
    "    # 최대 낙폭(MDD) 계산\n",
    "    running_max = (1 + perf['Cumulative_Return']).cummax()\n",
    "    drawdown = (1 + perf['Cumulative_Return']) / running_max - 1\n",
    "    mdd = drawdown.min()\n",
    "\n",
    "\n",
    "    # (재필) 앞부분처럼 샤프 계산 부분 수정\n",
    "\n",
    "    # sharpe_ratio = (perf['Excess_Return'].mean() / perf['Excess_Return'].std()) * np.sqrt(12) if perf['Excess_Return'].std() != 0 else np.nan\n",
    "    perf['rolling_rtv'] = perf['Portfolio_Return'].rolling(12).mean() / perf['Portfolio_Return'].rolling(12).std()\n",
    "    \n",
    "    # 성과 요약 추가\n",
    "    summary = pd.concat([summary, pd.DataFrame([{\n",
    "        'Strategy': strategy,\n",
    "        'Total Return': perf['Cumulative_Return'].iloc[-1],\n",
    "        'MDD': mdd,\n",
    "        # 'Sharpe Ratio': perf['rolling_rtv'].iloc[-1]\n",
    "        '1y_return-to-vol': perf['rolling_rtv'].iloc[-1] # 지난 1년간의 샤프만 계산\n",
    "        # 'mean_return-to-vol': perf['rolling_rtv'].mean() # 또는 기간 동안의 평균 샤프 계산\n",
    "    }])], ignore_index=True)\n",
    "\n",
    "# ---------------------------\n",
    "# 8. 최종 성과 요약 출력\n",
    "# ---------------------------\n",
    "\n",
    "print(\"Performance Summary:\")\n",
    "display(summary)\n",
    "\n",
    "# ---------------------------\n",
    "# 9. 추가적인 디버깅: 각 전략과 날짜별 롱/숏 종목 수와 수익률 출력 및 CSV 파일 저장\n",
    "# ---------------------------\n",
    "\n",
    "# 결과를 저장할 디렉토리 설정\n",
    "output_dir = 'backtest_results'\n",
    "os.makedirs(output_dir, exist_ok=True)\n",
    "\n",
    "# # 모든 전략의 로그를 순회하여 CSV 파일로 저장\n",
    "# for strategy, log_df in strategy_logs.items():\n",
    "#     # 파일명 생성: 전략명과 세부 설정을 포함\n",
    "#     filename = f\"{strategy}.csv\"\n",
    "#     filepath = os.path.join(output_dir, filename)\n",
    "\n",
    "#     # CSV 파일로 저장\n",
    "#     log_df.to_csv(filepath, index=False)\n",
    "\n",
    "#     print(f\"Saved {filepath}\")"
   ]
  },
  {
   "cell_type": "code",
   "execution_count": null,
   "id": "ac281b51-09de-49a5-a100-a54f537988d0",
   "metadata": {},
   "outputs": [],
   "source": []
  },
  {
   "cell_type": "code",
   "execution_count": null,
   "id": "42fac621",
   "metadata": {},
   "outputs": [],
   "source": []
  }
 ],
 "metadata": {
  "kernelspec": {
   "display_name": ".venv",
   "language": "python",
   "name": "python3"
  },
  "language_info": {
   "codemirror_mode": {
    "name": "ipython",
    "version": 3
   },
   "file_extension": ".py",
   "mimetype": "text/x-python",
   "name": "python",
   "nbconvert_exporter": "python",
   "pygments_lexer": "ipython3",
   "version": "3.11.5"
  }
 },
 "nbformat": 4,
 "nbformat_minor": 5
}
